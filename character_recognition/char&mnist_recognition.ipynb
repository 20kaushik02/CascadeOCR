{
 "cells": [
  {
   "cell_type": "code",
<<<<<<< HEAD
   "execution_count": 41,
=======
   "execution_count": 162,
>>>>>>> 4cd2dbf6d245f4409d2855f08f428d03c20ce702
   "id": "d7c7ab74",
   "metadata": {},
   "outputs": [],
   "source": [
    "import pandas as pd\n",
    "import matplotlib.pyplot as plt\n",
    "import seaborn as sns\n",
<<<<<<< HEAD
    "import random\n",
=======
>>>>>>> 4cd2dbf6d245f4409d2855f08f428d03c20ce702
    "sns.set_theme()"
   ]
  },
  {
   "cell_type": "code",
<<<<<<< HEAD
   "execution_count": 2,
=======
   "execution_count": 163,
>>>>>>> 4cd2dbf6d245f4409d2855f08f428d03c20ce702
   "id": "9373dfcf",
   "metadata": {},
   "outputs": [],
   "source": [
    "import tensorflow as tf"
   ]
  },
  {
   "cell_type": "code",
<<<<<<< HEAD
   "execution_count": 3,
=======
   "execution_count": 164,
>>>>>>> 4cd2dbf6d245f4409d2855f08f428d03c20ce702
   "id": "49e13b70",
   "metadata": {},
   "outputs": [],
   "source": [
    "from tensorflow.keras import Sequential\n",
    "from tensorflow.keras.layers import Dense\n",
    "from tensorflow.keras.layers import Dropout\n",
    "from tensorflow.keras.layers import Flatten\n",
    "from tensorflow.keras.layers import Conv2D\n",
    "from tensorflow.keras.layers import MaxPooling2D\n",
    "from tensorflow.keras.utils import to_categorical"
   ]
  },
  {
   "cell_type": "code",
<<<<<<< HEAD
   "execution_count": 4,
=======
   "execution_count": 165,
>>>>>>> 4cd2dbf6d245f4409d2855f08f428d03c20ce702
   "id": "cf07ba74",
   "metadata": {},
   "outputs": [],
   "source": [
    "from sklearn.preprocessing import MinMaxScaler\n",
    "from sklearn.model_selection import train_test_split\n",
    "from sklearn.utils import shuffle\n",
    "from sklearn.metrics import confusion_matrix"
   ]
  },
  {
   "cell_type": "code",
<<<<<<< HEAD
   "execution_count": 5,
=======
   "execution_count": 166,
>>>>>>> 4cd2dbf6d245f4409d2855f08f428d03c20ce702
   "id": "5b637dad",
   "metadata": {},
   "outputs": [],
   "source": [
    "import warnings\n",
    "warnings.filterwarnings('ignore') "
   ]
  },
  {
   "cell_type": "code",
<<<<<<< HEAD
   "execution_count": 6,
=======
   "execution_count": 167,
>>>>>>> 4cd2dbf6d245f4409d2855f08f428d03c20ce702
   "id": "e39f177d",
   "metadata": {},
   "outputs": [],
   "source": [
<<<<<<< HEAD
    "dataset = pd.read_csv(\"../../data/A_Z Handwritten Data.csv\").astype('float32')\n",
    "dataset.rename(columns={'0':'label'}, inplace=True)\n",
    "mnist_data = pd.read_csv(\"../../data/mnist_train.csv\").astype('float32')\n",
=======
    "dataset = pd.read_csv(\"../data/A_Z Handwritten Data.csv\").astype('float32')\n",
    "dataset.rename(columns={'0':'label'}, inplace=True)\n",
    "mnist_data = pd.read_csv(\"../data/mnist_train.csv\").astype('float32')\n",
>>>>>>> 4cd2dbf6d245f4409d2855f08f428d03c20ce702
    "mnist_data.rename(columns={'0':'label'}, inplace=True)"
   ]
  },
  {
   "cell_type": "code",
<<<<<<< HEAD
   "execution_count": 7,
   "id": "2052fd02",
   "metadata": {},
   "outputs": [],
=======
   "execution_count": 168,
   "id": "2052fd02",
   "metadata": {},
   "outputs": [
    {
     "data": {
      "text/html": [
       "<div>\n",
       "<style scoped>\n",
       "    .dataframe tbody tr th:only-of-type {\n",
       "        vertical-align: middle;\n",
       "    }\n",
       "\n",
       "    .dataframe tbody tr th {\n",
       "        vertical-align: top;\n",
       "    }\n",
       "\n",
       "    .dataframe thead th {\n",
       "        text-align: right;\n",
       "    }\n",
       "</style>\n",
       "<table border=\"1\" class=\"dataframe\">\n",
       "  <thead>\n",
       "    <tr style=\"text-align: right;\">\n",
       "      <th></th>\n",
       "      <th>label</th>\n",
       "      <th>1x1</th>\n",
       "      <th>1x2</th>\n",
       "      <th>1x3</th>\n",
       "      <th>1x4</th>\n",
       "      <th>1x5</th>\n",
       "      <th>1x6</th>\n",
       "      <th>1x7</th>\n",
       "      <th>1x8</th>\n",
       "      <th>1x9</th>\n",
       "      <th>...</th>\n",
       "      <th>28x19</th>\n",
       "      <th>28x20</th>\n",
       "      <th>28x21</th>\n",
       "      <th>28x22</th>\n",
       "      <th>28x23</th>\n",
       "      <th>28x24</th>\n",
       "      <th>28x25</th>\n",
       "      <th>28x26</th>\n",
       "      <th>28x27</th>\n",
       "      <th>28x28</th>\n",
       "    </tr>\n",
       "  </thead>\n",
       "  <tbody>\n",
       "    <tr>\n",
       "      <th>0</th>\n",
       "      <td>31.0</td>\n",
       "      <td>0.0</td>\n",
       "      <td>0.0</td>\n",
       "      <td>0.0</td>\n",
       "      <td>0.0</td>\n",
       "      <td>0.0</td>\n",
       "      <td>0.0</td>\n",
       "      <td>0.0</td>\n",
       "      <td>0.0</td>\n",
       "      <td>0.0</td>\n",
       "      <td>...</td>\n",
       "      <td>0.0</td>\n",
       "      <td>0.0</td>\n",
       "      <td>0.0</td>\n",
       "      <td>0.0</td>\n",
       "      <td>0.0</td>\n",
       "      <td>0.0</td>\n",
       "      <td>0.0</td>\n",
       "      <td>0.0</td>\n",
       "      <td>0.0</td>\n",
       "      <td>0.0</td>\n",
       "    </tr>\n",
       "    <tr>\n",
       "      <th>1</th>\n",
       "      <td>26.0</td>\n",
       "      <td>0.0</td>\n",
       "      <td>0.0</td>\n",
       "      <td>0.0</td>\n",
       "      <td>0.0</td>\n",
       "      <td>0.0</td>\n",
       "      <td>0.0</td>\n",
       "      <td>0.0</td>\n",
       "      <td>0.0</td>\n",
       "      <td>0.0</td>\n",
       "      <td>...</td>\n",
       "      <td>0.0</td>\n",
       "      <td>0.0</td>\n",
       "      <td>0.0</td>\n",
       "      <td>0.0</td>\n",
       "      <td>0.0</td>\n",
       "      <td>0.0</td>\n",
       "      <td>0.0</td>\n",
       "      <td>0.0</td>\n",
       "      <td>0.0</td>\n",
       "      <td>0.0</td>\n",
       "    </tr>\n",
       "    <tr>\n",
       "      <th>2</th>\n",
       "      <td>30.0</td>\n",
       "      <td>0.0</td>\n",
       "      <td>0.0</td>\n",
       "      <td>0.0</td>\n",
       "      <td>0.0</td>\n",
       "      <td>0.0</td>\n",
       "      <td>0.0</td>\n",
       "      <td>0.0</td>\n",
       "      <td>0.0</td>\n",
       "      <td>0.0</td>\n",
       "      <td>...</td>\n",
       "      <td>0.0</td>\n",
       "      <td>0.0</td>\n",
       "      <td>0.0</td>\n",
       "      <td>0.0</td>\n",
       "      <td>0.0</td>\n",
       "      <td>0.0</td>\n",
       "      <td>0.0</td>\n",
       "      <td>0.0</td>\n",
       "      <td>0.0</td>\n",
       "      <td>0.0</td>\n",
       "    </tr>\n",
       "    <tr>\n",
       "      <th>3</th>\n",
       "      <td>27.0</td>\n",
       "      <td>0.0</td>\n",
       "      <td>0.0</td>\n",
       "      <td>0.0</td>\n",
       "      <td>0.0</td>\n",
       "      <td>0.0</td>\n",
       "      <td>0.0</td>\n",
       "      <td>0.0</td>\n",
       "      <td>0.0</td>\n",
       "      <td>0.0</td>\n",
       "      <td>...</td>\n",
       "      <td>0.0</td>\n",
       "      <td>0.0</td>\n",
       "      <td>0.0</td>\n",
       "      <td>0.0</td>\n",
       "      <td>0.0</td>\n",
       "      <td>0.0</td>\n",
       "      <td>0.0</td>\n",
       "      <td>0.0</td>\n",
       "      <td>0.0</td>\n",
       "      <td>0.0</td>\n",
       "    </tr>\n",
       "    <tr>\n",
       "      <th>4</th>\n",
       "      <td>35.0</td>\n",
       "      <td>0.0</td>\n",
       "      <td>0.0</td>\n",
       "      <td>0.0</td>\n",
       "      <td>0.0</td>\n",
       "      <td>0.0</td>\n",
       "      <td>0.0</td>\n",
       "      <td>0.0</td>\n",
       "      <td>0.0</td>\n",
       "      <td>0.0</td>\n",
       "      <td>...</td>\n",
       "      <td>0.0</td>\n",
       "      <td>0.0</td>\n",
       "      <td>0.0</td>\n",
       "      <td>0.0</td>\n",
       "      <td>0.0</td>\n",
       "      <td>0.0</td>\n",
       "      <td>0.0</td>\n",
       "      <td>0.0</td>\n",
       "      <td>0.0</td>\n",
       "      <td>0.0</td>\n",
       "    </tr>\n",
       "    <tr>\n",
       "      <th>...</th>\n",
       "      <td>...</td>\n",
       "      <td>...</td>\n",
       "      <td>...</td>\n",
       "      <td>...</td>\n",
       "      <td>...</td>\n",
       "      <td>...</td>\n",
       "      <td>...</td>\n",
       "      <td>...</td>\n",
       "      <td>...</td>\n",
       "      <td>...</td>\n",
       "      <td>...</td>\n",
       "      <td>...</td>\n",
       "      <td>...</td>\n",
       "      <td>...</td>\n",
       "      <td>...</td>\n",
       "      <td>...</td>\n",
       "      <td>...</td>\n",
       "      <td>...</td>\n",
       "      <td>...</td>\n",
       "      <td>...</td>\n",
       "      <td>...</td>\n",
       "    </tr>\n",
       "    <tr>\n",
       "      <th>59995</th>\n",
       "      <td>34.0</td>\n",
       "      <td>0.0</td>\n",
       "      <td>0.0</td>\n",
       "      <td>0.0</td>\n",
       "      <td>0.0</td>\n",
       "      <td>0.0</td>\n",
       "      <td>0.0</td>\n",
       "      <td>0.0</td>\n",
       "      <td>0.0</td>\n",
       "      <td>0.0</td>\n",
       "      <td>...</td>\n",
       "      <td>0.0</td>\n",
       "      <td>0.0</td>\n",
       "      <td>0.0</td>\n",
       "      <td>0.0</td>\n",
       "      <td>0.0</td>\n",
       "      <td>0.0</td>\n",
       "      <td>0.0</td>\n",
       "      <td>0.0</td>\n",
       "      <td>0.0</td>\n",
       "      <td>0.0</td>\n",
       "    </tr>\n",
       "    <tr>\n",
       "      <th>59996</th>\n",
       "      <td>29.0</td>\n",
       "      <td>0.0</td>\n",
       "      <td>0.0</td>\n",
       "      <td>0.0</td>\n",
       "      <td>0.0</td>\n",
       "      <td>0.0</td>\n",
       "      <td>0.0</td>\n",
       "      <td>0.0</td>\n",
       "      <td>0.0</td>\n",
       "      <td>0.0</td>\n",
       "      <td>...</td>\n",
       "      <td>0.0</td>\n",
       "      <td>0.0</td>\n",
       "      <td>0.0</td>\n",
       "      <td>0.0</td>\n",
       "      <td>0.0</td>\n",
       "      <td>0.0</td>\n",
       "      <td>0.0</td>\n",
       "      <td>0.0</td>\n",
       "      <td>0.0</td>\n",
       "      <td>0.0</td>\n",
       "    </tr>\n",
       "    <tr>\n",
       "      <th>59997</th>\n",
       "      <td>31.0</td>\n",
       "      <td>0.0</td>\n",
       "      <td>0.0</td>\n",
       "      <td>0.0</td>\n",
       "      <td>0.0</td>\n",
       "      <td>0.0</td>\n",
       "      <td>0.0</td>\n",
       "      <td>0.0</td>\n",
       "      <td>0.0</td>\n",
       "      <td>0.0</td>\n",
       "      <td>...</td>\n",
       "      <td>0.0</td>\n",
       "      <td>0.0</td>\n",
       "      <td>0.0</td>\n",
       "      <td>0.0</td>\n",
       "      <td>0.0</td>\n",
       "      <td>0.0</td>\n",
       "      <td>0.0</td>\n",
       "      <td>0.0</td>\n",
       "      <td>0.0</td>\n",
       "      <td>0.0</td>\n",
       "    </tr>\n",
       "    <tr>\n",
       "      <th>59998</th>\n",
       "      <td>32.0</td>\n",
       "      <td>0.0</td>\n",
       "      <td>0.0</td>\n",
       "      <td>0.0</td>\n",
       "      <td>0.0</td>\n",
       "      <td>0.0</td>\n",
       "      <td>0.0</td>\n",
       "      <td>0.0</td>\n",
       "      <td>0.0</td>\n",
       "      <td>0.0</td>\n",
       "      <td>...</td>\n",
       "      <td>0.0</td>\n",
       "      <td>0.0</td>\n",
       "      <td>0.0</td>\n",
       "      <td>0.0</td>\n",
       "      <td>0.0</td>\n",
       "      <td>0.0</td>\n",
       "      <td>0.0</td>\n",
       "      <td>0.0</td>\n",
       "      <td>0.0</td>\n",
       "      <td>0.0</td>\n",
       "    </tr>\n",
       "    <tr>\n",
       "      <th>59999</th>\n",
       "      <td>34.0</td>\n",
       "      <td>0.0</td>\n",
       "      <td>0.0</td>\n",
       "      <td>0.0</td>\n",
       "      <td>0.0</td>\n",
       "      <td>0.0</td>\n",
       "      <td>0.0</td>\n",
       "      <td>0.0</td>\n",
       "      <td>0.0</td>\n",
       "      <td>0.0</td>\n",
       "      <td>...</td>\n",
       "      <td>0.0</td>\n",
       "      <td>0.0</td>\n",
       "      <td>0.0</td>\n",
       "      <td>0.0</td>\n",
       "      <td>0.0</td>\n",
       "      <td>0.0</td>\n",
       "      <td>0.0</td>\n",
       "      <td>0.0</td>\n",
       "      <td>0.0</td>\n",
       "      <td>0.0</td>\n",
       "    </tr>\n",
       "  </tbody>\n",
       "</table>\n",
       "<p>60000 rows × 785 columns</p>\n",
       "</div>"
      ],
      "text/plain": [
       "       label  1x1  1x2  1x3  1x4  1x5  1x6  1x7  1x8  1x9  ...  28x19  28x20  \\\n",
       "0       31.0  0.0  0.0  0.0  0.0  0.0  0.0  0.0  0.0  0.0  ...    0.0    0.0   \n",
       "1       26.0  0.0  0.0  0.0  0.0  0.0  0.0  0.0  0.0  0.0  ...    0.0    0.0   \n",
       "2       30.0  0.0  0.0  0.0  0.0  0.0  0.0  0.0  0.0  0.0  ...    0.0    0.0   \n",
       "3       27.0  0.0  0.0  0.0  0.0  0.0  0.0  0.0  0.0  0.0  ...    0.0    0.0   \n",
       "4       35.0  0.0  0.0  0.0  0.0  0.0  0.0  0.0  0.0  0.0  ...    0.0    0.0   \n",
       "...      ...  ...  ...  ...  ...  ...  ...  ...  ...  ...  ...    ...    ...   \n",
       "59995   34.0  0.0  0.0  0.0  0.0  0.0  0.0  0.0  0.0  0.0  ...    0.0    0.0   \n",
       "59996   29.0  0.0  0.0  0.0  0.0  0.0  0.0  0.0  0.0  0.0  ...    0.0    0.0   \n",
       "59997   31.0  0.0  0.0  0.0  0.0  0.0  0.0  0.0  0.0  0.0  ...    0.0    0.0   \n",
       "59998   32.0  0.0  0.0  0.0  0.0  0.0  0.0  0.0  0.0  0.0  ...    0.0    0.0   \n",
       "59999   34.0  0.0  0.0  0.0  0.0  0.0  0.0  0.0  0.0  0.0  ...    0.0    0.0   \n",
       "\n",
       "       28x21  28x22  28x23  28x24  28x25  28x26  28x27  28x28  \n",
       "0        0.0    0.0    0.0    0.0    0.0    0.0    0.0    0.0  \n",
       "1        0.0    0.0    0.0    0.0    0.0    0.0    0.0    0.0  \n",
       "2        0.0    0.0    0.0    0.0    0.0    0.0    0.0    0.0  \n",
       "3        0.0    0.0    0.0    0.0    0.0    0.0    0.0    0.0  \n",
       "4        0.0    0.0    0.0    0.0    0.0    0.0    0.0    0.0  \n",
       "...      ...    ...    ...    ...    ...    ...    ...    ...  \n",
       "59995    0.0    0.0    0.0    0.0    0.0    0.0    0.0    0.0  \n",
       "59996    0.0    0.0    0.0    0.0    0.0    0.0    0.0    0.0  \n",
       "59997    0.0    0.0    0.0    0.0    0.0    0.0    0.0    0.0  \n",
       "59998    0.0    0.0    0.0    0.0    0.0    0.0    0.0    0.0  \n",
       "59999    0.0    0.0    0.0    0.0    0.0    0.0    0.0    0.0  \n",
       "\n",
       "[60000 rows x 785 columns]"
      ]
     },
     "execution_count": 168,
     "metadata": {},
     "output_type": "execute_result"
    }
   ],
>>>>>>> 4cd2dbf6d245f4409d2855f08f428d03c20ce702
   "source": [
    "mnist_data.iloc[:,0] = mnist_data.iloc[:,0].replace({0.0:26.0, 1.0:27.0, 2.0:28.0, 3.0:29.0, 4.0:30.0, 5.0:31.0, 6.0:32.0, \n",
    "                                                    7.0:33.0, 8.0:34.0, 9.0:35.0})"
   ]
  },
  {
   "cell_type": "code",
<<<<<<< HEAD
   "execution_count": 8,
=======
   "execution_count": 169,
>>>>>>> 4cd2dbf6d245f4409d2855f08f428d03c20ce702
   "id": "01fc142f",
   "metadata": {},
   "outputs": [],
   "source": [
    "dataset = dataset.append(mnist_data)"
   ]
  },
  {
   "cell_type": "code",
<<<<<<< HEAD
   "execution_count": 9,
=======
   "execution_count": 170,
>>>>>>> 4cd2dbf6d245f4409d2855f08f428d03c20ce702
   "id": "2173d923",
   "metadata": {},
   "outputs": [],
   "source": [
    "X = dataset.drop('label',axis = 1)\n",
    "y = dataset['label']"
   ]
  },
  {
   "cell_type": "code",
<<<<<<< HEAD
   "execution_count": 10,
=======
   "execution_count": 173,
>>>>>>> 4cd2dbf6d245f4409d2855f08f428d03c20ce702
   "id": "e2c50bdb",
   "metadata": {},
   "outputs": [
    {
     "data": {
<<<<<<< HEAD
      "image/png": "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\n",
=======
      "image/png": "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\n",
>>>>>>> 4cd2dbf6d245f4409d2855f08f428d03c20ce702
      "text/plain": [
       "<Figure size 216x180 with 4 Axes>"
      ]
     },
<<<<<<< HEAD
     "metadata": {
      "needs_background": "light"
     },
=======
     "metadata": {},
>>>>>>> 4cd2dbf6d245f4409d2855f08f428d03c20ce702
     "output_type": "display_data"
    }
   ],
   "source": [
    "X_shuffle = shuffle(X)\n",
    "\n",
    "plt.figure(figsize = (3,2.5), frameon=False)\n",
    "plt.rcParams[\"axes.grid\"] = False\n",
    "row, col = 2, 2\n",
    "for i in range(4):  \n",
    "    plt.subplot(col, row, i+1)\n",
    "    plt.imshow(\n",
    "\t\tX_shuffle.iloc[i].values.reshape(28,28),\n",
    "\t\tinterpolation='nearest', cmap='Greys')\n",
    "plt.show()"
   ]
  },
  {
   "cell_type": "code",
<<<<<<< HEAD
   "execution_count": 11,
=======
   "execution_count": 174,
>>>>>>> 4cd2dbf6d245f4409d2855f08f428d03c20ce702
   "id": "e94de286",
   "metadata": {},
   "outputs": [
    {
     "data": {
<<<<<<< HEAD
      "image/png": "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\n",
=======
      "image/png": "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\n",
>>>>>>> 4cd2dbf6d245f4409d2855f08f428d03c20ce702
      "text/plain": [
       "<Figure size 432x432 with 1 Axes>"
      ]
     },
<<<<<<< HEAD
     "metadata": {
      "needs_background": "light"
     },
=======
     "metadata": {},
>>>>>>> 4cd2dbf6d245f4409d2855f08f428d03c20ce702
     "output_type": "display_data"
    }
   ],
   "source": [
    "label_mapper = {\n",
    "\t0:'A', 1:'B', 2:'C', 3:'D', 4:'E', 5:'F', 6:'G', 7:'H', 8:'I', 9:'J', 10:'K', 11:'L', 12:'M', 13:'N', 14:'O', 15:'P', 16:'Q', 17:'R', 18:'S', 19:'T', 20:'U', 21:'V', 22:'W', 23:'X', 24:'Y', 25:'Z'\n",
    "    ,26:'0', 27:'1', 28:'2', 29:'3', 30:'4', 31:'5', 32:'6', 33:'7', 34:'8', 35:'9'}\n",
    "dataset['label'] = dataset['label'].map(label_mapper)\n",
    "label_size = dataset.groupby('label').size()\n",
    "label_size.plot.barh(figsize=(6,6))\n",
    "\n",
    "plt.title(\"Character class counts\")\n",
    "plt.show()"
   ]
  },
  {
   "cell_type": "code",
<<<<<<< HEAD
   "execution_count": 12,
=======
   "execution_count": 175,
>>>>>>> 4cd2dbf6d245f4409d2855f08f428d03c20ce702
   "id": "1b9491a9",
   "metadata": {},
   "outputs": [],
   "source": [
    "# split data+labels\n",
    "X_train, X_test, y_train, y_test = train_test_split(X,y)\n",
    "\n",
    "# scale data\n",
    "standard_scaler = MinMaxScaler()\n",
    "X_train = standard_scaler.fit_transform(X_train)\n",
    "X_test = standard_scaler.transform(X_test)"
   ]
  },
  {
   "cell_type": "code",
<<<<<<< HEAD
   "execution_count": 13,
=======
   "execution_count": 176,
>>>>>>> 4cd2dbf6d245f4409d2855f08f428d03c20ce702
   "id": "ad103431",
   "metadata": {},
   "outputs": [
    {
     "data": {
<<<<<<< HEAD
      "image/png": "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\n",
=======
      "image/png": "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\n",
>>>>>>> 4cd2dbf6d245f4409d2855f08f428d03c20ce702
      "text/plain": [
       "<Figure size 360x288 with 4 Axes>"
      ]
     },
<<<<<<< HEAD
     "metadata": {
      "needs_background": "light"
     },
=======
     "metadata": {},
>>>>>>> 4cd2dbf6d245f4409d2855f08f428d03c20ce702
     "output_type": "display_data"
    }
   ],
   "source": [
    "X_shuffle = shuffle(X_train)\n",
    "\n",
    "plt.figure(figsize = (5, 4), frameon=False)\n",
    "plt.rcParams[\"axes.grid\"] = False\n",
    "plt.axis('off')\n",
    "row, col = 2, 2\n",
    "for i in range(4):  \n",
    "    plt.subplot(col, row, i+1)\n",
    "    plt.imshow(\n",
    "\t\tX_shuffle[i].reshape(28,28),\n",
    "\t\tinterpolation='nearest', cmap='Greys')\n",
    "plt.show()"
   ]
  },
  {
   "cell_type": "code",
<<<<<<< HEAD
   "execution_count": 14,
=======
   "execution_count": 178,
>>>>>>> 4cd2dbf6d245f4409d2855f08f428d03c20ce702
   "id": "a4d7adb7",
   "metadata": {},
   "outputs": [],
   "source": [
    "# reshaping 1D array to 2D: 784 = 28*28\n",
    "X_train = X_train.reshape(X_train.shape[0], 28, 28, 1).astype('float32')\n",
    "X_test = X_test.reshape(X_test.shape[0], 28, 28, 1).astype('float32')\n",
    "\n",
    "y_train = to_categorical(y_train)\n",
    "y_test = to_categorical(y_test)"
   ]
  },
  {
   "cell_type": "code",
<<<<<<< HEAD
   "execution_count": 15,
=======
   "execution_count": 179,
>>>>>>> 4cd2dbf6d245f4409d2855f08f428d03c20ce702
   "id": "73ca4788",
   "metadata": {},
   "outputs": [],
   "source": [
    "#define model\n",
    "model = Sequential()\n",
    "model.add(Conv2D(32, (5, 5), input_shape=(28, 28, 1), activation='relu'))\n",
    "model.add(MaxPooling2D(pool_size=(2, 2)))\n",
    "model.add(Dropout(0.3))\n",
    "model.add(Flatten())\n",
    "model.add(Dense(128, activation='relu'))\n",
    "model.add(Dense(len(y.unique()), activation='softmax'))"
   ]
  },
  {
   "cell_type": "code",
<<<<<<< HEAD
   "execution_count": 16,
=======
   "execution_count": 180,
>>>>>>> 4cd2dbf6d245f4409d2855f08f428d03c20ce702
   "id": "f02cecf2",
   "metadata": {},
   "outputs": [
    {
     "name": "stdout",
     "output_type": "stream",
     "text": [
<<<<<<< HEAD
      "Model: \"sequential\"\n",
      "_________________________________________________________________\n",
      " Layer (type)                Output Shape              Param #   \n",
      "=================================================================\n",
      " conv2d (Conv2D)             (None, 24, 24, 32)        832       \n",
      "                                                                 \n",
      " max_pooling2d (MaxPooling2D  (None, 12, 12, 32)       0         \n",
      " )                                                               \n",
      "                                                                 \n",
      " dropout (Dropout)           (None, 12, 12, 32)        0         \n",
      "                                                                 \n",
      " flatten (Flatten)           (None, 4608)              0         \n",
      "                                                                 \n",
      " dense (Dense)               (None, 128)               589952    \n",
      "                                                                 \n",
      " dense_1 (Dense)             (None, 36)                4644      \n",
=======
      "Model: \"sequential_5\"\n",
      "_________________________________________________________________\n",
      " Layer (type)                Output Shape              Param #   \n",
      "=================================================================\n",
      " conv2d_5 (Conv2D)           (None, 24, 24, 32)        832       \n",
      "                                                                 \n",
      " max_pooling2d_5 (MaxPooling  (None, 12, 12, 32)       0         \n",
      " 2D)                                                             \n",
      "                                                                 \n",
      " dropout_5 (Dropout)         (None, 12, 12, 32)        0         \n",
      "                                                                 \n",
      " flatten_5 (Flatten)         (None, 4608)              0         \n",
      "                                                                 \n",
      " dense_10 (Dense)            (None, 128)               589952    \n",
      "                                                                 \n",
      " dense_11 (Dense)            (None, 36)                4644      \n",
>>>>>>> 4cd2dbf6d245f4409d2855f08f428d03c20ce702
      "                                                                 \n",
      "=================================================================\n",
      "Total params: 595,428\n",
      "Trainable params: 595,428\n",
      "Non-trainable params: 0\n",
      "_________________________________________________________________\n"
     ]
    }
   ],
   "source": [
    "# compile model\n",
    "\n",
    "model.compile(\n",
    "\tloss='categorical_crossentropy',\n",
    "\toptimizer='adam',\n",
    "\tmetrics=['accuracy']\n",
    ")\n",
    "model.summary()"
   ]
  },
  {
   "cell_type": "code",
<<<<<<< HEAD
   "execution_count": 17,
=======
   "execution_count": 181,
>>>>>>> 4cd2dbf6d245f4409d2855f08f428d03c20ce702
   "id": "5a10f39a",
   "metadata": {},
   "outputs": [
    {
     "name": "stdout",
     "output_type": "stream",
     "text": [
      "Epoch 1/5\n",
<<<<<<< HEAD
      "1622/1622 - 103s - loss: 0.3101 - accuracy: 0.9152 - val_loss: 0.1386 - val_accuracy: 0.9616 - 103s/epoch - 63ms/step\n",
      "Epoch 2/5\n",
      "1622/1622 - 103s - loss: 0.1293 - accuracy: 0.9635 - val_loss: 0.1119 - val_accuracy: 0.9692 - 103s/epoch - 63ms/step\n",
      "Epoch 3/5\n",
      "1622/1622 - 105s - loss: 0.0997 - accuracy: 0.9716 - val_loss: 0.0902 - val_accuracy: 0.9747 - 105s/epoch - 65ms/step\n",
      "Epoch 4/5\n",
      "1622/1622 - 97s - loss: 0.0829 - accuracy: 0.9760 - val_loss: 0.0846 - val_accuracy: 0.9769 - 97s/epoch - 60ms/step\n",
      "Epoch 5/5\n",
      "1622/1622 - 105s - loss: 0.0717 - accuracy: 0.9787 - val_loss: 0.0759 - val_accuracy: 0.9795 - 105s/epoch - 65ms/step\n"
=======
      "1622/1622 - 156s - loss: 0.3119 - accuracy: 0.9145 - val_loss: 0.1380 - val_accuracy: 0.9623 - 156s/epoch - 96ms/step\n",
      "Epoch 2/5\n",
      "1622/1622 - 149s - loss: 0.1345 - accuracy: 0.9619 - val_loss: 0.1115 - val_accuracy: 0.9704 - 149s/epoch - 92ms/step\n",
      "Epoch 3/5\n",
      "1622/1622 - 199s - loss: 0.1045 - accuracy: 0.9701 - val_loss: 0.0901 - val_accuracy: 0.9757 - 199s/epoch - 123ms/step\n",
      "Epoch 4/5\n",
      "1622/1622 - 212s - loss: 0.0872 - accuracy: 0.9749 - val_loss: 0.0823 - val_accuracy: 0.9776 - 212s/epoch - 131ms/step\n",
      "Epoch 5/5\n",
      "1622/1622 - 209s - loss: 0.0751 - accuracy: 0.9778 - val_loss: 0.0708 - val_accuracy: 0.9802 - 209s/epoch - 129ms/step\n"
>>>>>>> 4cd2dbf6d245f4409d2855f08f428d03c20ce702
     ]
    }
   ],
   "source": [
    "history = model.fit(\n",
    "\tX_train, y_train,\n",
    "\tvalidation_data=(X_test, y_test),\n",
    "\tepochs=5, batch_size=200, verbose=2\n",
    ")"
   ]
  },
  {
   "cell_type": "code",
<<<<<<< HEAD
   "execution_count": 18,
=======
   "execution_count": 183,
>>>>>>> 4cd2dbf6d245f4409d2855f08f428d03c20ce702
   "id": "ec606910",
   "metadata": {},
   "outputs": [
    {
     "name": "stdout",
     "output_type": "stream",
     "text": [
<<<<<<< HEAD
      "CNN model Score:  0.9794844388961792\n"
=======
      "CNN model Score:  0.980242908000946\n"
>>>>>>> 4cd2dbf6d245f4409d2855f08f428d03c20ce702
     ]
    }
   ],
   "source": [
    "scores = model.evaluate(X_test, y_test, verbose=0)\n",
    "print(\"CNN model Score: \", scores[1])"
   ]
  },
  {
   "cell_type": "code",
<<<<<<< HEAD
   "execution_count": 19,
=======
   "execution_count": 184,
>>>>>>> 4cd2dbf6d245f4409d2855f08f428d03c20ce702
   "id": "56c966d2",
   "metadata": {},
   "outputs": [
    {
     "data": {
<<<<<<< HEAD
      "image/png": "iVBORw0KGgoAAAANSUhEUgAAAYoAAAEXCAYAAACzhgONAAAAOXRFWHRTb2Z0d2FyZQBNYXRwbG90bGliIHZlcnNpb24zLjUuMiwgaHR0cHM6Ly9tYXRwbG90bGliLm9yZy8qNh9FAAAACXBIWXMAAAsTAAALEwEAmpwYAAAwyklEQVR4nO3deXRc1Z3u/e+pKqk0D9Zga7SEwRsMeGa0TQiQhITBkJCEQCchQ9O5ZHjJbZoMQJOhSVZ3Ok06HQh5Qyekm+bNzcq9beYhBN8EM8RgsA3YbNl4lmVbkmXLGktVdd4/TkkuybIGW6Wj4fmsVUuqM6h+Okuqp/bZZ+/juK6LiIjI8QT8LkBERCY2BYWIiAxJQSEiIkNSUIiIyJAUFCIiMiQFhYiIDElBIdOWMabGGOMaY/48yLpfJ9YVj/JnPmGMuWmYbS42xrw90uUiflNQyHTXBcw1xszuXWCMyQaW+1eSyMQS8rsAEZ/FgP8F3Aj8ILHso8CjwN/2bmSMuRn4WmL7/cBXrLV1xphy4DdAObATKE3a5wzgX4EiIAj81Fr7q5EUZYzJB+4DFgIu8DTwbWtt1BjzXeBaIAI0AzdZaxuOt3y0B0RkILUoROA/gL9Kev5Z4KHeJ8aYS4DbgfdbaxcAjwCrjDEO3pv5q9baM/GC5PTEPiHg98A3rbVLgPcBtxljzh9hTT/Fe7M/G1gKLEjsXwXcCpxjrV0KPAecd7zlozsMIoNTUMi0Z61dB8SNMUsSb7i51trkvoLLgf9lrW1MbP8QUAHUAJeRCBVr7VbghcQ+c4E5wK+MMeuBPwGZwKIRlvVh4GfWWtda2w08kFhWD2wA3jDG/DOw3lq7aojlIidNQSHi+U+8VsWnE98nG+z/xAHS8E4LOUnLo4mvQeCQtXZh7wM4H/j1COsZ+JoBIM1aG8drndyE1+K41xjzr8dbPsLXEhmSgkLE8zDwceCTeKeWkj0LfNIYUwJgjPkc3pvxVuAZ4ObE8mrg/Yl9LNBljPmrxLoq4G1gyQjreRb4sjHGMcaEE6/xB2PMgsTP2Wyt/SFwL7DgeMtHdwhEBqegEAGstfXAZmCLtfbggHV/wHvjfcEY8w5eH8aViU/xXwbmGWM2A/8OrE/sEwFWAl80xmzE6zO4y1r70ghL+hpex/hbiYcF7rHWbgB+B7xujHkd+Dzw9eMtP6GDITKAo2nGRURkKGpRiIjIkBQUIiIyJAWFiIgMSUEhIiJDmmpTeISBc4AGvKkWRERkeEGgDHgN6B64cqoFxTnAi34XISIySa0A1gxcONWCogGgpaWdeFyX/YqIjEQg4FBYmA2J99CBplpQxADicVdBISIyeoOesldntoiIDElBISIiQ5pqp55ERIbkui4tLY1EIl14k/9OH8FgiJycAjIzs0e1n4JCRKaVtrbDOI7DzJmVOM70Oaniui49PREOHWoEGFVYTJ+jJCICdHa2kZtbMK1CAsBxHNLTwxQUlNDWdmhU+06vIzUMzaQrMvXF4zGCwel7MiUtLZ1YLDr8hkkUFAn1Te186xevsv9gh9+liEiKOY4z/EZT1In87tM3VgfIzUrjUHs3j760nZuvOtPvckRkmvjxj/+Rt97aQDTaw549u6mpOQWAj3/8eq644uph97/ppht46KGBN2UcWwqKhLysdC5dUskzr+7iygtqKC8e3VUBIiIn4m//9hsANDTs5atf/ZtRv+mnOiRAQdHP5edW88Ib9Tz20na+tPIsv8sRkWnsuuuuYt68s9iyxXL//Q/yu9/9f6xb9xqtra0UFBRwzz3/RFFRMcuXL2XNmtf593//BU1NjezevYv9+/dx5ZUr+exnvzAmtSgokuRmpfOBpZU8+fJOrrygjcrSHL9LEpEUeumtBtZsHHR6o5O2fH4Zy84uO6mfcf75F/K97/2QPXt2s2vXDh544FcEAgG+//2/57nnnuFTn/qrfttv3bqF++9/kLa2I3ziE9fw0Y9+gtzc3JOqAVIcFMaYG4A7gXTgXmvtfQPWXwt8F2+K29eAm621EWNMNfAw3s3lLXCjtbYtlbX2+uA51fxx3R4efWk7X7727PF4SRGRQc2b553ZqKys4itf+TqPP76KXbt28s47b1FRUXnM9osXLyUtLY3Cwhnk5eXR3t42sYPCGFMB3AMswZvf/GVjzGpr7abE+mzgZ8Bia+1+Y8xvgZuA/xe4H7jfWvtbY8xdwF3AN1JVa7KczDQ+sLSKx17awa79R6ieefIHWUQmpmVnn/yn/lQKh8MAvPvuZr7znTu4/vobeP/7LyUYDAx6OX96enrf947jjNkl/6m8PPYy4AVr7UFrbTvwe+C63pWJZTWJkMjGaz20GGPSgIsS2wM8BHw8hXUe44PnVJEZDvHomu3j+bIiIoNav34dixYt4ZprrqOm5hTWrv0L8Xh83F4/lUFRTv+5zRuAfm0la22PMebDwC6gGHgu8bXVWhs93n6plpWRxofOreLNLU3s2Nc6ni8tInKMSy/9IFu31vHZz17P1772JebMOZWGhr3j9vpOqkYjG2O+DWRZa+9MPP8isNRa+6XjbP8DoAa4DVhrra1MLA8BbdbajBG8bA2wvbm57aTvR9HZHeX2n7/MnIp8bv34gpP6WSIycezbt5NZs2b7XYavBh6DQMChqCgHoBbYMXD7VLYo6oFZSc/LgL4INMbMMMZ8MGn9fwHzgUYgzxgTHGy/8ZIZDnH5edVsfK+Z9/YeHu+XFxGZMFIZFM8DlxpjSowxWcDHgGeS1jvAw4krnAA+Aayx1vbg3ff6k4nlnwGeTmGdx3XJ4kpyMtN49EX1VYjI9JWyoLDW1gN3AKuB9cAj1tq1xpinjDFLrbXNwM3AE8aYDcBcjl7ZdAtwszFmE97Nvu9MVZ1DyQyH+PD51by9/SBb9hzyowQREd+lrI/CJzWMUR9Fr+5IjG888DIVJTn83acWjcnPFBH/qI9iYvVRTAnh9CAfOX82m3e2YHe1+F2OiMi4U1CMwMWLKsjPTte4ChGZlhQUI5CeFuSKC2bz7q5DbN6pVoWITC+aFHCE3rewnKf/sotVL27j9OrF0/rGJyIydk72fhRtbW3cc8/d/PCHP05ZjQqKEUoLBbnygtn853N1bNrRwpm1M/wuSUSmgJO9H8WRI61s2VKXitL6KChGYfn8cp56dSerXtzGvJpCtSpEJrmeupfosX9Oyc9OMxeRNnfZCe27Z89u/vmff0hr62HC4Qy+/vW/Y+7c03nuuWd45JH/IBAIUF5ezl13fZ+f/ORHNDU18q1v3cYPf/jPY/xbeNRHMQppoQBXXljDe3tbeWvbQb/LEZEp6p577uaWW77Gr371X9x++x3cffe3AfjlL3/Ovff+jF/96mGqq2vYtWsHt976dxQXl6QsJEAtilFbdnYZT77itSrOPmWGWhUik1ja3GUn/Kk/VTo6Oti8eRM/+MH3+pZ1dnZy+PAhli1bwf/4H19gxYqLed/7LuG008y4TA6ooBilUDDAVctq+PVT77JhazMLTyv2uyQRmULi8Tjp6eF+fRUHDuwnLy+fW2+9ja1bV/LKK2v4/vfv4vOfv5n58xemvCadejoBF541i9KCTFa9uG3MbgwiIgKQk5NDZWUVzz77FACvvfYqX/7yzcRiMa6//loKCgr49Kc/x+WXX0FdnSUYDBKLxVJak4LiBAQDAa5eXsOuA228UdfkdzkiMsXcffc/8Pjjq/jsZ6/ngQfu43vf+wGhUIgvfOFvuPXWW/jCFz7N+vVvcv31NzJjRhEzZ87iq1/9m5TVo7meTlAsHueuB9cSCjp85/PnElBfhcikoLmeNNfTuAkGAly9rIY9je2ss41+lyMikjIKipNw7hkzKSvK4tE121PeghER8YuC4iQEAg4rl9eyt6mdte/u97scERmhKXbKfVRO5HdXUJykpaeXUlGSzaNrdhCLx/0uR0SGEQgEicWifpfhm56eCMHg6EZGKChOUsBxuGZ5LfsPdvCXTWpViEx0mZk5HDlyCNedXh/sXNclEunm0KFGcnIKRrWvBtyNgUVzS6guzeGxNTs4b95MggHlr8hElZOTT0tLI/v37wGm1ymoYDBEbm4hmZnZo9pPQTEGAo7DyhW1/Nv/fouX397HivnlfpckIsfhOA4zZpT6Xcakoo++Y2ThqcXMnpXL4y/tIBqbXk1aEZnaFBRjxHEcrl1RS9PhLl5+e5/f5YiIjBkFxRg6+5QiTinP4/GXtqtVISJThoJiDDmOwzUramlu7ebFjQ1+lyMiMiYUFGPszJoZnFqZzxMv76AnmtoZHUVExoOCYow5jsO1y2tpOdLNnzeoVSEik5+CIgVOn12IqSrgiVd2EOlRq0JEJjcFRQr09lUcbovwf9en/jaFIiKppKBIEVNdyBmzC3nqlR10R9SqEJHJS0GRQtesqKW1o4fVb9b7XYqIyAlTUKTQaZUFnFU7g6de3UlXZPrOVikik5uCIsVWrqilrbOHP67b43cpIiInREGRYnPK85k/p4hn/rKLzm61KkRk8lFQjIOVy2tp74ry/Ou7/S5FRGTUUjrNuDHmBuBOIB2411p734D1K4HvAg6wHfictbbFGPMZ4B+B3jsBPWmtvSOVtaZSbVkeC08t5tm1u7l0SSVZGWl+lyQiMmIpa1EYYyqAe4DlwALgZmPMvKT1ecDPgSustQuAjcB3EqvPAf6ntXZh4jFpQ6LXyuW1dHRHee41tSpEZHJJ5amny4AXrLUHrbXtwO+B65LWpwG3WGt7rx3dCFQnvj8H+IwxZoMx5mFjTGEK6xwXs2flsmRuCX94fTdtnT1+lyMiMmKpDIpyIHmyowagsveJtbbZWrsKwBiTCXwTWJW07XeAhcBu4GcprHPcrFxeS2d3jOde2+V3KSIiI5bKPgpnkGXH3KTBGJOPFxAbrLW/AbDWXpu0/p+AbSmqcVxVluZwzuml/OH1PXxgaRW5Wel+lyQiMqxUtijqgVlJz8uAfhMfGWPKgBeBDcAXE8vyjTFfT9rMAabMuZqrl9cSicR4Zq1aFSIyOaQyKJ4HLjXGlBhjsoCPAc/0rjTGBIEngN9Za2+11rqJVW3A7caY8xLPvwL8dwrrHFcVxdmcN28mL6yrp7U94nc5IiLDSllQJDqp7wBWA+uBR6y1a40xTxljlgJXA4uA64wx6xOPB621MeATwM+NMZuBJcDtqarTD1ctqyESjfHMX9SqEJGJz3Fdd/itJo8aYHtzcxvx+MT+vR58YhOvv3uAf/zSBeTnhP0uR0SmsUDAoagoB6AW2HHM+vEuSDxXLashGnN56lW1KkRkYlNQ+GRmYRYXnj2L1W/W03Kk2+9yRESOS0Hho6surMF1XZ56ZaffpYiIHJeCwkclBZksn1/GnzbUc7C1y+9yREQGpaDw2ZUX1OC68IRaFSIyQSkofFaUn8FFC8t5ccNemg51+l2OiMgxFBQTwBXnz8ZxHJ54ZYffpYiIHENBMQHMyMvg4oXlrNm4jwMtHX6XIyLSj4JigvjIBbMJBh0ef3mH36WIiPSjoJggCnLCvH9RBS+/vY/9B9WqEJGJQ0ExgXz4/NmkBQM89tJ2v0sREemjoJhA8rPTuWRJJa9u2s/epna/yxERARQUE87l51WTHgqqVSEiE4aCYoLJy0rnsqWVvLb5AHsa2/wuR0REQTERfejcasLpQR5bo1aFiPhPQTEB5WSm8YGlVbxuG9m1/4jf5YjINKegmKA+eG4VmeEQj720w+9SRGSaU1BMUNkZaXzonCreqGtk5z61KkTEPwqKCeyypVVkZ4R4VH0VIuIjBcUElpUR4kPnVrN+axPbG1r9LkdEpikFxQR36ZJKcjLTWPWiWhUi4g8FxQSXGQ7x4fOqeWtbM1vrD/tdjohMQwqKSeCSxZXkZqXx6Ivb/C5FRKYhBcUkEE4P8pHzZ/POjhbqdh/yuxwRmWYUFJPExYsqyM9OZ5VaFSIyzhQUk0Q4LchHLpjNu7sOsXlni9/liMg0oqCYRC5eWE5BTjqPvrgN13X9LkdEpgkFxSSSFgpy5YU11O05zCa1KkRknCgoJpkV88uZkRdmlVoVIjJOFBSTTFoowJUX1PBefStvbz/odzkiMg0oKCah5fPLKMrLUKtCRMaFgmISCgUDXLWshu0NR9jwXrPf5YjIFBdK5Q83xtwA3AmkA/daa+8bsH4l8F3AAbYDn7PWthhjqoGHgVLAAjdaa3Vf0CQXnjWLJ1/ZwaoXt7FgThGO4/hdkohMUSlrURhjKoB7gOXAAuBmY8y8pPV5wM+BK6y1C4CNwHcSq+8H7rfWng68DtyVqjonq1AwwNXLatm1v403tzT5XY6ITGEjCgpjzExjzNWJ739ijHnBGLNgmN0uA16w1h601rYDvweuS1qfBtxira1PPN8IVBtj0oCLEtsDPAR8fES/zTRz/pkzmVmYyaoXtxNXX4WIpMhIWxQPAXOMMZcA7wf+A/jpMPuUAw1JzxuAyt4n1tpma+0qAGNMJvBNYBVQDLRaa6OD7SdHBQMBrl5ey57GNt6wjX6XIyJT1EiDoshaey/wYeARa+1DQNYw+wx20jw+cIExJh94Cthgrf3NSPcTz3lnzKSsKItH16hVISKpMdKgSE+cEvow8LwxJgvIGWafemBW0vMyYG/yBsaYMuBFYAPwxcTiRiDPGBM83n5yVCDgsHJ5LfVN7bz+7gG/yxGRKWikQfEo3ht4k7V2HbAWeGSYfZ4HLjXGlCSC5WPAM70rE0HwBPA7a+2t1loXwFrbgxcen0xs+hng6RHWOS0tPb2UiuJsr1URV6tCRMbWiILCWns3cBZe/wTADdba7w+zTz1wB7AaWI93ymqtMeYpY8xS4GpgEXCdMWZ94vFgYvdb8K6S2gSswLvEVo4j4HitiobmDv6yeb/f5YjIFOOMZGSvMWYmcJ619jFjzE+A+cCt1tqNKa5vtGqA7c3NbdPuk3Xcdfnur18j0hPjH/76PIIBjaUUkZEJBByKinIAaoEdx6wf4c95iGOvevq3sSlRxkLAcbhmeS37Wzp59R21KkRk7KTyqicZZwtPK2b2zFwee2k70ZguFBORsZHKq55knDmOwzUramk81MXLb+/zuxwRmSJSedWT+GD+nCJqy/J4/KUdalWIyJgY1VVP1tqLE4uGvepJ/OE4DteuqKW5tYs1GxuG30FEZBgjnespANxgjFltjFkDXGOMSenMs3LizqydwakV+Tz+8g56ompViMjJGemppx8ClwD/CvwLcCHwo1QVJSfHcRxWrqil5Ug3f96gQe0icnJGGhSXA1dZa1dZa/8PsBKvY1smqHmzC5lbmc+Tr+wg0hPzuxwRmcRGGhSBxNQaAFhru4GeIbYXn3lXQJ3CobYIf1qvVoWInLiR9jOsN8bcC/ws8fzLePePkAns9NmFnF5dwJOv7uSiheWE04LD7yQiMsBIWxRfBgqBl4FX8G5R+kCqipKxc82KU2htj7D6jfrhNxYRGcSIWhTW2lbgpuRlxphWIC8FNckYmltVwJk1hTz9l51cvKicjHRdrCYio3MyM8cNdoMhmYBWrjiFIx09vKBWhYicgJMJiuk1PeskdmpFPmefUsTTr+6kszs6/A4iIkk0F/U0cc2KWtq7ovxx3R6/SxGRSWbIE9bGmCMM3nJw0Oyxk0ptWR4LTy3m2bW7uGRxJVkZ6qsQkZEZrkVxFnD2II+zgFNSW5qMtZXLvVbF86/v9rsUEZlEhvxYaa3dOV6FSOrNnpXL4rklPPvabi5dWkl2RprfJYnIJKA+imlm5fJaOrujPLdWrQoRGRkFxTRTVZrD0tNL+cPru2nr1CwsIjI8BcU0tHJZDd2RGM+u3eV3KSIyCSgopqGKkhzOnTeT51/fQ2tHxO9yRGSCU1BMU1cvqyESjfHMX9SqEJGhKSimqbKibM6fN4sX1u3hcLtaFSJyfAqKaezqZTVEYy5Pv6qroEXk+BQU09jMGVlccNZMVr9ZT8uRbr/LEZEJSkExzV21rJZYzOUptSpE5DgUFNNcaUEmy+fP4k/r6znY2uV3OSIyASkohCsvqMF14clX1KoQkWMpKITigkxWLCjnzxv20nS40+9yRGSCUVAIAFdeMBvHgSdeVqtCRPpTUAgAM/IyeN+CCl56q4EDh9SqEJGjFBTS5yMXzMZxHJ54aYffpYjIBJLS25wZY24A7gTSgXuttfcdZ7vfAKuttQ8lnn8G+Edgf2KTJ621d6SyVoHC3DDvX1TBH9ft4YoLZzOzUDcxFJEUtiiMMRXAPcByYAFwszFm3oBtyo0xjwMfH7D7OcD/tNYuTDwUEuPkI+dXEwo6PK5WhYgkpPLU02XAC9bag9baduD3wHUDtrkReBT43YDl5wCfMcZsMMY8bIwpTGGdkiQ/J8wliyt55Z19NDS3+12OiEwAqQyKcqAh6XkDUJm8gbX2R9baBwfZtwH4DrAQ2A38LDUlymAuP7+a9FBQrQoRAVLbR+EMsiw+kh2ttdf2fm+M+Sdg21gVJcPLy0rn0iWVPP3qTq64sIaK4my/SxIRH6WyRVEPzEp6XgbsHW4nY0y+MebrSYscQPfsHGeXn1dNenqQx9Zs97sUEfFZKoPieeBSY0yJMSYL+BjwzAj2awNuN8acl3j+FeC/U1SjHEdOZhofWFrFa+8eYM+BNr/LEREfpSworLX1wB3AamA98Ii1dq0x5iljzNIh9osBnwB+bozZDCwBbk9VnXJ8Hzq3isxwkEfVqhCZ1hzXdf2uYSzVANubm9uIx6fU7+WbR9ds59E127n7pnOYPSvX73JEJAUCAYeiohyAWmDHMevHuyCZXD6wtIqscEitCpFpTEEhQ8rKCPGh86pZv7WJ7Q2tfpcjIj5QUMiwLltSSXaGWhUi05WCIiHe1kzHMz+h+7X/TWz/Vtz4iIZ8TAuZ4RCXn1fNxveaea/+sN/liMg4U1D0CoSgp5PI+ifoePQfaH/4/6HzhV/Qs/VV3C5dHnrpkkpyMtNYpVaFyLST0tljJ5NAVj5ZV30Lt6uN6J63ie7aQGz3W0S3vgKOQ3DmaQSr5hOqXkBgRiWOM9jA86krIz3ER86fze9Wb6Vu9yHmVhX4XZKIjBNdHjsENx4n3riN6K4NRHdtJN7s3f3NyZ5BKBEawYozcNIyTvq1JoPunhjfeOAVKoqz+btPLfK7HBEZI8NdHqugGIV4ewvR3RuJ7dpItP4d6OmCQIhg+el9wRHInznmrzuRPPfabn77xy3c/qlFnD5bk/qKTAUKihRxY1Fi++q8U1S7NhA/vA8AJ3/W0dZG2VycYFpK6xhvkZ4Y3/jFK8wszOIbNyyadqfgRKYiBcU4ibce8E5R7d5IbO9miEUhLYNQxbyjfRvZU+MT+B/X7eG//lDHbdcvZF7NDL/LEZGTpKDwgdvTTWzv5kTfxgbc9oMABIqqCFUt8EKjdA5OYHJedNYTjfHNX7xKUV4G3/qrxWpViExyCgqfua5LvKU+cRXVRmL7toAbh3A2oaqzCVUvIFR5Nk5Gjt+ljsrqN+v5z2ct5cXZLJlbwhJTQlVpjkJDZBJSUEwwbnc70T3v9AWH23UEHIdA6ZyjHeJF1RP+DTced/nThr2s3bSfuj2HcF0oLchksSlhydwSasvzCEzw30FEPAqKCcx148Qbd/T1bcQbvcFsTlYBoer5BKsWEKqYh5Oe6XOlQ2ttj/DmlkbW2UY272whFncpzA2z+DSvpTG3qoBAQKEhMlEpKCaReMchb5Dfrg1E97wDPZ0QCBIsO3r5rZM/c0K3Njq6eli/tYl1tpG3tx+kJxonNyuNRacVs8SUcsbsQkLBydk3IzJVKSgmKTceJbZvS98pqniLdxdZJ6/U69eomk+wzOCE0n2u9Pi6IlHe3naQ1+0BNrzXTHckRmY4xMJTi1g8t5SzTplBOC3od5ki056CYoqItzYS3b3RC469myHWA6F0QhVnJi6/nU8gp8jvMo+rJxrjnR0tvGEbeXNLI+1dUdLTApx9ShFLTAkL5hSTGdaMMiJ+UFBMQW400v/y27ZmAAIzKr2BftULCJbOwQlMzE/r0Vicut2HWGcbeaOukcPtEUJBh3k1M1hiSlh0Wgk5mVNroKLIRKagmOJc1yV+aK83rciuDYnLb2Pe5beVZ3mnqKrOJpCZ53epg4q7Lu/VH2ad9TrDm1u7CDgOprqAJaaExXNLKMgJ+12myJSmoJhm3EhH/8tvO1sBh0Bprde30Xf57cTrUHZdl537j/SFxr6DHTjAnIp8liQuuy0umNhXgIlMRgqKacx148SbdhJNtDa8y29dnMz8xOW38wlVnjUhL791XZe9zR2sswd4wzay64B3T5DZM3NZbEpYakooK8r2uUqRqUFBIX3ina1Jl9++DZEOcIIEy+Z6wVG9gEB+2YS8/PZASwdv1DWxzh7gvb3evbvLirJYYkpZqlHhIidFQSGDcuMxYvu3Euu910bLHgCc3BJC1fMJVS0gWH76hLz89mBrF29u8ULD7vZGhZcUZLBkbimLTQmnaFS4yKgoKGRE4m3NfTdoiu3dBNEIBNMJVpzRN24jkFvsd5nHaO2IsH6LN8Bv046DxOIuBTnpLJ5bwhJTytyqfIKTdPJFkfGioJBRc6MRYg326OW3RxoBCBRWeJffVs0nOOtUnMDEGvfQ0dXDhveavVHh25qJROPkZPaOCi/hjNkzSAspNEQGUlDISXFdF/fwvqP32miwEI9BeiahyrMIlp1OcNZcAjMqJtSVVN2RGG9ta+aNukbWb22iKxIjMxxkwRwvNM6qLSKcPjHHmYiMNwWFjCk30km0fpPXt7HnLdz2Fm9FeibBmacRnDWX4KzTCJbUTpj+jZ5onE07DrKurpH1W5po6+whPeSNCl+cGBWelTGxWkci40lBISnjui5uWxOxfVuINdQR21/XNycVgRDBklovNBLh4YT9v5w1Fo9Tt+sQr9clRoW3RQgGjo4KX3haMXlZEyPgRMaLgkLGldvV5k1muK+O2P4t3tiNeAyAQGGlFxxlc73TVT7PTRV3XbbVt7Ku7gDrbCNNh7twHDBVBSwxpSyeW0JhrkaFy9SnoBBfudEIsQPbiCWCI7Zvqzd9OuBkz/BaG2VeiyNQ6F8/h+u67Nrf1hcaDc0dAMypyOu77LZUo8JlilJQyITixuPED+72TlftqyO2rw6345C3Mj0rcaoqcbqqpBYn6M/kgHub2llnD7CurpFd+71R4dWlOd78U6aUimL/T6OJjBUFhUxoruviHmnqC43Yvi3EDyX6OYIhgiWnHA2Pmf70cxw41MkbtpF1dQd4r/7oqPDFc0tYakqpnqlR4TK5+RoUxpgbgDuBdOBea+19x9nuN8Bqa+1DiefVwMNAKWCBG621bSN4yRoUFJNevOtIUotjC/HGHd6MuDgEZlQkOscTp6vGuZ+j5Ug3b9Q19hsVXpyf0Rcap1RoVLhMPr4FhTGmAlgDLAG6gZeBT1lrNyVtUw78ArgUuCUpKJ4AHrbW/tYYcxeQY639xghetgYFxZTjRrsT/RyJ8Ni/FXq6AHByipKurJpLoLB83Po5jnREeHNLE2/UNfLOdm9UeH7vqPC5JZjqAo0Kl0lhuKBI5cXjlwEvWGsPAhhjfg9cB3wvaZsbgUeB5t4Fxpg04CLgmsSih4A/ASMJCpmCnFCYUPkZhMrPALx5quIH9/S1OGJ73yW69VVv43A2wZmnHm11lNSkrJ8jNyudixaUc9GCcjq6omx8z5tK5KWNDax+o57sjBCLTithiSlhXo1GhcvklcqgKAcakp43AOcmb2Ct/RGAMWZ50uJioNVaG03arzKFdcok4wSCBItnEyyeDWd9INHP0ZhocVhi+7YQ2bXB27ivnyMxEHDmqSnp58jKCHH+mbM4/8xZdPfEeHubN5XIuroDrHmrgYz0IPPnFHFqRT5VpTlUleaQlaG7+MnkkMqgGOxEbTyF+8k05TgOTl4pgbxS0uYuAxJTqu/f2tdJHtnwNKx/Aq+fo7L/6aqcGWNaTzgtyBJTyhJTSk80zuadLayzB9iwtYm1mw/0bVeUF6aqNJfK0hyqE+FRUpipPg6ZcFIZFPXAiqTnZcDeEezXCOQZY4LW2tgo9hPpE8jMI1CzmLSaxUByP4d3uqpny8v0bHoB6O3nmJvUz1E2Zv0caaEA8+cUMX9OEa7rcqgtwu4DR9h9oK3vseG9Jnq7CsNpQSpLsvtaHVWluVSUZJMZ1hQj4p9U/vU9D3zHGFMCtAMfA24ebidrbY8x5kXgk8AjwGeAp1NYp0wDg/dzJI3nqN9EdOsr3sbh7L55q0KzTiMwRv0cjuNQmBumMDfM/DlHp2yP9MSob2rvFx5/2XyA/7v+6Oej0oJMKvvCw3sU52foslwZFykLCmttvTHmDmA13uWxD1pr1xpjngL+3lr7+hC73wL8xhhzJ7AL+FSq6pTpyevnqCFYXDOgn6POm7dqXx2RXeuJAATTCJaekjTp4ak46VljVkt6WpDasjxqy/L6lrmuS3NrV19w7El8fbOukd7r+TLDQSpLco5pfYTTNCuujC0NuBM5Dq+fIzHh4b4txJt2Hh3PUVRJcGaig7zMEMguHJeauiJR6hv7tz52N7bRHfHm03IcmFmY1Rcevf0fhblhtT7kuDQyW2SMuD3dxA68d/R01YH3jo7nyC32WhxlxhsIWDB2/RzDibsuTYc6+4fHgTaaDnf1bZOdEeoLjqrSHKpLcykvziItpNaHKChEUsaNx4g3706afqQOt9Ob4qO3nyPUO1NucQ1OcHw7pDu6ouxp7B8e9Y1tRKLeRYQBx6GsKKtfv0dVaQ75OZoxd7pRUIiME9d1cVsP9F1ZFd1Xh3t4n7cymOZNcphdiJOehZOeCeGsxPeJRzgLEuuccBYE08f8dFE87rK/paNfeOxpbONga3ffNnlZaQM6znMpK8oiFNSAwalKQSHio3hna79TVW7XEYh04na3992n47gCQa/TPBEivQHjpGclhUzmgJA5ui1p4RGf/mrr7OnrMO9rfTS1E415rY9gwKG8OPuY1keubvI0JSgoRCYg13Uh1oMb6cCNdEB3R+L7TtzE9wx43resd300MsyrOJBonQweMsktmcx+IeOkZxELhdnf0n1M38fh9qOvW5CTTlVpbqL/I5uq0lxmzcjUHFeTjIJCZIpy41HcSOeAkGkfPGS6O6Dn2OfDSss4JmSigQzaYiEOdQdp7nTY3wb72qA9lkanm040GCa/sICS0hlUzCygOtGJnq0pSyYsPycFFJEUcgIhnIxcyMg9of3deNwLj+FaMt29yzpwOw4RiHSS191BbqSDKjcxu87A6bN6gHqI7AnS5abR4KbTE8jAScskmJlNODuX7Lw8svPyCISTTpcNPH0WGvt+Ghk9BYXINOUEAhDOPuFJEl3XhWj3gJBpP/q8u4N42xFobSXQfoRgp9facQ61EDwcwWmI0OMMM41bKB0nMx8nK59A4quTVdD/eWY+TlYeTkBvZ6miIysiJ8RxHO/UVFoGHGfAYRjIH7CsJ+pNWbJtfxv1+w5xoPEgB5tacHo6yHB6yAxEKM1ymZUDM9Ij5AY6yYp0EO6oJ9jwLnS3D15PRm5fqDiZeV6YJEIlOWwIZ6uVMkrqoxAR37muy8HW7r6R5r3TljQd7iQa6/+/nJfhUJUXpzwrSmlmD0VpEfKDXeTQQUa8jUD3EdzOw9692GPRY18sEOoLj0BSiPQ++rVUQtPjqi51ZovIpBV3XVrbIzQf7qLpcBfNrV00J742Hfa+7+7pf5lxOD1IcV4GRXlhZuU6zMrsoTgcoSDUTa7TQTjahtvZmgiTw97XziPAIO8Z6Vn9wyTTO/UVyMrv11JxMnLGbSR+KigoRGTKcl2X9q5oIkg6va+9YZIIlPau/q2KUDBAUV6YovwMivMzKMrLoCgvjZJwlKK0CDmBDpzOVuKJVokXJq3EE6HSO21LP06g73RXX0slq6BfayWQCBknbeKNfFdQiMi01tkd7R8gSa2R5tYuWtv7j0cJJKaDL87PoKg3SHpDJT+DwgwIRY4kgiSpVdJxqC9MesMFd5DO+rSMpNNeeX0d9IHkU2CZiXWB8ZmLS0EhIjKESE/MO6WVCJKBp7hajnST/DbpAHk56UdbI/kZFOdnHv0+L4NwehDXjeN2tSUFyeGkIDnUtzzecRgiHYNU5uBk5vY77XXMKa9Ehz1pmSfVQa+gEBE5CdFYnJYj3YO2RpoOd3KwtZvYgPebnMy0vtAoys/o931xfsYx90t3o5GjYXJMS+Vwv5YK8UE66INpOFkFZFz0OUIV80b9O2rAnYjISQgFA5QUZFJSkDno+njc5XBfh3vn0ZZJaxd7m9t5a1tz34y9vTLDwUTfSKI10neaq5Tikmpys9IGbSG4rguRDuJJLZLeIKG7zRuAmQJqUYiIpJDruhzp7OnrYE8+tdX7fWd3/1ZCeijAjLyMwftJ8jIoyAkTCIzdWBC1KEREfOQ4DnlZ6eRlpfe73W2yjq6e417+u3P/EY509PTbPhg4tsO9pCCTpaeXpuRWuAoKERGfZWWkUZ2RRvXMwU8ddUeO3+G+aUcLh4504wI9sTgXL6wY8/oUFCIiE1w4PUh5cTblxYPPyxWNxWltj1CYm5oxGgoKEZFJLhT0+jRSZfKOORcRkXGhoBARkSEpKEREZEgKChERGZKCQkREhqSgEBGRIU21y2ODwJgObRcRmeqS3jMHHdY91YKiDKCw8MRuFi8iMs2VAe8NXDjVJgUMA+cADUBsmG1FRMQTxAuJ14DugSunWlCIiMgYU2e2iIgMSUEhIiJDUlCIiMiQFBQiIjIkBYWIiAxJQSEiIkNSUIiIyJCm2sjsETHG3ADcCaQD91pr7xuwfiHwSyAf+DPwJWttdALU9ffAF4CWxKJfDtwmhbXlAS8DV1prdwxYtxAfjtcI6vLleBlj7gY+kXj6pLX29gHrF+LP39dwdfl1vL4HXAe4wL9ba/9lwPqF+Pf3NVxtfv5P/ggosdbeNGB5NfAwUApY4EZrbdvJvNa0a1EYYyqAe4DlwALgZmPMvAGbPQx81Vo7F3CAv54gdZ0DXG+tXZh4jNcf5HnAGmDucTYZ9+M1wrrG/XgZYy4DPggsAhYCS4wx1w7YzI+/r5HU5cfxeh9wCTAfWAp81RhjBmzm19/XSGrz63/yUuCm46y+H7jfWns68Dpw18m+3rQLCuAy4AVr7UFrbTvwe7xPDAAYY2YDmdbaVxOLHgI+7nddCUuBbxhjNhpjfmaMSd1Ncvv7a+DLwN6BK3w8XkPWleDH8WoA/tZaG7HW9gCbgerelT4eryHrShj342Wt/RPw/kQLoRTvLEd773o//76Gqy1h3I+ZMWYG3ofKHwyyLg24CO/9A8boeE3HoCjH+6fp1QBUjmK9L3UZY3KAN4HbgMVAAWPwSWEkrLVftNa+eJzVfh2vIevy63hZa9/pfVMzxpwGfBJ4KmkTX47XcHX5/PfVY4z5LrAJ+CNQn7Tat7+v4Wrz8Zj9AriDo6e7khUDrUmn5sbkeE3HoBhsDvL4KNanypCva61ts9Z+xFq7NfFH8GPgI+NQ13D8Ol5D8vt4GWPOBP4A3Gat3ZK0ytfjdby6/D5e1tq7gRKgiv6nlnz/+zpebX4cM2PMF4Hd1to/HmeTlByv6RgU9cCspOdl9D91Mdx6X+oyxlQbYz6ftN4BesahruH4dbyG5OfxMsYsw/v0+U1r7W8GrPbteA1Vl1/HyxhzeqKzGmttB/B/8PoEevl5vIaszadj9kngg8aY9cD3gKuNMfcmrW8E8owxvfeVGJPjNR2D4nngUmNMiTEmC/gY8EzvSmvtTqAr8U8F8Bngab/rAjqBfzLG1BpjHLxz8/89DnUNycfjNRxfjpcxpgpYBdxgrf3twPV+Ha/h6sK/v69TgF8aY8LGmHRgJd4FCoDvf19D1oYPx8xa+wFr7VnW2oXA3wOPWWu/nrS+B3gRL1BgjI7XtAsKa2093vm91cB64BFr7VpjzFPGmKWJzW4E7jXGbAaygZ/6XZe1thH4G+BxvEveHLymri/8Pl7D1eXj8boNyAD+xRizPvH40gQ4XkPW5dfxstY+hddX8iawDnjZWvvbCXC8hq1tIv1PGmMeNMZcnXh6C95Vk5uAFXiX3J8U3Y9CRESGNO1aFCIiMjoKChERGZKCQkREhqSgEBGRISkoRERkSNNy9liRE2WMcYG3gdiAVdcMnL12jF6rxFrbNJY/V2S0FBQio/d+vXnLdKKgEBkjxpiLgR/hTTtxCt7I3ZustZuNMfnAfXhTfLt4o2W/ba2NJqZL/yneYLII3jxMLyR+7HeNMecDRcCPxmsaa5Fk6qMQGb3VSaOb1xtjkqdtWAz82Fo7H/g18J+J5T8FmoGz8aamXgDclpgWehXwPWvtWXiTzv2rMab3f3ObtXYJcC3w48T2IuNKLQqR0Rvq1NOGpKnPfwXcZ4wpAj4MLLPWukC3MeYB4FbgOSBmrX0SwFq7Di9MSNwj55HEz1oPhIE8vMARGTdqUYiMreRbdDqJR4xj/9cCQFpi+37z6BhjzjLG9H6I6wFIBEzvzxQZVwoKkbG10BjTOxX1zcBL1tpDwLPAl40xjjEmnFj3B7zJ5FxjzAcAjDGLgRfQ/6ZMIDr1JDJ6q40xAy+P/TbQAewD7jHG1AAHgE8n1n8N+DfgLSAdbwr5e6y1EWPMR4GfGGN+hNeZ/dHE8tT/JiIjoNljRcZI4qqnnyU6pUWmDDVvRURkSGpRiIjIkNSiEBGRISkoRERkSAoKEREZkoJCRESGpKAQEZEhKShERGRI/z/tczFDe85/cQAAAABJRU5ErkJggg==\n",
=======
      "image/png": "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\n",
>>>>>>> 4cd2dbf6d245f4409d2855f08f428d03c20ce702
      "text/plain": [
       "<Figure size 432x288 with 1 Axes>"
      ]
     },
<<<<<<< HEAD
     "metadata": {
      "needs_background": "light"
     },
=======
     "metadata": {},
>>>>>>> 4cd2dbf6d245f4409d2855f08f428d03c20ce702
     "output_type": "display_data"
    }
   ],
   "source": [
    "plt.plot(history.history['loss'])\n",
    "plt.plot(history.history['val_loss'])\n",
    "plt.title('Model loss')\n",
    "plt.ylabel('Loss')\n",
    "plt.xlabel('Epoch')\n",
    "plt.legend(['Train', 'Test'], loc='upper right')\n",
    "plt.show()"
   ]
  },
  {
   "cell_type": "code",
<<<<<<< HEAD
   "execution_count": 55,
=======
   "execution_count": 185,
>>>>>>> 4cd2dbf6d245f4409d2855f08f428d03c20ce702
   "id": "3d1d1071",
   "metadata": {},
   "outputs": [
    {
     "name": "stdout",
     "output_type": "stream",
     "text": [
<<<<<<< HEAD
      "3379/3379 [==============================] - 8s 2ms/step\n"
=======
      "3379/3379 [==============================] - 39s 12ms/step\n"
>>>>>>> 4cd2dbf6d245f4409d2855f08f428d03c20ce702
     ]
    }
   ],
   "source": [
    "pred = model.predict(X_test)"
   ]
  },
  {
   "cell_type": "code",
<<<<<<< HEAD
   "execution_count": 59,
   "id": "bb91b208",
   "metadata": {},
   "outputs": [],
   "source": [
    "random_index = []\n",
    "sample_test = []\n",
    "for i in range(0,4):\n",
    "    n = random.randint(0,100000)\n",
    "    sample_test.append(X_test[n])\n",
    "    random_index.append(n)"
   ]
  },
  {
   "cell_type": "code",
   "execution_count": 60,
=======
   "execution_count": 197,
>>>>>>> 4cd2dbf6d245f4409d2855f08f428d03c20ce702
   "id": "a316b196",
   "metadata": {},
   "outputs": [
    {
     "data": {
<<<<<<< HEAD
      "image/png": "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\n",
      "text/plain": [
       "<Figure size 360x288 with 4 Axes>"
=======
      "image/png": "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\n",
      "text/plain": [
       "<Figure size 216x180 with 1 Axes>"
>>>>>>> 4cd2dbf6d245f4409d2855f08f428d03c20ce702
      ]
     },
     "metadata": {},
     "output_type": "display_data"
    }
   ],
   "source": [
<<<<<<< HEAD
    "plt.figure(figsize = (5, 4), frameon=False)\n",
    "plt.rcParams[\"axes.grid\"] = False\n",
    "plt.axis('off')\n",
    "row, col = 2, 2\n",
    "for i in range(4):  \n",
    "    plt.subplot(col, row, i+1)\n",
    "    plt.imshow(\n",
    "\t\tsample_test[i].reshape(28,28),\n",
    "\t\tinterpolation='nearest', cmap='Greys')\n",
=======
    "sample_test = X_test[12].reshape(28, 28)\n",
    "\n",
    "plt.figure(figsize = (3,2.5), frameon=False)\n",
    "plt.rcParams[\"axes.grid\"] = False\n",
    "plt.imshow(\n",
    "\tsample_test,\n",
    "\tinterpolation='nearest',\n",
    "\tcmap='Greys'\n",
    ")\n",
>>>>>>> 4cd2dbf6d245f4409d2855f08f428d03c20ce702
    "plt.show()"
   ]
  },
  {
   "cell_type": "code",
<<<<<<< HEAD
   "execution_count": 61,
=======
   "execution_count": 199,
>>>>>>> 4cd2dbf6d245f4409d2855f08f428d03c20ce702
   "id": "c572dc91",
   "metadata": {},
   "outputs": [
    {
<<<<<<< HEAD
     "name": "stdout",
     "output_type": "stream",
     "text": [
      "Predictions:\n",
      "\n",
      "6\n",
      "N\n",
      "G\n",
      "A\n"
     ]
    }
   ],
   "source": [
    "print('Predictions:\\n')\n",
    "for i in random_index:\n",
    "    print(label_mapper[pred[i].argmax()])"
=======
     "data": {
      "text/plain": [
       "'3'"
      ]
     },
     "execution_count": 199,
     "metadata": {},
     "output_type": "execute_result"
    }
   ],
   "source": [
    "label_mapper[pred[12].argmax()]"
>>>>>>> 4cd2dbf6d245f4409d2855f08f428d03c20ce702
   ]
  },
  {
   "cell_type": "code",
   "execution_count": 201,
   "id": "23e1ce42",
   "metadata": {},
   "outputs": [
    {
     "data": {
      "text/plain": [
       "<AxesSubplot:>"
      ]
     },
     "execution_count": 201,
     "metadata": {},
     "output_type": "execute_result"
    },
    {
     "data": {
      "image/png": "iVBORw0KGgoAAAANSUhEUgAAAioAAAGaCAYAAAAhEmhbAAAAOXRFWHRTb2Z0d2FyZQBNYXRwbG90bGliIHZlcnNpb24zLjUuMiwgaHR0cHM6Ly9tYXRwbG90bGliLm9yZy8qNh9FAAAACXBIWXMAAAsTAAALEwEAmpwYAACu30lEQVR4nOydeVhVxf+A3yuggohsspuFmpb7vm+VS+5aluU3NXFfAEFTE0EEBXdN3HfLMkt/laVpmqm5pWm5ZOYuO8h22ZHl9wdBuHDhXO49Hi7z9tznMZyZz2fOnHMc7pnzjiovLy8PgUAgEAgEAgVS6XknIBAIBAKBQFAcYqIiEAgEAoFAsYiJikAgEAgEAsUiJioCgUAgEAgUi5ioCAQCgUAgUCxioiIQCAQCgUCxGOuz8f/VHiKp/O7Ic3rKRCAQCAQC/ZOdFS5rvEcP7+isLRNbV521pUv0OlERCAQCgUCgR3JznncGekevE5Uhnu+yb+WXxf59k67Nib4XSfT9KAAWLpiNmZkZNjZWeE+fx0svvcDuz9fzMC6BxMQkevR8p8SYDg52rFg+n8jIaFJSUvH1W1yqXJ2cHNj9+Xo+GDmF+/fDdBpDjpwAgoPmkJaWzvyA5SWWlSMnV9faBAbMIjIyhpiYWBYtDtF5jHr1XPHz9SYqMoaadjaMGz+DzMxMnZXXJiczM1OWL/MnKVGNvYMd07x8SUhILLa8NmPh4uLE/u92cvHiFXJychg3frrG8oZyXRhCDDlyKkCf4yf1WlLiWMgVQ1A2ZFmj0rpPe0bMH8OHC8bTY1Sfwp/Xbf4y1o42ANi61MTZ2RHPaXPZtm0348d9wKgR7+I3bwmt2/TilQb1qF3bpcRY48b+jy1bduHl7UetWs6lqlO9ujneXhNJTFSXqj9SY8iR0xi34ZgYm5SqrFw5WdawwNdvMd7T/ejxRtdS1ZEaw66mDT5zg5n+kT+JiWrq16+j0/La5DTGbTgpyamYmply/fo/GicpoN1YdOvWgeioWHJzczl79vcSyxvKdWEIMeTICfQ/flKvJSWOhVwx9Eperu4+CkWWicqgqUPJTM0gTZ1Kww6NMbeqzrilU2jZsw39Jw5h+NxRWNpZ8eBB/rO90LAInJ0dyQOuXbvBvr1biYyKwdnJocRYDg723Pv3N4fw8MhS1UlOTsF7uh+xD+NK1R+pMfSdU+9e3TEzM+W7/YdKkb08OQFcvHSFuLgE9u3dys1bpXuOKjXGqdPnuXcvlIEDe6NSqbh8+S+dltcmp5dfrsP9B2G4e8zBxtqKLp3baSyvzVicP38Jt7FejB3nTa9e3XF1ra3zGEq8Lgwhhhw5gf7HT+q1pMSxkCuGXsnN1d1HoWicqOzfv58xY8YwYcIExo0bx6FDpf+HEKDZ6y154ZUXUang62VfsGfxLi4fv0RKQjIbp4fw++Hf2L9uH7sCthMX/hBnZ0cAark4ER4eSVZWFrVecGbIW6MxMzXFooZFiTEfPAijlosTAM7OjoRHREnKuTRIjaHvnEaNGkb9+nXx9BxHnz5v0KTJqyXWkeM4NW3aEGNjI4a8NZrs7ByaNm2o8xhGRkYEB83B3q4m7h5zdF5eGyIjo1GrkwGIiX2IuXk1jeW1GYvmzRtTtWoVAOLjEzA21vwU11CuC0OIIUdO2iA1htRrSYljIVcMQdnQeHc7f/48mzdvLvx/Hx8fevXqVerG/zj6Ow+u32P/2n1MXOnJo8wsrp+7Vvj3RdevJETHc/9+KCtXBGBnZ8ukybNo0bwxWzYvZ66PF8nJKRw5cqLEmJs2f8aqlYEMHtyH27fvlmpth1SkxtB3TsPeGw9A1y7t6dq1fam+JZDjOBkbGbEmJIjQ0EiMjIy4du2GzmP4zPGkZ89uXLlynY4dW7NocQh//fWPzsprw4aNO1m7JphmzRqhUqlYvmKDxvLajMU/N24TtPBjwsIiCQ+P5J9/bus8hlTkuC4MIYYcOWmD1BhSryUljoVcMfRJnoIf2egKlabdk729vRk9ejT29vbExMSwdetWli5dWurGxevJAoFAIKhIyP16clbYFZ21VdmlcanLhoaG4uHhwb59+wD48ssvuXHjBr6+vpw8eZIffviB7Oxsxo4di7OzM35+flhaWuLs7Mzo0aPZuHEjUVFRpKSk4OfnR7VqxX/zrPEblRkzZrBnzx4ePnyIo6MjM2fOLHUnBAKBQCAQlB/UajVq9dOLry0sLLCwsHis3O7duwsnF5cuXeLu3buFf79r1y5CQkJQq9UEBwfTpk0bevToQe/evZkyZQrvv/8+ly9fJiQkhIMHD3Lw4EHefvvtYvPSOFFxcHDA3d1dcmcFAoFAIBDIgA4f/ezYsYOQkKc1ElOmTGHq1KmF/29hYcGMGTMYP348MTExHDhwgJEjR7J169bCMsbGxlhbW5OYmMjDhw+pUyf/rTBra2vi4+OxtrYG8ucZZ86c0ZiXXj0qUh/ltK75suQY52N1u75AIBAIBIJygw6FbyNHjmTw4MFP/bzotylP8uOPP6JWq1mxYgU3btzgr7/+wsTEhOzsbNRqNZaWljg4OBATEwNAXFwcFhYWJCYmAhAVFYWdnZ3GvISZViAQCAQCwVOPeErDiBEjAAgLC2Pr1q28+uqrDB8+HB8fHzIyMvD09MTe3h5fX19Onz5Nu3btMDc3p0WLFsyfP5+UlBQCAgI0xtC4mLasGFd2llRefKMiEAgEgvKM7Itp713QWVuVX2yls7Z0iWzfqBTVLffs2Y3/++YAfvOWAGBpWYNNG5fy02eHuXTmz2LbaNetNWH3wgm7FwHAxNljGa7KKFTum5tXY+kSPxo0qMfD2Dh+OX66RL2xNpp3JycH5vpMQ52UTK0XnPlwtGeJGnZ9q+cNQTUtR07aKPS1GW8o/ZYGSswJtBsPfSrbtakjl65e6nYXUuvIodCXek4pcSy0iSH1fqs4hb6CRW26QhYzLfynW/77xi0ePXqEra114d/5+XqTkpJW+P/d+3bBO9Cdj4Kn8faH/z0va9jiVWo61gTAwcUeO8eajyn3LWtY8OBBOO7uH5OV9ahUemNtNO/1X67Dm71fx8bWmsqVTUr8B0IO9bwhqKblyEkbhb7U8QZpWxooMSeQfmz1rWzXpo4cMaT2W5s6cij0pZ5TShwLbWJIvd8qTqFfAZBtonLq9Hka1K9L2zbNuXcvlOjo2MK/m+bly9279wv//0PPEaSlppOclEKrTi2oYWWBz4qZdOndiRGT38fdbxK29jZEhUcD/yn3L166QvXq5syYMZmbt+6USm+sjeY9KjqGAYNGMGasFw8ehNOpYxuN5eVQzxuCalqOnLRR6Esdb6lbGigxJ5B+bPWtbNemjhwxpPZbmzpyKPSlnlNKHAttYki93ypNoZ+Xl6uzj1LROFF56623GDFiBBMmTCj8aIuRkRHLlvpTp+5LVDKqpFH1rgI2LtnK+uDNnPvlN5IS1AROW8SJH39l55rP+cR/LdHhMdj9++1KgXK/adOGREREERy8muzsHBo1alCi3lgbzfv4cSOo/q8WPSoqhurVzaUdjBLQJidDUE3LkZM2Cn2p4y11SwMl5gT6V4Ur8RzUto6+kSMnqeeUEsdCmxhS77eKOz8qwF4/GteorFy5ki+//JLp0zVvIV8afOZ4kpmVSWhoOPZ2NUlJScXG2uqZZXeGfM681XPIysx6bM3KluU7Cv8cG/WQyNCox5T7dVxr07hxA4YM7kt2djZ7931f4nNZbTTvW7d9QeD8Wdy8dZeqVauwdNm6Uh6F0qFNToagmpYjJ20U+lLHW+qWBkrMCfSvClfiOahtHX0jR05SzykljoU2MaTeb5V4fhg6Jb71k5ycTPXq1bVqXLz1IxAIBIKKhNxv/WT+86vO2qryciedtaVLSnzrR9tJikAgEAgEAj2jQ+GbUpFtMa1AIBAIBAKBVBRlptXmMc4O2+6Syo98eExyDIFAIBAIFImC39bRFYqaqAgEAoFAIJCAgt/W0RXi0Y9AIBAIBALFIus3KlLVw82bN+bI4T2ER0SRlfWIVq17Ao+rnjvVa85pjw3kZj56ZhuO3ZqQfC+alHv5criFC2ZjZmZWqN1/6aUX2P35eh7GJZCYmESPnu9ozEkb3bm2ymV9686h9Iptbfpd2jouLk7s/24nFy9eIScnh/v3w2jevBFJScmcOHGGHTv36Kzfcij3QXkqeW3yklK+aLlHj7JLVUeJSnU5rm85NO9K7IcSx1uuGHqlAjz6kfUbFanq4Tkfe3D79j3OnbtIenp6YfmiqudKJsbkZj6iVt/WtFowgjbBH/Ly6B6Fbdi2rIuZY76uv5qLLc7Ojo9p90eNeBe/eUto3aYXrzSopxcFuzbKZX3rzkGaYlubfpe2TrduHYiOiiU3N5ezZ3+nc6e2REREU6lSJc79dlFjDH0rtrXptxJV8trkVdryRctZWFQvdQwlKtXluL7l0LwrsR9KHG+5YuiVCiB8K3aism7dOsaPH8+3334LwNy5c8scTKp6ODPzEdO8/Rg7zhsrK0tat2oGPK56Tg2Po2ab+jT2HER2aiZZ6jQcOjWkirU57VaMw6V3SxpO6U8Lv+GY2lvy4EH+O+4F2v084Nq1G+zbu5XIqBi9KNil9lsO3TlIU2xr0+/S1jl//hJuY70YO86bXr268+Web/Hw9GHmrACWL/XXGEPfim1t+q1Elbw2eZW2fNFyanVyqWMoUakux/Uth+Zdif1Q4njLFUNQNoqdqMTFxbFhwwZiYmI4depUqb7uLgmp6mGVCl78d7ZqVKkSD+PigcdVz+kxiZiYVwWVij8Xf80fQXuIPHaZzPgUzk7bSNiPv3MtZD8X/XeRGh6Hs7Mj8J92Pysri1ovODPkrdGYmZpiUcNCY07a6M6l9luJunNt+l3aOs2bN6Zq1SoAJCQk4uLiSF5eHklJySXG0LdiW5t+S8VQNO9SUaJSXY7rWw7NuxL7ocTxliuGPsnLy9HZR6kUu0ZFrVYTHx/P2LFj8ff35/79+8UVLTXa6JC3bl6Jt9dEwsIiaNmiCdHRsY+pns0tbbm+9ntMLMzoGDKRnIxHRJ+9XtjGlWX7Cv+cHpXA/fuhj2n3WzRvzJbNy5nr40VycgpHjpzQmJM2unOp/Vai7lybfpe2zj83bhO08GPCwiIJC4vg0aNs1q1dRJUqVUpcn6NvxbY2/ZaKoWjepaJEpboc17ccmncl9kOJ4y1XDL1SAdaoFKvQv3XrFomJibRq1YqsrCxCQkLw8vKS1LhUhb42CI+KQCAQCJSC3Ar9jD++11lbVZv101lbuqTYb1Tq1q1b+OfKlStLnqQIBAKBQCDQMwpeBKsryr3wTeo3JJ3sXpFU/teY6yUXEhgMKi3qaNzVUyAQCPRJBXj0U+4nKgKBQCAQVFjEpoQCgUAgEAgEzw9Zv1GRakv84IOhdOvaAYA3e7/GGz2Haly5Xq+eK0EL5/DqK/XIzc3j2+9+ZI5PUOHfTxg/kr6durDIe2mxbTRoVh+Av//IX1Xv6TGOevVcsbAwJ3DBCmJj49m0cSmvNKhHamoaB3/8ucIYHEG/xlUl9dvMzJTly/JlWQ4OdmzesosRHwwlKSmZSpUq4T3dr8TcpJiFtSmvb/ut1BhSr285xlupZmFDiFGer2+5Y+iVCvDoR9ZvVKTaEj/99Cvcxkzj+PEzzPVdVOLrdXY1bXjwIBR3jzkc/fkkDV+tX2gN7PPm69Su7YxKlb8KoWm7JngucMdzgTujvEcUtvFivdq8WK82AJWrmNDnzdeZPGUWfvOWMGP6ZKytLYmJeYi7xxzCI6J46aUXKozBUd/GVSX1e4zbcJKTUzEzM+Wv6/8wdsxw7t0Pw9LSgp+P/VpiXlLNwlLLy2G/lRpD6vUtx3gr1SxsCDHK8/Utdwy9UpHNtACnT59mzpw5HDx4EDc3Nz799NMyBdPGlmhuXo0BA3qyZevnpWq/alVT6tZ1RaVScfXa3zg7OdCsWUM6dmzN+g07C8t+6D2StJQ00lLSqNewLmbmZsxaPoO+7/Wh73t9mLV8BhZWFkRFxwAQGhqBi7Mjt27dJS8PJk36kLy8PEJDIyqMwVHfxlUl9fvll+vw4EEY7h5zsLG24v333+L77w8zbvx0pnmOo2rVqsXGkGoW1sZELIf9VmoMqde3HOOtVLOwIcQoz9e33DEEZUPjROXHH3/E29ubHTt2sGXLljJL37SxJX44ahjbtu0udfuvNKhLvbov4e4xp9Aa+OGo97CxsSZg/kxebfkqzTs0w9jEmC/WfcnGoM2cPXqOjLQMgr2W8MMXB/jhiwMEey0hITYBG2srAGrVciIsPJK6dV8iOTmZ1au3cOrUb7Rp07zCGBylUp77HREZjVqdb8aNiX0IgFqdTF5eHurkFCpXLv7bD6lmYW1MxFKRY7ylXt9yjLdSzcKGEKM8X99yx9Arebm6+ygUjWtU0tLSyM3NJTg4mLS0NOLiSjczLw5tbIndunXgi93/V+r2bWysGTiwN2+++RrhEVG4vlQbD08fAGrXdmHNgvlcOv0HWxZvY8YSLxLjkoiNzN8QD+DHrw4XtpeTk8t3+w+zJiQYW1trPpo5H5VKRf36dejXtweoVOzbd6DCGBylUp77vXHjTtasCaZZs0aoVCq6dh3IkiV+xEQ/5MhPxwsnMc9CqllYGxOxVOQYb6nXtxzjrVSzsCHEKM/Xt9wx9IqCH9noimLNtAA3btwgPT2dZs2acfXqVTIyMmjVqlWpG5fDTCsV4VERaEJ4VAQCQVmQ3Ux7apfO2qracbjO2tIlGr9RqV+/fuGfGzVqpPdkBAKBQCAQSKACfKMihG8CgUAgEJRTlLzrsa6ocBMVqY9y3nRoLjnGwahLkusIlIF4jCMQCATKosJNVAQCgUAgMBjEox+BQCAQCASKRcGvFesKWScq+tZfF9VFv9n7dRo3fgUTE2N+//0yGzbufKp8ccp9V9faBAfNISwsEiejGuxctJPiXo5q0bUFkfciibwfCcDIWSPplTcEGxsrvKfPw9y8GsuWzqN9u1Y8eBDGH39eY9z46aU6XlKU6kpUTYM0hXcB5b3fcuTk6lqbwIBZREbGEBMTy6LFISXWAWUdWyWOhTZ1pI6FofTbELbtkDOGQHtkVejrU3/9pC46JTWVyVNmMWHiR7wztH+x7T9Lud+vbw++3vs9Xt5+JCem0LhDEzr06cj4+ROYtHAy/Ub1K2yjfosG2Dja5rfnYoeNgy2e0+aybdtuxo/7AMsaFvz662/88cdVHB3tOXv291IdK6lKdSWqpqUqvMEw+i1HTpY1LPD1W4z3dD96vNG1xPKgvGOrxLHQpo7UsTCUfhvCth1yxdArFVmhf+3aNa5du8bVq1eZPn06165dK3Mwfeqvn9RFf/bZ11SpUoVVKwNZvGRNse0/S7m/89Ov6NK5PcuX+eP4oiNWtpYMcx9GRlo6qeoUmnZsioWVBZ7LPGnXsx1vT3obt7ljsLKzJjb8X+V+WATOzo5cvHSFEyfPkpuXy/c//ESvXt1xda2tsd/aKNWVqJqWqvA2lH7LkdPFS1eIi0tg396t3Lx1p8TySjy2ShwLbepIHQtD6bchbNshVwy9UgHMtMVOVIKDg9mxYwe//PILd+/e5dixY2UOJqf+ul49VzZtXMq69ds5dPiXYtt/lnLfycmezz77Gi9vP1LVqUSFRoMKPlv6GTsX7eT34xdRJ6hZ6b2Ss4fP8vXar9kSsJnY8NjCb1dquTgRHh5J06YNad6sEVPd55CdnYNKpcLYWPMTN22U6kpUTUvFUPotR05NmzbE2NiIIW+NJjs7h6ZNG2osr8Rjq8Sx0KaO1LEwlH4rUT1vKDEEj1OsmTYnJ4eQkBCaNWvGsWPHmDdvnuTGnzTT2thYsWplIPHxicTExBK4YKXG+n6+3gwc2JsrV/JfKS6N/nrL5hUsWLiSgz98ztVrf5OSkkp8fCLTvHyf2f5bQ/phZmZKVlYW4RFRLFy4it8vXmbjhqXExSXgZFKDjX4b6TKgC+16tSMr8xFXz17lyJ6fnhn/fa/3iTPJwM7OlkmTZ1HHtTZBQR/zQi0X0jMy+b//+6FU6wPgP6V6acpLPbZSy2tbB/LHZH7AslKvUSnv/ZYjp5YtmjBz5hRCQyMxNa2Ku8ccsrOzS6ynpGOrxLHQpo7UsTCUfsuRUwGlvYcoIYbcZtr0w2t11pZpz0k6a0uXaFToA3zzzTccPnyYtWulHwwlKvSlIjwqAoFAICgtsk9UDpVuIX1pMO01RWdt6ZIS3/oZNGgQgwYNkiEVgUAgEAgEgscRHhWBQCAQCMorCn5bR1eIiUoJaPMYx7iSkaTy2bmGv1eDQCAQCPRABZioyOpREQgEAoFAIJCCos20SrQrFthyk5NTGDTwTbp0G8TNm3fo8+brvPVWvgju9dc6MWHCDI4cOfnMNnr06Mrt2/e4c+c+AAsXzMbMzKzQZlu3zkt89uka4uLiMTExpm37vhqNvHL0uwB9GhyVON7a1FGiqbQAKeOn734YyngbQk5yxFBiTnLF0CsK9p/oCkWbaZVoV7SraUNQ8GrS0jJITU0rlLcdOHgUtzHT2LVrLzt27OHIkZMMHtyHFSvms3r1QiZOHFXYRtu2LXBxcQSgdm0XnJ0dH7PZfvjhMOb6LqJ1294Ym5jQrVuH595v0L/BUYnjrU0dJZpKQfr46bsfhjLehpCTHDGUmJNcMfRKRTbT7ty5kz///BM3NzcmTJigE+GbIdgVT50+z7Vrf3Pi5BkyMjL5+++bhX+nUqnwcB9LUNAnAMye7U5KShqJiWq6d++IjY0VmzYto3//nkyfPolFi+bi4GDHgwf5r7MV2GwfPcrm3G8XGTiwN6mpaSSrk597v0H/Bkcljrc2dZRoKgXp46fvfhjKeBtCTnLEUGJOcsUQlI1iJyrXr1/niy++YN26daxfv/65mGmVaFcsass999vFx/6uX78eHDp8rFD2pFKp8Pdfiq/vIg4fPk5cXAJjx3qzf/9hli5dy8yZAYSGhuPsnP/tSoHNNjQ0HP95M7C3q8lff/2jiH5rgyGMtzZ1lGgq1QZ998NQxtsQcpIjhhJzkiuGXqkACv1ihW9Dhw6lZs2aLFiwgNzcXBYsWMDy5aUzqhZQVjOtEu2KRW257dq1Yv/+Q/zwwxGO/XKKZUv9+eKLffxx6SoA77wzgP79e5GZmcnJk2fZsWPPM9uc4+OJlZVloc121swpjHEbTkzMQ9IzMvhgxJQSjbyGYIlU4nhrU0eJptKilHb89N0PQxlvQ8hJjhhKzEkfMWQXvv1fsM7aMh08S2dt6ZJiJyq3b9/mwoULtGrViqtXr/LCCy/QvLk0S6shmGm1QbyeLBAIBBWTijJRCQ0NxcPDg6+//hp/f39MTU2Jjo5m3rx5XL58mR9++IHs7GzGjh2Ls7Mzfn5+WFpa4uzszOjRo9m4cSNRUVGkpKTg5+dHtWrVio1V7Fs/derUoU6dOoV/FggEAoFAoDB0+MhGrVajVj+92N7CwgILC4vHyu3evZtq1aqRkpJCjx496NSpE1u3buWvv/5i165dhISEoFarCQ4Opk2bNvTo0YPevXszZcoU3n//fS5fvkxISAgHDx7k4MGDvP3228XmJTwqAoFAIBCUV3T41s+OHTt4/fXXn/rs2LHjsZAWFhbMmDEDMzMzLCws6NSpE9evX+fGjRu0adMGAGNjY6ytrUlMTOThw4fY29sDYG1tTXx8PNbW1gA4ODgQExOjsYvCTKsHpD7Kca3hKDnGnaRIyXUEAoFAICiOkSNHMnjw4Kd+XvTblGexf/9+bt68yYIFCzAyMsLExITs7GzUajWWlpaPTUbi4uKwsLAgMTERgKioKOzs7DS2LyYqAoFAIBCUV3ToP3nyEU9puHnzJsHBwbRv355Zs2YxYsQIhg8fjo+PDxkZGXh6emJvb4+vry+nT5+mXbt2mJub06JFC+bPn09KSgoBAQEaYxS7mFYXVNTFtFIR36gIBAKBYSD7Ytov/XXWlum7fjprS5fI/o2KFIV3AcFBc0hLS2d+QOlej5ZaXpu8pKrk161dTMsWTfi/b37Aw3PuY38/w9edjPQMVi/ZWGwbnV9rz/27oTy4mx/rSe1+o0YN2LxxGQ/jEqikUtGx8wCN2n0lq6b1ORYFWyBERcZQ086GceNnlLg9gdQY+lbuaxOjACnXhjYx9HmctKmj7RYZUs4PQ9G8K1GhL3U85NqOQpt/xwTaI+tiWqkKb4AxbsMxMTbRW3lt8pJafsrk0WRnP+KPP67i6OjwmHJ5jNtwjE3+my/26v86vsEf4b9kNh+Mebfw581aNsbBMX8xknMtx6e0+7VfcOFDt2m0adubmjVtqF9f85taSlVN63ss7Gra4DM3mOkf+ZOYqC7xOGkTQ9/KfW1igPRrQ2oMfR8nbepos0WG1PPDUDTvSlToSx0POfqtzb9jeqUiK/S3bNnCH3/8wZgxY3B3d+fIkSNlDiZV4d27V3fMzEz5bv8hvZTXNi+p5a2trZj98UJiH8YRHRVTqFwuyPfoweOFZSd7uZH2rza/fefWWFnXIHi1H2/06co4j5HMnj+Nmva2T2n3t23fzeXLf3H61PckJqm5fPkvjTkpVTWt77E4dfo89+6FMnBgb1QqVYnHSZsY+lbuaxNDm2tDagx9Hydt6mizRYbU88NQNO9KVOhLHQ85+i31PNc7FXmiEh0dzZ49e1i/fj2ffPIJx48fL66o3hg1ahj169fF03Mcffq8QZMmr+q0vFwUVS7bO9gVKpcL8v1w4nC69exEg4b1QKViZdA6lgWu4cTPZ0iIT2LWVH+OHDjOxlU7CPJdQWRY1FPa/RYtGjPPbzrbt3/JiRNnFaFtV5xqmse3QHD3mKOXGPpW7msTQ5trQ9/jp8RzUJvzw1A070pU6EsdD6VuRyEoG8WuUUlLS8PFxYVr165hbm5e+CqRnAx7bzwAXbu0p2vX9iXOpqWWl4tNmz9j1cpAmjVtxI8/HuXtt/px4ODRwnyHvdmPth1b8ve1m2xYtZ2l6wLIzMzit9P/7SVUdP1KdFQs9++HsnJFQKF2P3jhHIYO7U9kZAxGRkZs3PRpqXIaPLgPt2/fLdVzVql1tImhb3zmeNKzZzeuXLlOx46tWbQ4pMTtCaQitd/GRkasCQkiNDQSIyMjrl27ofMY2lwb+h4/JZ6D2pwfclwXhhBDm5ykjocc/VYcCt6jR1cU+9ZPWFgY27dv5969e9SsWRM3Nzfq1q0rqXHx1k/pEG/9CAQCgWEg+1s/O2frrC3TEUE6a0uXFPuNiouLCz4+PnLmIhAIBAKBQPAYQvgmEAgEAkF5RX8qNMUgJioKQJvHOA2ta0sqfy3+vuQYAoFAIFA4Cn5bR1eITQkFAoFAIBAoFtm+USlq8nuxdi2GDRtERkYmMTEPCQr+5Jl1lGhXlCNGcSbbDz4YSreuHQDo36cHY96awu0bd5/ZxpuDe3Dq2FnUicmoVCrWr1tMakoa1jZWTJw0k+7dOrAmJIjEJDUPHoQzaPAonffbxcWJ/d/t5OLFK+Tk5DBu/HSdtg9gZmbK8mX+JCWqsXewY5qXLwkJiU+Ve5bhsmmTV1mxfD4dO/fXaV6GcA4WIMXAKdWwK0dO2phmtTEFl3cjrzZ15Li+ldhvbc9bvSG+UdENT5r83N3HEBPzkBo1LDh27FSx9ZRoV5QjRnEm208//Qq3MdM4fvwMq4M2cPvGXd7+YCAzA6fhv+Jjeg54rbCN9t3aYF69GgAt2zcjNjYO7xnzOHHiDEOH9mfo0AHM+Gg+bdv1oUXzxnrpd7duHYiOiiU3N5ezZ3/XefuQb1tNSU7F1MyU69f/eeYkBZ42XLZt05zu3TuSnZ2t87wM4RwE6QZOqYZdOXLSxjQrtR+GYOTVpo4c17cS+61NDL2Sl6u7j0KRZaLypMmvS+d2rFm7jYmTZhIcVLzER4l2RTliFGeyBTA3r8aAAT3Zt+s7TM2qMnzsu2SkZxD/MIGO3dvxYt3azF81h+ZtmuLlNxU39xHY2tly714oAGFhEbg4O5KRkUlCYhIHvt/FrVt39dLv8+cv4TbWi7HjvOnVqzuurprX1WgzFi+/XIf7D8Jw95iDjbUVXTq3e2a5Jw2XJ06eZdHikFJNVJRo7FSiJViqYVeOnLQxzUrthyEYebWpI8f1rcR+axNDUDY0TlSGDBnCgwcPdB40IjIatTqFzMxMcjV8baVEu6IcMYoz2QJ8OGoY27bt/vf/VKSlpbNqwTo2rtjG72f/4N6t+/h6LODSb3+y3H81Wz7ZSWRYJLVq5bfn4uJEWHgkKsDExIQevd6hTp0XSU5J1Xm/mzdvTNWqVQCIj0/A2Fjzk0ZtxiIyMhq1OhmAmNiHmJtXe2a5shhplWjsVKIlWKphV46ctBl3bUzBUlDqeCvx+lZiv5Vmss3LzdPZR6kUK3wDmDZtGnZ2dhgZGTFq1Cjs7OwkNf6k8G3L5hXMD1hG48av8MH/hqJWJ3Pg4FH+7/8OPLO+jY0Vq1YGEh+fSExMLIELVpYYU2odJcYoKF9gso2MiuHAwaNcv36TvV9vYfyEGdjnVgfgg/HDeLlhXSpXrsz+rw7y69Ezz2xzwrzxZGU9wsqqBuMnzGDIoDcJCvIhMTGJ5OQUunYfrPN+t2jemFmzphIWFkl8fIJexsLW1pq1a4IJD49CpVLh5e33zMmvn683Awf25sqV6wCFhsujP33F6z2G6jQvQzgHi1Jw3Za09qJliybMnDmF0NBITE2r4u4xR+M3VnLkVNy467IfUnNS6ngr8fpWYr9LKi+38C1tvYfO2jKbsEpnbekSjROV2bNnExQUxI0bN/jiiy8ICwtj8+bNpW5cmGn1h3g9WSAQCJSHmKjoHo3f1TVp0gSA+vXrM2/ePDnyEQgEAoFAUFoUvAhWV2icqLz33nty5SEQCAQCgUAqCl5boiuEmbacIvVRjnElI0nls3NzJJUXCAQCgUAfiImKQCAQCATllQogfBMTFYFAIBAIyitioqJb5FAVS1VmK1G5LLV8vXquBC2cw6uv1CM3N49vv/uROT5BmJiY8PuFw5w//weVVCpmzJhPYmLSM9vo0aMrt2/f486d/EdKCxfMxszMDBsbK7ynz6NGDQsWBfnQoUNrktRqfv31N9zGTHuu/TaUGHKo5A2l30qMIcc9R47tCcR4l1OFfgXYPVnWTQnlUBVLVWYrUbkstbxdTRsePAjF3WMOR38+ScNX61O7tgvt2rYgWZ3Co0ePuHnzDomJSQwe3IcVK+azevVCJk4cVdhG27YtcHFxBKB2bRecnR3xnDaXbdt2M37cB9jVtOHEr2f544+rZGVmlfgPoxz9NpQYcqjkDaXfSowhxz1Hju0JxHiXU4V+BUDjRGXlypXs2bOHUaNGMWHCBL755psyBZNDVSxVma1E5bLU8qdOn6dqVVPq1nVFpVJx9drfODs5cO9+KKNGezBh4kfY2FjTtWt7Zs92JyUljcRENd27d8TGxopNm5bRv39Ppk+fxKJFc3FwsOPBg3wXQGhYBM7Ojpw6fZ6DB4/y5VffceyX0zRsWF/nymwljoUcMeRQyRtKv5UYQ457jhzbE4jxLqcK/dxc3X0UisaJSkZGBidPnmTLli2sX7+eP/74o0zB5FAVS1VmK1G5LLW8kZERrzSoS726L+HuMaewzisN6mFlWQOAuLh4TExMUKlU+Psvxdd3EYcPHycuLoGxY73Zv/8wS5euZebMAEJDw3F2zv92pZaLE+HhkRgZGbEoeC5Ojva4e8zRizJbiWMhRww5lNyG0m8lxpDjniPH9gRivJVzvUoiN093H4Wi0Uzr6+vLuXPn2L59O6mpqSxbtox169aVuvEnzbRy6JClKrOVoFwua3k/X2/eGtIPMzNTsrKyCI+IYuHCVdy+c49lS+dx/14YxsbGTJ8+j3feGUD//r3IzMzk5Mmz7Nix55ltzvHxxMrKEjs7WyZNnoWH+xiGvTuIKlWqkJaeztGjJ/Hw9Hmu/TaUGHKo5A2l30qMIcc9R47tCcR4l1OF/tIxOmvLbHrpzfNyonGiEh0dzZ07d7Czs+OLL75g8ODBNGxY+g26hEJfOQiPikAgEOgf2ScqS0brrC2zGVt11pYu0fjdvb29Pfb29gD4+Gj+7VkgEAgEAoHMKPiRja6Q9a0fgUAgEAgEAikI4VsFQeqjnOa2ml+xfBaXHt6WXEcgEAgE2pOn4Ld1dIWYqAgEAoFAUF4Rj34EAoFAIBAInh8Gp9DXt/5ajn7IsXVAAU5ODnyzbxvhEVHcvnWvsO6zaN+tDaH3wgm7l7+qfcrH46lqVpUaVhas8AvB1eJxzfeOnXsUN95KjKHPnJ48LxYvWYOH+1jUScmoKlXCe7rfM+s9qee3srLk5Ilv6dtv+DNfhS5avm3bFvTq2R1jYyM2bvyUU6fPlyo3JVx7AC4uTuz/bicXL14hJyeHceOnP/ecKup9zVBi6JU8w3/0Y3AKfX3rr+XohxxbB8B/GvbMzCyWLltbWPejGZOYscCTWcHevDN6SGH5Ri0bYudYEwBHFwfsHGuy1GcV333xA0NGDHxK863E8VZiDH3m9OR54T9vBvfvh1HD0oJjx359Zp0n9fwmJiYELfyYmzefbUR9svykCaNwGzONCRM/YvYs92L7oMRrD6Bbtw5ER8WSm5vL2bO/KyKninpfM5QYeqUCCN80TlSOHz/OlClTGDlyJBMmTODIkSNlCqZEHbJU/bUc/ZBj6wD4T8P+z807hIVFFtYdNKgP6anppKhTaN2pJTWsa+C3Yjbdendi1JThePpNxtbehsiwfCNjdEQM9o41n9J8K3G8lRhDnzk9eV7Ur1+X/d8fZtz46UzzHEfVqlWfqvOknn/xorksW76e+PjEZ8Z4snx2dv7C7fT0DMzMTIvtgxKvPYDz5y/hNtaLseO86dWre7ncKkKJx1aJ155cMQRlQ+NE5dSpU4SEhNCoUSPWr1/PTz/9VKZgStQhS9VfaxNDiVsHFEWlUjHzoymFdVUqWLd4M2uCNnLm2DmS4pPwnxbELz/+yvaQXaz0X0NUeDR2jnYA2DvZER0Z+5TmOysrS3HjrcQY+szpyfMiMiIatTqZvLw81MkpVK5sojGOhUV16ri+iKfHONq1a6nxG5ICCoyppqZVSU/PKLacEq89gObNG1O1ahWAcrtVhBKPrRKvPbli6JUKsNePRjOtp6cnU6dOZfPmzbi7uxMUFMQnn3xS6safh0Jf3/prOfohx9YBRblw/jBVq1Tm94uXAfj771t0adWazIwsLp79g/27Dzyz3rjpH2JhaYG1rRVBM5eSWiPvMc23//ylLFs6T1HjrcQY+szpyfNiw4adeHlNIDr6Ideu/c3adduLjfGknr8kXX/B3zdr1oj+/XpiZmbK8uXrufD7n6XKTQnXHkCL5o2ZNWsqYWGRxMcnlKvxLkCJx1aJ154+Yshtpk31HaaztqrN362ztnSJxonKxYsXOXjwICNHjiQqKgp7e3tq1apV6saFQr/8IjwqAoFAIB0xUdE9Gr/TbNGiBS1atADAxeU5LxgSCAQCgUDwOBXgrR8hfBM8E22+HXmphrRFZXeTnvOzXYFAICjvKPhtHV0hhG8CgUAgEAgUi/hGRSAQCASCcorY60cPPGm81IQchlYlmisLkHKszMxMWb7Mn6RENfYOdkzz8iUhIVGnOTVr2pAfD+5m//eHiYyMfqxOcNAcKucYsXrJxmLrd36tPffvhvLgbn5fFi6YjZmZGTY2VnhPn0cd19ps3/4JiQlqTCob075DvxJtmnKMhb6toEo9z7Wpo+/rWw5Dq777oVR7qjDTllMzrXj0A+fOnWP//v2cO3euzMGeNFiWhByGViWaK0H6sRrjNpyU5FRMzUy5fv0fjZMUbXKqXt2ckJAg7ty5R+CCFY/VGeM2HBPj/3wcvfu/jm/wR8xfMpsPxrxb+PNmLRvj4GgPgHMtR5ydHfGcNpdt23YzftwHNG70CtXMzLhy9TqODval+gdFjrHQtxVUqee5NueIvq9vOQyt+u6HUu2pwkxbTs20FQCNExVfX1+uXr1KpUqVuHr1KvPnzy9TsCcNliUhh6FVieZKkH6sXn65DvcfhOHuMQcbayu6dG6n05ySk1O4fPk64eFRj9Xp3as7ZmamfLf/UGHZSV5jSEtNR61OoX3nNlhZW7Jo9Tx69OnGeI9RzJ4/jZr2tjx4kP8aX2hYBM7Ojpw8dY5h703A2tqS6OhYOnVsU2K/5RgLfVtBlXqea3OO6Pv6lsPQqu9+KNWeKsy05dRMW9EV+lWrVsXNzY2+ffvi5uaGkZGRXHkB8hhalWiu1IbIyHzjKEBM7EPMzavpPKcHD8KoVs3ssTqjRg2jfv26eHqOo3vPzjRoWA+VSsXKoHUsCwzh5M+nSYhPZObUefx04Bc2rNpOkO8KIsOicHZ2BKCWixPh4ZHM+diTGjWqM+St0aSkpNKkyasl5iTHWOjbCqrU81zf560Sx0IbDMWeKsy05dRMm5eru49C0Sh8W7RoEY8ePcLOzo6YmBjMzMzw8vIqdePFCd9KMlwWIIehVYnmyqKU9ljZ2lqzdk0w4eFRqFQqvLz9yNWwyEpbg+PZ0wf49dRv2Nvb4j19Htev3wSga5f2DOzZg9VLNtJvcC/e6NONzMwszp/+na8//+6Z7Y3wGI6VlSV2drZMmjyL3j27sXTpPCIjY6hStTKtWvciKytLY05yjIW+raBKPc+1PW/1eX3LYWjVdz+UYE99HjGUmJM+YsgtfEuZPlBnbZkv/VZnbekSjRMVgNDQUOLi4nBwcMDBQdpXXMJMW7EQHhWBQFDRkX2i4jVAZ22ZL3/2L5XPIjQ0FA8PD/bt20dwcDA5OTlkZGTg7+/PqVOn+OGHH8jOzmbs2LE4Ozvj5+eHpaUlzs7OjB49mo0bNxIVFUVKSgp+fn5Uq1b8UwCN35O/9dZbVKtWDTMzs8KfrV+/vtQdEQgEAoFAoD/ydLi2RK1Wo1Y/vYjcwsICCwuLx8rt3r2batWqERoaSlZWFr6+vmzevJlz586xa9cuQkJCUKvVBAcH06ZNG3r06EHv3r2ZMmUK77//PpcvXyYkJISDBw9y8OBB3n777WLz0jhRWblyJV9++SXTp2t+5VMgEAgEAkH5ZseOHYSEhDz18ylTpjB16tTC/7ewsGDGjBmMHz+e2NhY7O3z3+Z0cHAgJiYGAGNjY6ytrUlMTOThw4fUqZP/xp21tTXx8fFYW1sX1jlz5ozGvDROVGrVqsX48eMldFNQkZH6KKevQ3PJMX6IuiS5jkAgEBgsOvxGZeTIkQwePPipnxf9NuVJHBwciI2NBSAqKoqGDRtiYmJCdnY2arUaS0vLxyYwcXFxWFhYkJiYWFjHzs5OY14lCt+qV69eUhGBQCAQCATPAx2aaZ98xFManJycMDU1JTAwkOzsbNzc3FCpVPj4+JCRkYGnpyf29vb4+vpy+vRp2rVrh7m5OS1atGD+/PmkpKQQEBCgMUaJi2nLglhMK9CE+EZFIBAYGnIvpk2e0kdnbVUPOaCztnSJrAp9OVTFTk4OzPWZhjopmVovOPPhaM/nrhY3JA10adXi9eq5smSxL/XquZKXm8cXu/exYOEqXF1rExw0h7CwSJyNavDpop0UN1du3rUFkfciibofCcCIWSPpkTekULlvbl6NpUv8aNCgHg9j4/jl+OlyeWzl2GJBmzqG0G+pCn1tlPty9Ts4aA5paenMD1heqvKg3/GuqFtFCIW+/Mi6e7IcquL6L9fhzd6vY2NrTeXKJiXeZJSoXFZiTiBNLW5X04bNmz5j4KCRHP35JP369gSgX98efL33e7y8/UhOTKFxhyZ06NORcfMnMHHhZPqO6lfYRv0WDbB1tM1vz8UOGwfbx5T7ljUsePAgHHf3j8nKelRuj60cWyxoU8cQ+i1Voa+Ncl+Ofj+5TUVp0Pd4V9StIhSn0K/oZtpp06YxYcKExz5lQQ5VcVR0DAMGjWDMWC8ePAgvUcOuROWyEnMCaWrxU6fP8/2BI7Rt04I+b77OH39eBWDnp1/RpXN7li/zx/FFRyxtLXnHfRgZaemkqlNo0rEp1a0scF/mSdue7Xhr0tuMnjsGKztrYsPzF2MVKPcvXrpC9ermzJgxmZu37pTbYyvHFgva1DGEfktV6Guj3Nd3v5+1TUVp0Pd4V9StIhSn0K8AaJyoDB06lE6dOrF+/frCT1mQQ1U8ftwIqv+rj4+KiqF6dXOdx6ioqmkpGBkZsWXzChwcalKvfnuys3No2rQhTk72fPbZ13h5+5GqTiU6NBqVCnYt/YxPF+3k0vGLJCeo+cR7JecOn2Xv2q/ZGrCZ2PBYbP79dqVAud+0aUMiIqIIDl5NdnYOjRo1KJfHVnFK7n8xhH5LVehro9zXd7+LblPRp88bpdpaQhvEVhHKOW+lkJeXp7OPUilxMe2ff/5J06ZNtWr8ycW0cuiQmzR5lcD5s7h56y5Vq1ZhqvvHelHJV0TVdAGlUYv7+XozbNhgqlSuTFpaOimpqfj4BPPb+Uts3LCUuLgEnE1qsMlvI50HdKFdr3ZkZT7i6tmrHN3z0zPbfM/rfR6aZBQq9+u41mbu3GnUq1uH7Oxs9u77vsTn90o8tnJssaBNHUPot1SFvjbKfbn63bVLe7p2bS9pjQrob7wr6lYRSlPoq8f21FlbFpsO66wtXaJxolJWM61460egCfHWj0AgMDTEREX3CDOtQCAQCATlFQUvgtUVwkwrEAgEAkE5RZd7/SgVYaYVPDe0eYzT36GFpPL7oy5KjiEQCAQC5SCr8E0gEAgEAoEOEd+o6IfSGhaVahk0BGOnHP2WmlPROv+3dxtRUdHcun2fmJhYFi1+ekdPgM4Du3Lpl99JSUpBpVIxMXgy6akZVLeqzvpZa2jTujlTp7qRmKjm9u17DBnchw9GTuF/w9+mefNGJCUlc+LEGXbs3KOzfhjCOViA1PFT2jmoTQxX19oEBswiMjJG47knZ05KjAGGMd7l30z7fMPLgUaPSnJyMmfPni18v/rq1atlDijFsKhUy6AhGDvl6HdZ7Knp6RksX7EB7+l+9HijK2PH/I8Vy+czZYk7Hfp1KizfrEtzTKvnv5X2atuGJD1MYtv8zVw7e5WO/TtRrZoZXt5++M1bwtQpboW5dO7UloiIaCpVqsS53zQ/HlKa0VWuGFL7rcRzUJsYljUs8PVbXHjuKSEnJcYwlPEu92baCoDGicq8efO4fv06H3+c7yLZuXNnmYJJNSwq1TJoCMZOOfpdFnvq7Tv3SEhMYt/erdy6fRd39zGkp6eTFJdEi64tcK7jwtRlnrzS+hVG+YzmrclDsbKzJiYsGoCHEQ+xcbDl2C+nsLCozpdfbGDL1s8Lc1m0OAQPTx9mzgpg+VJ/nfbDEM5BkN5vJZ6D2sS4eOkKcXEJ7Nu7lZu37igiJyXGMJTxLu9m2rzcPJ19lIrGiYqdnR0ffvghI0eOZNWqVWUOJtWwqFTLoCEYO+Xod1mwsrLE2MiIIW+NxsjIiLp1XuTjOUHsWbWba+euEX47jNXeK7l+/jrbA7eyd81XxIbHYOtYEwBbJ1vioh7SsUNrIiKi6NHrHdq3a0nlyiaoVCrat29FXl4eSUnJOs/dEM5BOVBqv5s2bYixcf65V2BUft45KTGGVAyl34q7lirAXj8a16ikp6dz+vRpOnTowM2bN9m7d2+Zgg17L/9V5wLDYkn7Nmza/BmrVgYyeHAfbt++W6pn5FLrKDGGNjlJRY5+l4VKlVTMnz+TGzdu8+hRNr5+i9m6ZSUv1bDnl70/F5Zb7b2y8M83fv+broO7M9pvDOY1zFk7MwSLhtXZumUlUVExXPvrBjVr2pKXl0dOTg7r1i6iSpUqkk2fJWEI56AcKLXfxkZGrAkJIjQ0EiMjI65du/Hcc1JiDKkYSr+VeC0ZOiUq9FNSUjA3z98v59atW9StW7fUjQszrUDXiNeTBQKBkpHbTJv4bnedtWX55TGdtaVLNH6jUlaFvkAgEAgEAv2h5LUlukIo9AUCgUAgECiWEh/9JCcna22nFY9+BM8bX8duksrPj/xFL3kIBIKKgdyPfhLe6qaztqz2/qKztnSJUOgLBAKBQFBOqQiPfjS+niwQCAQCgUDwPCnxG5Xc3Hw/77lz52jWrBmmpqZlCiiUy+VT+12AklTyBblcvfY3NjZWpKSkYWxsxOXLf/Hqq/UBGPTG6+z/aBN3Tl55Zht1ujYh/l40CffzRXELF8zGzMwMGxsrvKfPo1GjBmzeuIyHcQlUUqno2HkAmZmZOu3Hk/0pzbGtV88VP19voiJjqGlnw7jxMzTmJcd5bmZmyvJl/iQlqrF3sGOaly8JCYk6a7/o8Xn0KLtUx8oQznNDiaHEnOSKoVcqukJ/+fLleHh44OnpyV9//UVAQECZggnlcvnVfoOyVPIFuVSvbo6xsTGtWzXDbcw0Jkz8iO7dOuI2Zhq7du3ljz3HuXPyCq/0aUPv+SPps2A0rUf1LGzHpXldLBytAajhYouzsyOe0+aybdtuxo/7gNovuPCh2zTatO1NzZo21K9fR+f9Ltqf0h5bu5o2+MwNZvpH/iQmqkvMS47zfIzbcFKSUzE1M+X69X80TlKktl/0+FhYVC/1sSrv57khxVBiTnLF0Cd5ubr7KBWNE5VHjx6xevVq7OzscHNzK/SpaItQLpdf7TcoSyWfnJzCTz/9QnpGBkeOnCD33+e06ekZmJmZolKp8HAfy8nV3wDQeeogHqVmkKlO5aUODTG1MmfA0vHU79mKjhP703PucKrbWfLgQf5CuNCwCJydHdm2fTeXL//F6VPfk5ikLlFSqE2/C/oj5dieOn2ee/dCGTiwNyqVqsS85DjPX365DvcfhOHuMQcbayu6dG6ns/aLHh+1OrnUx6q8n+eGFEOJOckVQ6/k6vCjUEq1KaGPjw83btwgPj5errwA5eqQlajQ17f2Wxv03e9Ro4ZRw8KC0aPfw9rakiZNXsXUtCrp6Rn069eDQ4ePkZudA4BKpeLYsq85ungPt49fJj0hhe+mb+DG4QucWrefwwG7SAqPw9nZEYBaLk6Eh0fSokVj5vlNZ/v2Lzlx4myJx1WbfmiDkZERwUFzsLeribvHHL3kJLVOZGQ0anX+lgQxsQ8xN6+m85ykosQYSrznyBFDiTnJFUNQNkptplWr1VSpUoUqVaqUuvHiXk/esnkF8wOWlfjs18bGilUrA4mPTyQmJpbABStLjCm1jhJjaJNTyxZNmDlzCqGhkZiaVsXdYw7Z2dk6jVGAvsZPm5y2bF7BoUPHGDiwN46O9uTm5DJrdiDvvTeEL77YR58IKwAaDmhPg56tyM7M4v65v/ljz/Fntqca2xIrK0vs7GyZNHkWwQvnMHRofyIjYzAyMuKdYWO5cuW6zvtRtD+lObZ+vt4MHNi7MJdFi0P4669/dJqT1Dq2ttasXRNMeHgUKpUKL2+/wjVuusqp6PEpzbEylPPcEGIoMSd9xJD79eSHb5b8qL+02B589n3xeaNxolJWM63wqAieN8KjIhAI5ET2iUovHU5UDilzoiLMtAKBQCAQCBSLxolKrVq1GD9+vFy5CAQCgUAgkICS39bRFcJMKzBopD7KSY84KTmGqVNnyXUEAoFAF1SEiYow0woEAoFAIFAsJX6jokuk2lOl2jeL2iT/N/xtmjdvRFJSMidOnGHHzj2PlXVxcWL/dzu5ePEKOTk53L8fprF8UfRtMpR6nOTIqQClGTu1ycnfz5udO7fQseNrLF76+OLwZWu2ULVqFSa7/a/YNn49e4EXXJx44d9XFK2tKlNJBZWMVMTFZeFa5yX8fL1JTHiIja0toz700njetmndHC+vCURGRhMZGc3iJWtK7LO+rbHw9DUybnzxa9WKjsGLtWsxbNggMjIyiYl5SFDwJzrpgzZ15DinpJYPDppDWlo6Fy9dYcjgvuTk5LB37/f8eOiYzvqhxHuIUse7vJtpxTcqRfj777/LHEyqPVWKffNJm2TnTm2JiIimUqVKnPvt4lPlu3XrQHRULLm5uZw9+3uJ5Yuib5Oh1OMkR06gTGOn1Jw+HPkO69ev5/adBzg6OTwWo3p148de6T587CQLlq3Ff/Fqdn31beHP/7z2N1ExDwEIj4zG2FjFw/gskpOzsbAwxq6mDUHBS/GbtwB1UsnW2HffHcSKFRuY5uVLrVrOuLrWLrEf+rbGwtPXSHE8OQbu7mOIiXlIjRoWHDt2Smd90KaOHOeUlPJj3IZjYmwC5LtwJk6aycdzFjJy5Ls67YcS7yFKHe/ybqYlT6W7j0LROFEJCAggMDCQgIAAZsyYQWBgYJmCSbWnSrFvPmmTXLQ4BA9PH2bOCmD5Uv+nyp8/fwm3sV6MHedNr17d+XLPtxrLF0XfJkOpx0mOnECZxk6pOdV6oRbJqZCTk0dUVExhDDNTIyqpVHTv3L6w7PrtX2BmVhWL6tU49/ufJCQmMSdwGT+fOMOWz/aw+JONxMbFk52d/4Z/dnYuxsaVuHTpImGhYbz22hulssauXLWBMWOGs3SxHzY2Vtjb1SyxH/q2xsLT10hxE6gnx6BL53asWbuNiZNmEhxUvIxOqRZRqedUacv37tUdMzNTvtt/CIBvv/2Rxo0a8N23O/n+h5902g8l3kOUOt7l3kxbAdA4Ualfvz4mJiaMHj2a+vXr8+GHH5YpmFR7qlT7ZgEqlYr27VuRl5dHUlLyM8s0b96YqlXz5XUJCYm4uDhqLF8UfZsMpR4nOXLSBqXn5OBgVxijenUTTEwqsXP3Po6f+o2/b94hLy+PKWNH4DF+FB3btsTKsgYLfLx5rUt73P73Dh+5j8PRvibGRvm/iRgbVyI7OxdLy6rM959N7Rfs8Z/vT+XKmr+4rP2CC0uWrmX6R/kT5Hv3QyX1Qx/WWHj8GomPT8DYuHRPiiMio1GrU8jMzNQofKtoFtFRo4ZRv35dPD3H0afPG0yd4sbvFy/TvkNfJowbobGuIdxDlDre5fmcgoqx14/GO88777zDH3/8wY4dOzAxMcHZuWwCN2MjI9aEBBEaGomRkRHXrt3QWN5njic9e3bjypXrdOzYukT7ZgF5eXnk5OSwbu0iqlSpwvyA5U+V+efGbYIWfkxYWCRhYRE8epStsXxRNm3+jFUrAxk8uA+3b98t8Zm01PJSj5McOWmDknPa/UUu9++HkpQYjYmJiuiYDABGDBvC+UuXaVDPlbEfvMss/yVUqWxCq+aNC9soun7FvqYtj7LzsLWujJGRiti4TNzd3encpTN//fU3LVu1IiBwlcbz9kFoOMuX+RMXl8CVK9eJjIwudT9Ke6w2bNzJ2jXBNGvWCJVKxfIVG0qMUfQaCQ+P5J9/bpdYB2COTxA7tn+CWp3M6jVbddYHberIcU6VlmHv5aseunZpT9eu7UlOTmH7tlWo1Sn83zcHNNY1hHuIUse7PJ9TAHm5yn1koytKVOgDxMbGcujQIf73v+IXGD4LYaYVlDfE68kCgaAsyG2mjezUXWdtOf5a/ILu54nGb1SeVOj/+uuvkhT6AoFAIBAI9IeSH9noCqHQFwgEAoGgnJKn4Ld1dEWJj36Sk5O1ttOKRz+CioCfxI0P/cXGhwKBwSL3o5/w9q/prC3nMz/rrC1dIhT6AoFAIBCUUyr8ox+BQCAQCATKpSK89aNxopKeno6pqSmXL18mOzubFi1alCmYNlpnkKanLm2MZ+n58/LyOPzjbvzmLeH4iTPFxtBWoVygzi7p9WelaqCVqC+XS5Ee8slC+vZ9g26vDeH+/TD6vPk6b73VD4BBb7zO9x9t4s7JK8+sW6drE+LvRZNwP/+144ULZmNmZoaNjRXe0+dhbl6NwIBZqNUp9HijC6+98ZbOzvMClDgWSj0H9X1sldpvJSr0Qf/3g/Ku0K8IaDRRzZ8/n40bN3Lo0CEuXLhAcHBwmYJpo3WWqrMubYxn6fmDg+Zw5+6DEmNoo1Auqs7WR/uGoprWt6ZfmxhTJo+mbdsWZGT8t1/PgYNHcRszjV279vLnnuPcOXmFV/q0off8kfRZMJrWo3oWlnVuXhcLR2sAarjY4uzsiOe0uWzbtpvx4z7AsoYFixaHkJqaVioRG0i/lpQ4Fko9B/V9bJXabyUq9OW4H5R3hX5enu4+SqXEvX7CwsKYMWMG48aNQ6Uq21dM2midpeqsSxvjST3/gP49+frr/dy7V/JERapC+Ul1tq7b16aOUmPoW9MvNUbvXt2pVKkS02f4k5qW/tjfqVQqPNzHcnL1NwB0njqIrNQMMtSpvNShIaZW5gxYOp76PVvRYWJ/eswdjrmdJQ8e5C+2Cw2LwNnZkYuXrvDgQTgvvVSLuLj4UvVb6rWkxLFQ6jmo72Or1H4rUaEvx/2gvCv083JVOvsoFY0TlZiYGC5dusRff/3FkSNHiI2NLVMwbbTO+opRVM8/P2AZnTq2Zfjwt+nT5w08PcdRtWrVYmNIVSg/qc5u0uRVjeWVqoFWompa3zGKjp2LsyMNGtQr/Lt+/Xpw6PAxcrNz8n+gUvHLsq/5efEebh2/THpCCt9N38CNwxc4vW4/PwXsQh0eh7OzIwC1XJwID4987JzNzcvjlVdeLjEvqdeSEsdCqeegvo+tUvutRIW+VJTYb0HZ0bhGZcuWLaSn5/8WaW5uTpcuXcoWTAuts75iPKnn95rux19//YPvXC+OHz9DRkZGsTGkKpSfVGeXtEmdUjXQSlRN6ztG0bGrtcyZBvXrkpWZxbFfTtGta0e++GIffbEC4NTa7xi0chLZmVncP/ffbuMnVu4r/HNydALJ90NZuSIAOztbJk2eRR3X2oXnrEql4uY/Jf8WL/VaUuJYKPUc1PexVWq/lajQl4oS+61vlPxNiK7Q6FF50kwLSDLTCo+KoCIgPCoCgaAAuT0qd5v20FlbL/2peRfvAqKiolizZg1mZmZUrVqVzMxMcnJyyMjIwN/fn1OnTvHDDz+QnZ3N2LFjcXZ2xs/PD0tLS5ydnRk9erSkvISZViAQCAQCAWq1GrX66YXLFhYWWFhYFP7/nTt3OHfuHPXq1aNz5878888/+Pr6snnzZs6dO8euXbsICQlBrVYTHBxMmzZt6NGjB71792bKlCm8//77GpdXPInGiUqtWrUYP368hG4KBAKBQCCQC10++tmxYwchIU+/jj9lyhSmTp1a+P/29vZs27YNOzs7Ro8eTadOnQBwcHAgJiYGAGNjY6ytrUlMTOThw4fUqVMHoPBnDg6lX4QszLQCQRmR+ijnpRrS3xK4myQW7AkEgqfR5V4/I0eOZPDgwU/9vOi3KQCff/45w4YNw8QkX7lR8KJNVFQUDRs2xMTEhOzsbNRqNZaWlo9NYOLi4rCyspKUlzDTCgQCgUAgeOoRT3EMHjyYZcuWYWdnx+DBg7l79y6BgYFkZ2fj5uaGSqXCx8eHjIwMPD09sbe3x9fXl9OnT9OuXTuqVKkiKa8SNyUsC2IxrUDwNOIbFYHAcJF7Me2tV3vprK26f5XO9SU3Gr9RSU1NpVq1aly5coW8vDyaNGlSpmBK1EAXoCRVeNFc2rZtQa+e3TE2NmLjxk85dfr8c8lJjhhyjN2ztk7IzMwstnzRtt/s/TqNG7+CiYkxv/9+mQ0bdz6zjqtrbZYtmUfLlk3Z9fleZn+84LG//8jXnfT0DFYv2Vhs3M6vtef+3VAe3M3vz5Pa/bp1X+K7b3cSER5FWno67dr30dhvMzNTli/zJylRjb2DHdO8fElISNRYR+p4fPDBULp17QDAm71f442eQ/nrr3901j5IHz99b3ehTQw5thKRepy06Ych3HMK0Pex1Se5Onz0o1Q0Ct8CAgLYuHEjhw8f5sKFCyxcuLBMwZSogQZlqcKfzGXShFG4jZnGhIkfMXuW+3PJSa4Ycozds7ZOKG3bKampTJ4yiwkTP+Kdof2Lrefs5EB8QiJ//HGVzp3aPvZ3Y9yGY2zy3+8Hvfu/jm/wR8xfMpsPxrxb+PNmLRvj4Gif314tx6e0+69168i1azc499tFqpdCuz/GbTgpyamYmply/fo/JU5SQPp4fPrpV7iNmcbx42eY67tI4yRFm/ZB2vhpG0PKdhfaxJBjKxGpx0mbfhjCPQfkObaCsqFxomJtbU1MTAze3t6MHj2a3Nyy7SetRA00KEsV/mQu2f9aT9PTMzAzM30uOckVQ46xe3LrBE3yvSfb/uyzr6lSpQqrVgayeMmaYuud/PUc02f406hxA+4W2ZKhYCuFIwePF/5sktcY0lLTUatTaN+5DVbWlixaPY8efbox3mMUs+dPo6a97VPa/a/27mfipJnY2FhhUtkEV9faGvv98st1uP8gDHePOdhYW9Glc7sSj5U242FuXo0BA3qyZevnemlfyvhpE0PqdhfaxJBjKxGpxwmUeX2X93uIHOTlqXT2USoaJyoqlYqEhAT8/PxYsmQJaWlpZQqmRA20NsipXM7OzgbA1LQq6enF23KVeGyVqKYuunWCu8ccSXXr1XNl08alrFu/nUOHfym2XIGC/dixU+Tk/KdgL9Dxj544nO49O9OgYT1UKhUrg9axLDCEkz+fJiE+kZlT5/HTgV/YsGo7Qb4riAyLekq7P2jgm1SrZsqQt0aTkZ5Jo0YNNOYeGRmNWp0MQEzsw1JtfqjNeHw4ahjbtu0usZy27UsdP31vd6FNDDm2EtHmPFfi9W1o9xB9UBH2+tG4RmXGjBlcuXKF0NBQatasSevWrcsUTIkaaG2QU7m8bsMONm9ajpmZKX7zljzXnAxBsf3k1gmLFoeU+IgC8m9O33/3KVev/c3Mj6YQH5/INC/fZ5YtULA3qF+PP/68Rs8e3cjKyirU8b/7Zl/admzJ39dusmHVNpauCyAzM4vzp38vbKPo+pXoqFjuP6Hd7/vm63y9ZzMxsXGkpaVz4MBRjflv2LiTtWuCadasESqViuUrNpTYZ23Go1u3Dnyx+/9KLKdt+1LHT9/bXWgTQ46tRLQ5z5V4fRvSPUSgPUKhLxDIjHjrRyAwXOR+6+d6Pc0L6aXwys0DOmtLlwiFvkAgEAgE5RQlP7LRFSV6VJKTk7W204pvVAQC3fCmQ3NJ5Q9GXdJTJgKBQBNyf6PyV52+Omvr1ds/6KwtXSIU+gKBQCAQlFMqgkdFKPQFAoFAICinKPm1Yl2hcaJy/fp1XnnllTIHedLk9/nn+/jf/94mIyOTAweP8n//9+wFPNoYALW1BkoxE4J+zZVKNThKqVP0eD56lF2qY6vU8ZZ6rKRaYF97rRObNy7jYVwClVQqOnYeQGZmJq6utQkOmkNYWCRORjXYuWgnxT2pbdG1BZH3Iom8Hwk8bbJ96aUX2P35eh7GJZCYmESPnu9oPkBa9Bv0e1y1raPvvJR27RVFSfcpQ7ivaRtDUDY0elQmT57Mpk2bePToUZmCPGnymzF9MuMnzGDsOG+mTh5d6nqlMQBqU0eqmVDf5kqlGhxLW6fo8bSwqF7qY6vU8ZZ6rKRaYGu/4MKHbtNo07Y3NWvaFPahX98efL33e7y8/UhOTKFxhyZ06NOR8fMnMGnhZPqN6lfYRv0WDbBxtAXAzsXuKZPtqBHv4jdvCa3b9OKVBvX0ck7p+7hqW0dJ5mlt+6BEw64S+63UGPokL093H6WicaLStm1bmjdvztSpU9mwYQOnT5/WKsiTJj+AtLR0yfVK4zTQpo4UM6Ec5kqlGhxLW6fo8VSrk0t9bJU43iD9WEm1wG7bvpvLl//i9KnvSUxSF/Zh56df0aVze5Yv88fxRUesbC0Z5j6MjLR0UtUpNO3YFAsrCzyXedKuZzvenvQ2bnPHYGVn/ZTJNg+4du0G+/ZuJTIqRi/nlL6Pq7Z1lGSe1qa8NnWUeJ8q7/e1ssTQJ7l5Kp19lIrGiQpAq1atWL9+Pe3ateOff7ST2jxp8ktOScHUtKrketrE0jVymCuVanDUt/VRieMN0vst1QLbokVj5vlNZ/v2Lzlx4myhqdTJyZ7PPvsaL28/UtWpRIVGgwo+W/oZOxft5PfjF1EnqFnpvZKzh8/y9dqv2RKwmdjw2KdMtllZWdR6wZkhb43GzNQUixolb+Wu7/FW4jmoTQwlXntKvE8Zyn1NjnNQ8DgaX0++efMm9erV07rxgteT/Xy9GTiwN1euXAdgw4adTJgwkpycXPbu+57vv//pmfWfrFcaA6A2dQrYsnkF8wOWlWqNSoG5sjTPfm1srFi1MpD4+ERiYmIJXLBSp+WVGqPo8SzNsVXqeEvtt62tNWvXBBMeHoVKpcLL20/jPlnr1y5m6ND+REbGYGRkxO4v/48TJ87y+8XLbNywlLi4BJxMarDRbyNdBnShXa92ZGU+4urZqxzZ8+xrp82417Cysiw02bZo3pgtm5cTn5DEo6xHdOoyoHB7Bl31uwB9Hdey5KTPvJR47RWgpPuUodzXSiov9+vJl14YqLO2mj/4Vmdt6RJhphUIygHCoyIQlA/knqhcrKW7iUqLUGVOVISZViAQCAQCgWLROFGpVasW48ePlysXgUAgEAgEElDyIlhdIcy0AkE5QOqjnOTPpP2CUf1/Je+mLBAIlEdFEL6V+NaPQCAQCAQCwfNCKPQFAoFAICinVPhHP0lJSVhYWPDbb7+RkZFB586dqVRJ+y9hXF1rExgwi8jIGGJiYlm0OERjeW306FL15drE0LdyuU3r5nh5TSAyMprIyGgWL1mjsXwB+tSEF227xxtdadGiCaamVVm9ejMXL13RSYwC9Kn9flZ/nrfWX5s+1KvnyjTPMez6bDvvvDucj2YuJDMzExNjFVZWlVl68HfiUzLwG9SOKiZGz2zj1M0IallX5wWb/Me71laVqaSCSkYq4uKyyMnNw8nJga/3bGDCRE8uX7lbYl76VujLEaOiquRBv8dWifdaOXLSNwoWyuoMjbOOefPmMXHiRM6fP09ERATz5s0rUzDLGhb4+i3Ge7ofPd7oWmJ5bfToUvXl2sTQt3L53XcHsWLFBqZ5+VKrljOurrVLzEmfmvAn21YnJzNp8kzWrt3GO+8M0EmMAvSt/X5WfzQhh9Zfmz7Y2liyZMkybt95gFqdXBjDyEhFfEIW099sSXXTytx7qOanqw8I+v48gd+d44uzNwrbuBz6kGh1GgDGxiqMjVU8jM8iOTkbCwtjqlc3Z/asSSSpS3dOyaHQV6Km31A07/o+tkq818qRk76p8GZaJycnrKysmDJlCu+99x5VqlQpU7CLl64QF5fAvr1buXnrTonltdGjS9WXaxND38rllas2MGbMcJYu9sPGxgp7u5ol5qRPTfiTbe/Z8x29enZj06ZlHDr0i05igDzab5B2rOTQ+mvThzNnL3L3XhzOzk6o+C9GRmYu2dl5/PxXKHl5edR3tGLTL1cwq2xM9aqVOXc7ioTUDObuO8Ox62FsO3GNpQd/x8hIRXZ2/u9m2dm5GBtXIic7HR+fAKKjS3dOyaHQV6Km31A07/o+tkq818qRk6DsaJyoVK5cmfPnz3PmzBkWL15MfHx8mYI1bdoQY2Mjhrw1muzsnEJVeHFoo0eXqi/XJoa+lcu1X3BhydK1TP/IH4B790NLlZcUyqKB7vFGFw4d/oVWrXvhO9dLZzHk0H5LRQ6tvzZ9KIhhWrUq8+YvfezvrK0qE5eSzsf92wD5Xw1Per0pU99oRsd6jlhVq0rAkPZ0f8WFD7s0ZPqbLcnOzsPYKP83KmPjSmRn51K9ugkmJpWobFIJU1MjKlfW7dp7JerwtalTUTXvUmMo8V4rR076Ji9PpbOPUtG4RsXDwwMPDw9yc3OpUaMG9evXL1swIyPWhAQRGhqJkZER167d0FjeZ44nPXt248qV63Ts2LpUevQNG3eydk0wzZo1QqVSsXyF5tcutYmxafNnrFoZyODBfbh9+26Jz3Klln8QGs7yZf7ExSVw5cp1IiOjNZbXBqk5FaVVq2a8/XZ/ADZv/VxnMYa9l/9KbYH2uzS/3ZSlH6VBm/NDah1t+lAQ47dzJ1m2dB5r1mzg7r1IzKuZYGZmxKX7sVy6H8voLg0Z3aUhc74+RWVjI1q9aF/YxsTXmhT+OScnj0fZedhaV8bISEVsXCa5ufm7pmc9yiU9PYesrOK3AdAGfY+dtjH0fX0rMSdtkBpDifdaOXLSN7q9KpWJUOgLBAaI8KgIBM8HuRX6Jx3e1llbnaO+1llbukQo9AUCgUAgKKfkodxHNrpCKPQFAoFAICin5FaA95OFQl8gMECkPsrZYNddcozxMcck1xEIBAKpCDOtQCAQCATllNyK/uhH1xiKwVGbOvq2aUo1LGpjZJRqFobybxHVpo4cZlqpdZo3b8yRw3sIj4giK+sRrVr3BP4zObd+ZIlZzRqc8fuUrMTUZ7bh3K0J6nvRJN/Lfwtt4YLZmJmZYWNjhff0ebz00gvs/nw9D+MSSExMokfPd3TaB23qlMXA3LZtC3r17I6xsREbN37KqdPnn0tOBXnN9ZmGOimZWi848+Foz+d+Tinx2lNqDH1SEdaolChGOHPmDD/88AOXLknbvfVZGIrBUWodOWyaUg2L2hgZpZqFDcEiqk0dOcy0UuvM+diD27fvce7cRdLT0wvLF5icjatWJuGfcLISU3mxb2vaB46gQ9CHvPphj//61aIu1RytATB3scXZ2RHPaXPZtm0348d9wKgR7+I3bwmt2/TilQb1FDEWZTEwT5owCrcx05gw8SNmz3J/LjkVUP/lOrzZ+3VsbK2pXNmkxF8qlHZslZqTXDEEZUPjRGXNmjXcu3ePCxcu8NtvvzF//vwyBTMUg6PUOnLYNKUaFrUxMko1CxuCRVSbOnKYaaXWycx8xDRvP8aO88bKypLWrZoB/5mcz/jsoKqVOQ7tGtDMYxCPUjPJUqfh1LEhVazM6bx8HLV7taTp5P609R2OmZ0lDx7kv4YZGhaBs7MjecC1azfYt3crkVExihiLshiYs7NzAEhPz8DMzPS55FRAVHQMAwaNYMxYLx48CKdTxzY6j1FRjbxyxNAnuTr8KBWNE5WkpCTee+89jIyMGD9+PLm5ZeuKoRgc9W0mLIuptLSGRW2MjFLNwlIxlPGWw0wrtY5KBS/++5ufUaVKPIzLt0wXNTmnx6kxMauKSqXi9yVfcyF4D2G/XCYzIYWTXhu5f+h3/lyzn3Pzd5ESEYezsyMAtVycCA+PJCsri1ovODPkrdGYmZpiUcPiufe7LNdqdnY2AKamVUlPz3iuOY0fN4Lq/1q2o6JiqF7dXOcxKqqRV4nWXynkodLZR6loFL55e3vj6OhI5cqVqV+/PmfPnsXPz6/UjT8pfLOxsWLVykDi4xOJiYklcMFKjfWllldqjAK2bF7B/IBlJa7V0KZ9P19vBg7szZUr1wFKNCxKLQ/QskUTZs6cQmhoJKamVXH3mFN4M9eEPvutxPGWemzlyKl7945s3byShIRE4uLi+fHQMQ4cPEpsbBxr1wRTP8EYVCrO+X3KS/3bUbtXS3IyHxF59jo3vzzxzDYjJrTAysoSOztbJk2eRYvmjdmyeTnxCUk8ynpEpy4DNJ4fSh3vgvO1WbNG9O/XM38dz/L1XPj9z+eWU5MmrxI4fxY3b92latUqTHX/WOMvjko8tkrMSR8x5Ba+HbYfprO2ekbv1llbukTjRCUrK4s7d+7QoEEDMjMzJW9KKMy0AkH5QLyeLBDoBrknKj/qcKLSW6ETFY1v/bz33ntlUugLBAKBQCDQH0peW6IrhEJfIBAIBAKBYtH46AcgOTlZazutePQjEBguZ2pqfvPkSdrH/qanTAQC5SD3o58f7N/TWVt9o7/QWVu6RCj0BQKBQCAop+Qq92UdnVGi8E0gEAgEAoHgeaHxG5Vz584RExODnZ0dbdu2LXMwOVTFUjXv2qjkK6pqGvSrxHdxcWL/dzu5ePEKOTk5jBtf8tooKTGK5j57ljsmJibY2lhjZVWDLt0GaYwTHDSHtLR05gcs12lOxeWnj+0GpPTjgw+G0q1rB8zMTBk0sDf9B3zAkaMnH7teXGvV5+6MNeRlPnpmGxbdmpN5L5LMe/meiSeV++bm1QgMmIWr64skJSXRq7fmtxeKHp8eb3SlRYsmmJpWZfXqzVy8dOWZdbTZ9kHqeajE8TaUrSJAv8dJjvu/vqkIe/0U+42Kr68vV69epVKlSly9erXMVlqQR1UsVfOujUq+oqqm9a3E79atA9FRseTm5nL27O86jfFk7hMmfsTYcd4kp6Tw7nvjNcYY4zYcE2OTUuUjJSdN+ekjhpR+fPrpV3hOm0uNGhb8/fctbt66Czx+vWSrU6laxxmrvu15IXAstYMnYPdhn8I2zFu8TGVHGwAqu9R8SrlvWcOCq1f/5tSv56jj+qLGfJ48PurkZCZNnsnatdt4550BxdaTej8A6eehEsfbULaK0PdxkuP+r2/ydPhRKsVOVKpWrYqbmxt9+/bFzc0NIyOjMgeTQ1UsVfOujUq+oqqm9a3EP3/+Em5jvRg7zptevbrj6lpbZzGelft77w3m0OFfiIyMLrb93r26Y2Zmynf7D5WYi9ScSspPlzG06UdeXh5paWmPfVtR9HpBpSL9r3s4eQ4lNzWDnKRULDo1wdiqOi+tmIpV77Y4Th5CLb8PMbG3fkq5b2dnS25uLq1aNyUuPkFjLk8enz17vqNXz25s2rSMQ4d+Kbae1PsBSD8PlTjehrJVhL6Pkxz3f0HZKXaiYmRkRGBgIBs3bmTBggWPuVS0RQ5VsVTNuzYq+YqqmpaK1BjNmzematV8qWB8fALGxiVv7l2Wfrw/bDCff75PY5lRo4ZRv35dPD3H0afPGzRp8qpecyotUmNo048PRw1j27bHBVBFr5cHczb++1MV4Us+Jyz4M5J+uUR2QjJ3p60m4cdzRK7ZR6j/NrLCY59S7nt6jOPll12Jj0+klosTb7/dv9T97/FGFw4d/oVWrXvhO9er2HLabPsg9TxU4ngbylYRUtF3H7SJoW8qwl4/xV6BFhYWXLp0CWtra0aPHs3atWvLHGzT5s9YtTKQwYP7cPv23RKfN0otD2BsZMSakCBCQyMxMjLi2rUbGsv7zPGkZ89uXLlynY4dW5dKJa/vfmjTbzliSEVqjH9u3CZo4ceEhUUSHh7JP//c1nmMAiwta5CTk0tOTo7GcsP+fSzUtUt7unZtX6rfuJR4bLXpR7duHfhi9/8xZEhfxo75H7s+38s7QwcUXi+ur71JRMheIkP24rrak9zMRySfuVZYP2L5l4V/fhQVz/37oaxcEVCo3D9w4CgzZ04hM/MRoaERfPPNwVL3v1WrZoUTm81bPy+2nNT7AUg/D5U43nLcQ6TeO5V4nOS4/+ubXJXhr1Ep1qMSGBiIj48PmzZt4tVXX+Xbb79l8WJpi4aER0UgMFyER0UgeBq5PSpfOw7XWVtvR+4qVbnQ0FDWr1+PmZkZNWvW5N69e5ibm2NiYsKMGTPYu3cvf/75J6mpqXz00Ufk5uayZMkSqlWrRuvWrRkwoPh1Zc+i2G9U1Go18fHxjB07Fn9/f+7fvy+pYYFAIBAIBPpFl4tg1Wo1avXTC5ctLCywsPhvN/QdO3bg6OhIeHg4NjY21KlTBzc3N/z9/QkNDeXgwYNs3ryZy5cvs3t3/uPjDz/8kMaNG+Pm5qa7icq4ceO4c+cO1tbWzJ49m5CQkl/rEwgEAoFAIB+6XFuyY8eOZ/5bP2XKFKZOnVr4/3fv3mXKlCk0bNiQFi1aEBwcDICDgwPR0dGF67ocHByIiYmhUqVK2NvbA2j1Yk6xE5W6desW/rly5cp4eRW/YE0gEFQ8pD7KcTC3khwjKkXz20ACgUB3jBw5ksGDBz/186LfpgDUrFkTc3NzKleuTMuWLYmJiQEgKioKe3t7VP+um4mKisLOzg5jY+NCJ1turvSpVcmvVQgEAoFAIFAkulToP/mIpzjc3NxYtWoVNWrU4P333+fUqVMEBgZiYWFBrVq16NOnD3PnziU5ORlfX1+ys7NZtGgRVapU4a233pKcV4mbEpaFJxfTKtGuqMQYSsxJjhhKtGnK0Q8ljoW2deA/++3mLZ8/ZhR91jcqg97qwy9HfyUxUY1KpWLRCj9SU9OwsrJklpc/di85MnWqG4mJan7//U9+PHSs3BuYDWW8DSEnfcSQezHtLqf/6ayt4RGf6awtXSLrXj9KtCsqMYYSc5IjhhJtmnL0Q4ljoW2dAvtt5cqVHzOKjh3zP+YHzWbp6gD6DepVWL5L9w6YVzcHoF2HVjyMjcd/zmLOnr5Av0G9qFbNDC9vP7y8/Xj3nYEGYWA2lPE2hJzkiiEoG8VOVA4fPvzUp6wo0a6oxBhKzEmOGEq0acrRDyWOhTZ1itpvs7KyCo2i1aqZ4e4+hvT0dOJi4+j2eifq1HuJ5SGBtGnXgrkB05kybSx29raEheb/NhoRHoWjkwPHfjmFhUV1Dny/i5O/njMIA7OhjLch5CRXDH1SoRX6v/32G+fPnyc1NbXwU1aUaFdUYgwl5iRHDCXaNLWJocR+yxGjOPutSqUiJSWVoPkrWbl0A+dOX+D2zbt4TfHht7MXCZi7lJAVmwgLi8TJOf+m7+TsQGREFB07tCYiIooevd6hfbuWxMQ8LPcGZkMZb0PISa4Y+iRXpbuPUil2jcqjR4/YtWsXo0aN0rrxJ9eo2NhYsWplIPHxicTExBK4YKXG+lLLG0oMJeYkRww5cvLz9WbgwN5cuXIdoFQmSkPotxwxCiiw384PWM6WzSuYH7CMwYP60LZFMypXqcze3d/x85GTz6y7YIkPjx49okYNCz7y9KNR28aMGPEOUVExZGZmsmTpWr33u4CC3Etao6LEsVBiDCXmpI8Ycq9R2emsuzUqI8KVuUal2InKunXruHTpEv369WPAgAHMnTuXgIAASY0LM61AIChAvJ4sqAjIPVHZrsOJyiiFTlSKffQTFxfHxo0biY6O5tSpUyW+GSEQCAQCgUBeKvQalaIK/SNHjgiFvkAgEAgEAtkRCn2BQCAL2jzG6enQVFL5w1F/So4hEJRnlLwIVlcIhb5AIBAIBOUUXe71o1RkFb4JBAKBQCAQSKHYb1SSk5O5du0abdu2RaVScfXqVRo1alSmYOVRh/w8YigxpwKkqMWlltd3TkXLvVi7FsOGDSIjI5OYmIcEBX+is7wMZbyl1Cl6bB89yi7VeBRsZ5CcnMKggW/Spdsgbt68Q7VqZixe5EtKcgptGjRivd96EmKe/djo5aYvA/DPn/mvmHt6jKNePVcsLMwJXLAClaoSB37YRdzDeLKyHtGxc/8S+/1kf5Sg0Je69YMSzykl5iRXDH1Sob9RmTdvHtevX+fjjz8mNzeXnTt3ljmYoeiQK6pqWqpaXN8qcikxnizn7j6GmJiH1KhhwbFjp3Sal6GMd2nrFD22FhbVSz3mdjVtCApeTVpaBqmpabi61gbA0dGet4b0xdKqBjWsa5CcmEyjto2YFDiJSYGTGO41vLCNF+q9wAv1XgDApIoJfd58nclTZuE3bwkzpk9mwvgRLFmyhtZte+Ps7MArDeqVmJcSFfpSt35Q4jmlxJzkiqFP8lS6+yiVYicqdnZ2fPjhh4wcOZJVq1bpJJih6JArqmpaqlpc3ypyKTGeLNelczvWrN3GxEkzCQ7SbKitqONd2jpFj61anVzqMT91+jzXrv3NiZNnyMjI5O+/bwKQmprGO++OZfyEGZw9fJYu/brwP6//kZaSRlpKGnUa1sHU3JRpy6bR671e9HqvF9OWTcPC0oKo6Pzt5kNDI3BxdqRy5cr8dOQEO7Z/Qnp6BjVr2pSYlxIV+lK3flDiOaXEnOSKISgbxU5U0tPTOXPmDA0aNKBu3bqcPn26zMEMRYdcUVXT+kbOnCIio1GrU8jMzCQ3V/OXpxV1vPU9HkW3Mzj328XCnw97dxAutfLjxsfEY1rNFGMTY75e9zXbg7dz/ufzZKZlssJ7BYe+OMShLw6xwnsFCQ8TsLHOl8rVquVEWHgkqamptGrVlJGj3ElOTqHey6467QPIMxZSt35Q4jmlxJzkiqFPcnX4USrFrlGpWbMm27ZtIyYmhoEDB/LVV1+VOdimzZ+xamUggwf34fbtuyU++5Va3lBiKDEnOZAzpzk+QezY/glqdTKr12zVaV6GMt76Hg+fOZ707NmNK1eu065dK6ZOceOHH46w56vvWBsSTKuWTWno9BJr5qwh7HYYHos9SIpPIi4yrnByeeTrI4Xt5ebk8t3+w6wJCcbW1pqPZs7H2tqSfV9vZYb3JAC+/vp7nfYB5BmLoseqY8fWJW79oMRzSok5yRVDnyh5gqErilXoBwYG4uPjw6ZNm3j11Vf59ttvWbxY2qIhodAXCARlQXhUBOUNuRX6IbV0p9CfElrOFPrCTCsQCAQCgbKp0Ar9AjMtwOzZs2nbtq1sSQkEAoFAICiZXJXuPkql2Ec/ukA8+hEIBHJSz1LaPedmorxf0wsMH7kf/ax6QXePfjweKPPRT7GLaQUCgUAgECibirCYVkxUBAKBQCAop1T4iUrBK4Dnzp2jWbNmmJqalimYIWig5YihxJyk1imqIP/f8Ldp3rwRSUnJnDhxhh079zyzjpmZKcuX+ZOUqMbewY5pXr4kJCSWq37LlZPUa6kAfW9pIMeWCc2bN+boT1/Rb8AHnD59HgAXFyf2f7eTW1dvk5uTi8+0wGLr9x3Si19/PkNSohqVSsW6tYtITUnD2saK+QHL2fvVZu7dD6Vu3ZdISEgkMUGNlVUNunQb9Mz2XF1rExgwi8jIGGJiYlm0WPNO83JsX2Eo57mhxBCUjWIX0y5fvhwPDw88PT3566+/CAgIKHMwQ9BAyxFDiTlJqfOkgrxzp7ZERERTqVKlx8ReTzLGbTgpyamYmply/fo/JU5StOmHEo+tHEp10L8aXo4tE5yc7Nm4fikZGY9Pyrp160B0VCy5ubn8ceEKAO+MGMzHC7wJXOlD7wFvFJbt2K0t1apXA/INxbGxcXjPmMdvv11kTUgQ6ekZBASuoGWrnqSlppOcksK7740vNifLGhb4+i3Ge7ofPd7oqpd+y3FslXieG0oMfVKh3/p59OgRq1evxs7ODjc3N8zNzcsczBA00HLEUGJOUuo8qSBftDgED08fZs4KYPlS/2Lbf/nlOtx/EIa7xxxsrK3o0rmdznLStrwcMeRQqoP+1fBybJkQERFN67a9UKuTH/v5+fOXcBvrhY9nIJ1ea0fd+q6MGDeMjPQM4h8m0Om1drxUtzYLP/GlRdumfDTPnXEeo3BwtOPevVAAbt26y8mTZ/n7xi2qm1fjwPe7UKuTOXT4FyIjo4vN6eKlK8TFJbBv71Zu3rqjl37LcWyVeJ4bSgx9UhHe+il2opKcnMy5c+fw8fHhxo0bJCQ8e/dSKRiCBlqOGErMSds6KpWK9u1bkZeXR1JSssaykZHRhf8AxcQ+xNy8ms5zUuKxlUOprg36VoXrsv3mzRtTtWoVAJIS1BgZG5GWms7ywDWsW76FC2cucffWfT52n8/Fc3+yeN4nbFy1nQf3w6n1r67fxSVfu29nZ0t0TCw9er1Dly7tOXDgqMbYTZs2xNjYiCFvjSY7O4emTRvK1m9dxlDieW4oMfRJRVDoF/t68po1azh37hxvv/02Xbt2ZdGiRSxcuFBS40++nuzn683Agb25cuU6QIkaaBsbK1atDCQ+PpGYmFgCF6wsMabUOkqMocSctKmzZfMK5gcsY9i7g3jxxVpUqVKFjRs/5ey5359Z3tbWmrVrggkPj0KlUuHl7VfiPjxK7LccOUm9lopSMC4lrXPQJi852gf4+69fGT1mGu3bteTAwaOYVq3KrFlTSYlNJikhibXLtjBywvs0aFiPypVN+HbPAU4cfXq/spuJ4az+ZCFZWY+wsqrB+Akz+P67T8nIzCQ8PJI3Xu/Cyw06aMylZYsmzJw5hdDQSExNq+LuMYfs7Gy99Fufx1aJ53l5jCH368nBtXX3evKs+8p8PVko9AUCgcEgPCqC543cE5UgHU5UZit0oiIU+gKBQCAQlFNyydPZR6kU+3pygULf2tqa2bNnExKi+ZU7gUAgeN5I/YbkdfsmkmMcjb4suY5AINCeYicqdevWLfxz5cqV8fLykiUhgUAgEAgEpUPJi2B1hTDTCgQCgUBQTlHuAxvdIftERd92RanGTm0MnxXV4PjBB0Pp1jX/DYg3e7/GGz2HanzTRIn9LkDKeSi1vKH028nJgbk+01AnJVPrBWc+HO2p8doosMNevHiFnJwcxo2frrF9qeVBWr+LXtsv1HbB0cGO/42YTMNX6/PWW/0A6PNGd5bPWMnFE88WEbbq1pKIexFE3IsEYPSsD+lPCjY2VnhPn4e5eTWWLvGjQYN6PIyN45fjpyuUiRggOGgOaWnpzA9YrvP2lXgtCTOt/BS7mLYof//9t06CyWFXlGrs1MbwWVENjp9++hVuY6Zx/PgZ5vouKvF1WCX2G6Sfh/o+b5Xa7/ov1+HN3q9jY2tN5comJf7DWNQOe/bss19BL0t5kNbvgmvbP2AZdVxrk52dA8CBg0dxGzONXbv2cujLw1w8cZFOfToxOWAi7gunMGDUgMI2GjRvgK2DLQD2LnbYOtriOW0u27btZvy4D7CsYcGDB+G4u39MVtajCmUihnybtImxid7aV+K1pDQzbUXwqBQ7UQkICCAwMJCAgABmzJhBYGDxe2eUFjnsilKNndoYPiuqwRHA3LwaAwb0ZMvWzxWRkxyWT32ft0rtd1R0DAMGjWDMWC8ePAinU8c2GssX2GHHjvOmV6/uuLrW1ml5kNbvgmv7tdc6cer0ee7c/e/NRZVKhYf7WD7/5AsAhnu8R3pqBinqVJp3aoqFlQXey73o0Ks9705+h3G+Y7G2syYmPAaA0LAInJ0duXjpCtWrmzNjxmRu3rpToUzEvXt1x8zMlO/2H9JL+9rUUWoMfVKhzbT169fHxMSE0aNHU79+fT788EM58wLkMXZqY/isqAZHgA9HDWPbtt2lKqvEfsuBofR7/LgRVP/XDhwVFUP16pq30Shqh42PT8DYWPOTZanlQVq/NV3b/fr14NDhY+T8+y0LKhU7lu5k26LtXPjld9QJapZ5Lef0oTN8uWYPG+dvIiYitvDblVouToSHR9K0aUMiIqIIDl5NdnYOjRo1qDAm4lGjhlG/fl08PcfRp88bNGnyqk7b16aOUmMIykaxd4Z33nmHP/74gx07dmBiYoKzs/zytk2bP2PVykAGD+7D7dt3S7WWwGeOJz17duPKlet07Ni6RGOn1PLa5KXv8nLFgPyv67/Y/X+lKqvEfsuBofR767YvCJw/i5u37lK1ahWWLlunsfw/N24TtPBjwsIiCQ+P5J9/buu0PEjr95PXdsNX69O+XUvu3w+jW9eOfPHFPmr8W/bLNV8y85MZZGU84vK5K4VtfLZiV+Gf46LiiA6LZuWKAOzsbJk0eRZ1XGvTuHEDhgzuS3Z2Nnv3fa+X8dbmPiUVqXkN+3ejxq5d2tO1a/sSv+VR6n1NrnunvlCy/0RXFGumXbduHX/88QdvvvkmycnJ/PPPP5J3UBZmWoFAoGSER0Wga+Q208558X2dtbXgXsmP9J8HxT76iYuLY8OGDcTGxuLq6lqqFeYCgUAgEAgEukQo9AUCgUAgKKdUhLd+hEJfIBBUWLR5jFPX0klS+VuJEZJjCASlpSKsUREKfYFAIBAIBIpFKPQFAoFAICinGP73KRomKunp6ZiamnL58mWys7Np0aJFmYPJpSrWtzbaEFTySozh6lqbwIBZREbGEBMTy6LFJT9uVGK/perOlXieK3FrCW3qaHNOQb7j5ehPX9FvwAecPn0e+E/5f+vqbXJycvCZVrwEs9+QXpz8+QxJiWpUKhXr1i4iNSUNaxsr5vkvZeP6Jbi4OJKSksa69dvZvuNLnfT7Wf3t8+brjB83goGDR5bY7/K+VYRSY+gTJa8t0RXFLqadP38+Gzdu5NChQ1y4cIHg4OAyB5NDVSyHNtoQVPJKjGFZwwJfv8V4T/ejxxtdS8xHjpy0qSNVd67E81yJW0toU0ebc8rJyZ6N65eSkfH4xKyo8v+PC/mulXdHDGbOAm8WrJxL7wFvFJbt2K0d5tXzZXldOrcjNjYO7xnzOHHiDMuWzuPwT7/Q7bUh/H3jJiNHvKOzfj/Z3z5vvk6tWs6Ym5uVGMMQtopQagxB2dC4109YWBgzZsxg3LhxqFRl9+vKoSqWQ9MP5V8lr8QYFy9dIS4ugX17t3Lz1p0S85EjJ23qSNWdK/E8V+LWEtrU0eacioiIpnXbXqjVyY/9vED5P8czgM6vtadufVdGjHuP9PRM4h4m0Pm19rxUtzZBn/jRom1TPprnwXiPUTg42nHvXigAYWERODs58O13h7CwqE6njm24caNk0V1p+/1kfw8cPMqGjTtL1W9D2CpCqTH0SS55OvsolWInKrGxsVy6dIm//vqLI0eO8PDhwzIHU6KquKKq5JUYo2nThhgbGzHkrdFkZ+fQtGnD556TNnWk6s6VeJ4rcWsJbepoc04VR1Hlf1KCGiNjI9JS01keGMK65Zu5cOYSd2/dZ7a7PxfP/cnieavYsGo7D+6HU6tWfs4uLk7cfxBG717diYiI4sTJc9St+yKWljU0hS51v3XZ35JQ4ngrNYY+ydPhR6kUu0alZcuWnDlzhps3b9KsWTOOHz9e5mBKVBVXVJW8EmMYGxmxJiSI0NBIjIyMuHbtxnPPSZs6UnXnSjzPlbi1hDZ1tDmnnsTbawIHDh4tVP6nxCYTFRnDjWs3+eH/DhG82g+TypX5ds8PhXVmu/sX/vnM2Qu8//4Qli31x8qqBp7T5rLrs7VMmTyah3Hx/PrrORITk3TSb130t7QocbyVGkNQNopV6AcGBuLj48OmTZt49dVX+fbbb1m8WNqiIaHQFwgEhobwqAg0IbdC3+PFYTpra9W90j0lAMjOzmbUqFHMnDmTH374gZycHDIyMvD39+fUqVP88MMPZGdnM3bsWJydnfHz88PS0hJnZ2dGjx4tKa9iv1Epaqb19/cXZlqBQCAQCBRGng4f2qjVatTqpxdTW1hYYGFh8djPQkJCcHBwIC8vj6ysLHx9fdm8eTPnzp1j165dhISEoFarCQ4Opk2bNvTo0YPevXszZcoU3n//fapWrVrqvISZViAQCAQCATt27Hjmv/VTpkxh6tSphf//zTff0KxZM4yMjMjMzMTe3h4ABwcHYmJiADA2Nsba2prExEQePnxInTr5bw4W/MzBofSLkIWZViAoQlXjypLrZGRn6SETgVKR+ijHvpql5BjRqYmS6wgqJrr0qIwcOZLBgwc/9fMnv005dOgQNWvW5OrVq5w/f56XX34ZgKioKBo2bIiJiQnZ2dmo1WosLS0fm8DExcVhZWUlKS9hphUIBAKBoJyiy9eKn/WI51msW7cOgNWrV9OtWzcOHz5MYGAg2dnZuLm5oVKp8PHxISMjA09PT+zt7fH19eX06dO0a9eOKlWqSMqr2MW0uuDJxbRKNNMW2CYvXrxCTk4O48ZPL7F9ffdDqXZFQ+n3kZ++IilRzdGfTxaWt7SswaaNS9m4bicnT54rtv4bPbpw5/Z97tzJX7PlP/8jqphWwcbGCu/p86hRw4KghR/z6isvk5uXx7ff/sgcnyBF9FtpFlhD6feT5ddv2PnY/edZ36gMersvvxz5lcTEJFQqFYtWzCMtNQ0r6xrMnOaPvasTU6e6kZio5vff/+THQ8cUZy+Ww3ZsZmbK8mX+JCWqsXewY5qXLwkJiTrLSds6mo6r3ItpJ71YsjCwtKy9t0dnbemSYj0qqampAFy5coXLl6XvMPoslGimLWqbPHv2d0X0Q6l2RUPo9/q1+SbhQ4ePPVbez9eblJS0wnKDBr3JsuX+rPokkAkT/lOPt2nTHGfn/GerL7zgjLOzI57T5rJt227Gj/sAu5o2PHgQjrvHHI4ePUnDhvUV0W8lWmANpd9Fy7u61sZ/3ozC+8/YMf9jfvBslq0OoP+gXoV1unbvUGiubdehFXEP45g3ZxFnTl2g/6DeVKtmhpe3H17efrz7zkBF2ovlsB2PcRtOSnIqpmamXL/+j8ZJijY5aVNH6nHVNxXBo1LsRCUgIICNGzdy+PBhLly4wMKFC8scTIlm2gLb5Nhx3vTq1R1X19ol1tF3P5RqVyzv/e7dqzvWNtZ8883Bp8pP8/Ll7t3/3mybOWsqKSmpJCaq6dq9AzY2VqzfsIR+/XviNX0iQcFzcHCwIzQ0/7en0LAInJ0dOXX6PFWrVqVu3ZdQqVRcvfr3c++3XDGkWmANpd9Fy9+7F8q2bV8Q+zCOatXMcHcfQ3p6Bg8fxtPt9U7UqfcSK9YsoHW7FvgGzGCq11jsHGoS+iB/3UtEeBSOzvYc++UUFhbVOfD9Lk7+ek6R9mI5bMcvv1yH+w/CcPeYg421FV06t9NpTtrUkXpc9U2FNtNaW1sTExODt7c3o0ePJje37Et2lGgALGqbjI9PwNi45GU7+u6HUu2K5b3fo0YNw9jIiIkTRtKnzxs0atig2PIqlYqA+cuZ57eEIz8dJy4ugQnjZ/D9/sMsX7qO2bMWEBoWgdO/N7VaLk6Eh+dLtl5pUJe6dV1x95ijiH7LFUOqFdVQ+l1ceZVKRUpKKkH+K1i5ZD3nTv/O7Zt3mTZ5DufPXmT+3CWsXr6J8NAInP79ls7J2YHI8Gg6dmhNREQUPXq9Q/t2LYmJeag4e7EctuPIyOjCrQxiYh9ibl5NpzlpW0cgL8WuUVmyZAnR0dFUq1YNc3NzEhMTWbBggaTGn1yjYmNjxaqVgcTHJxITE0vggpUa60stX5Qtm1cwP2BZic9lWzRvzKxZUwkLiyQ+PqFUMfTdD236bQgx5Mrpi13rqV7dnNCwcNat28GxX04B4DvXizO/nufkyXMMHdqffv17kpGRya+/nuPTnV89s705Pp5Ur1EdOztbJk2ehYf7GIYM6Us1MzOysrL46cgJPDx9FNFvfcdo2aIJM2dOITQ0ElPTqrh7zCE7O/u55vS8YhTcfwYP6kPbFs2oXMWEr3d/x88/nXxmGwuXzuVR1iNqWFoww8OPxu0aM2LEO0RFxZCZmcmSpWv1fi/U97H18/Vm4MDeXLlyHaBUtmNbW2vWrgkmPDwKlUqFl7efxl+a5RjvAoo7rnKvURn74lCdtbXp3rPvc8+bYicq69at4+LFi/Tr1w9HR0e+++47AgOL39b8WQgzraC8IV5PFuga8XpyxULuicqYF9/WWVub732ts7Z0SbGPfuLi4ti0aRMxMTE8evSIrCxxMxYIBAKBQCAvxU5Uiir0jxw5IhT6AoFAIBAojFwdfpSKUOgLBEUQj3EEukabxzgNrGpJKv93QqjkGALDQJd7/SgVodAXCAQCgUCgWIRCXyAQCASCcoqSH9noimInKtevX+eVV17RaTAlKvSVqPFWYk4FSDm22pSXWscQjq0Sc5IjhhJzkiOGg4Md69YupmWLJvzfNz/g4TkXgA8+GEq3rh0A6NfnDUYPmcztG3ef2UafIT359eezqBPVqFQq1q9bTGpKGtY2VkycNJMmjV9h6lQ3GjSoR+iDcIa8PbrEfkP5v/a00fTLde/UF7n62wVHMRS7mHby5Mls2rSJR48e6SyYEhX6StR4KzEnkH5stVFNK037LUcMJeYkRwwl5iRHjCmTR5Od/Yg//riKo6NDYflPP/0KtzHTOH78DJ8EbeD2jbsM/WAQsxd4EbByDr0GvF7YRoeubQsV/K3aNyc2Ng7vGfM4ceIMQ4f2p1o1My5evMyvv56jYcP6JfYZDOPa00bTL0c/BGWj2IlK27Ztad68OVOnTmXDhg2cPn26zMGUqNBXosZbiTmB9GOrjWpaadpvOWIoMSc5YigxJzliWFtbMfvjhcQ+jCM6Kuax8ubm1RgwoCd7P/sWU7OqfDBuGOnpGcQ9TKDTa+14qW5tAlfNpUXbJkz3m8pYj5HY2ttw717+YtqwsAhcnB2pUqUyVlaWdOrYhgcPSuf1MIRrTxtNvxz90CcVeq8fgFatWrF+/XratWvHP/9oNgiWBiUq9JWo8VZiTkrFEI6tEnOSI4YSc5IjRtHy9g52j5X/cNQwtm3b/e//qUhLTWNl4Fo2LN/KhTN/cPfWfXw8Arh47jJL/VezadUOIkOjqFUrvz0XFyfCwiOZ7j0Re/uahIVH0qJFYzp2bFNiv6WixLHQRtNf3u+dFWGvn2LNtGvXruXPP/+kb9++DBgwgLlz5xIQECCp8fKg0FeixluJORWltMdW2/JS6hjCsVViTnLEUGJOcsQoKN+saSN+/PEokVExHDh4lOvXb7L36y2MnzAD25z8xzojxr9H/YZ1qVylMt/tOcDJo2ee2eZk/4lkZT3CyqoG4yfM4I3XOzNixDsYGVXCwd6OLt0GldjvAsrztaeNpl/X/ZDbTPt+7cE6a+vz+/+ns7Z0SbETlcDAQHx8fNi0aROvvvoq3377LYsXS1s0JBT6AoFAIB3hUSm/yD1Rea/2IJ219cX9b3TWli4RZlqBQCAQCMopFcFMW+xEpcBMCzB79mzatm0rW1ICgUAgEAgEoOHRjy4Qj34EAoFA/9S1dJJU/lZihJ4yEcj96Gdo7YE6a+ur+9/qrC1dIsy0AoFAIBCUUyr0Xj/6wFBMhlD+DY5Ktf7qO4YSj62ra20CA2YRGRlDTEwsixaXvAGoIRg7lTgWUuo8a9z6vPk648eNYODgkTrNCaB588Yc/ekr+g34gNOnzwP5ryPv/24nt67eJicnB59pgcXW7zekFyd/PkPSvzbbdWsXFdpsly1fx5JFvtSq5UylSiqWr9jA5i27NOYj9ZxS6v1cm+tPG+O2QHuKXaOSlJREXl4e586d4/jx4+Tmln2pjaGYDA3B4KhU629FPLaWNSzw9VuM93Q/erzRtcR8tImhRGOnEsdCSp0nx63Pm69Tq5Yz5uZmOs/JycmejeuXkpHx+D+63bp1IDoqltzcXP64cAWAd0cMZs4CbxasnEvvAW8Ulu3YrV2hzbZL53aP2WzfGTqAnZ/uofvrQ/j5518ZOeKdEnOSek4p9X4u9frTxritTyr0Ytp58+YxceJEzp8/T0REBPPmzStzMEMxGRqCwVGp1t+KeGwvXrpCXFwC+/Zu5eatOyXmo00MJRo7lTgWUuo8OW4HDh5lw8adOu8DQERENK3b9kKtTn7s5+fPX8JtrBdzPAPo/Fp76tZ3ZcS490hPzyTuYQKdX2vPS3VrE/SJHy3aNuWjeR6M9xiFg6PdYzbb9PQMvtj9DUOG9KVfv54c/PHnEnOSek4p9X4u9frTxritT/Ly8nT2USrFTlScnJywsrJiypQpvPfee1SuXLnMwQzFZCgVJfZbqdZffcdQ4rFt2rQhxsZGDHlrNNnZOTRt2lDnOSnR2KnEsZBSR5tx0zan4mjevDFVq1YBIClBjZGxEWmp6SwPDGHd8s1cOHOJu7fuM9vdn4vn/mTxvFVsWLWdB/fDH7PZRkRG8+mOEIyNjXjRtRXt27XE0rKGxthSzyml3s+1HUeBfBS7RqVKlSpcuHCBM2fOcPLkSRITE8scbNPmz1i1MpDBg/tw+/bdEp/tSS2vTR2fOZ707NmNK1eu07Fj61KZDKWixH5rE0MqSoyhxGNrbGTEmpAgQkMjMTIy4tq1GzrPSZvzXN/9VuJYSKmjzbhpm9OTeHtN4MDBo/xz4zZBCz8mJTaZqMgYbly7yQ//d4jg1X6YVK7Mt3t+KKwz292/8M9nzl7g/feHsGypP1ZWNQgNjaBd+5Z06NCaiRNGcebMeRITkzTmIPWcUur9XNtxVApKVt/rimJfT163bh2XLl2ib9++1K1bly+++ILAwOIXaj0L8XqyQCAQ6B/xerJykPv15P4v9NNZW/sffK+ztnRJsY9+4uLi2LhxIzExMSQmJpKVlSVnXgKBQCAQCEogT4f/KRWh0BcIBAKBQKBYil2jUqDQt7a2Zvbs2YSElPxuuUAgEAjkR+qjHKmPirSJIZCHirBGpdiJSt26dQv/XLlyZby8vGRJSCAQCAQCQelQ8mvFuqLYRz8CgUAgEAgEzxuNCv0zZ84QHx+Pk5MTzZs3L3MwJerttalTEdXiSlSwG0oMOXIqUK1fvHiFnJwcxo2frvMYSuy3HNs4aFNeah2p/XBycmDf11tQqVRM9ZjD0sV+fDByCjk5uVor99evW1yo3J84aSbdu3VgTUgQiUlqHjwIZ9DgURpzkuMc1EaHX94V+ko2yuqKYr9RWbNmDffu3ePChQv89ttvzJ8/v8zBlKi316ZORVSLK1HBbigx5MipqGr97NnfS2xfjn4ocSxA+v1Aafec6tXNmT3LHRsba9LSMxjj9r/CONoq91u3b/6Ycn/o0P4MHTqAGR/Np227PrRo3lgR56A221GUd4V+hX7rJykpiffeew8jIyPGjx+vk71+lKi316ZORVSLK1HBbigx5MipQLU+dpw3vXp1x9W1ts5jKLHfcmzjoLR7TnJyClPdP+bEybPExMSyYOGKwjjaKvdr2ts+ptx3cXYkIyOThMQkDny/i1u37iriHNRmO4ryrtCvCGj0qCxdupQaNWpw6NAhKlUq+3IWJerttaEiqsWVqGA3lBhy5FRUtR4fn4CxcckbpxtCv+XYxkEOdNUPbZX7EWFRjyn3w8IjUQEmJib06PUOdeq8SHJKaqlj6+sc1EaHX94V+rnk6eyjVDS+9XPx4kX69u1L165d+fXXX8scTIl6e22oiGpxJSrYDSWGHDkVqNbDwiIJD4/kn39u6zyGEvstxzYOclDWfjRsWJ+6dV/SWrl/6fxluvTvUqjcHz9hBlkZmaxbs4jExCTu3QvlypXrGnOQ4xzURodf3hX6FeGtn2IV+oGBgfj4+LBp0yZeffVVvv32WxYvLt1CtAKEQl8gEAiUh/Co6A+5Ffqvu/TUWVtHww7rrC1dIsy0AoFAIBCUUyrCo59iJyoFZlqA2bNn07ZtW9mSEggEAoFAUDIV4a2fYh/96ALx6EcgEAgMA9cajpLK30mK1FMmykbuRz/dXN4ouVAp+SXsiM7a0iUlL7sWCAQCgUCgSHIrwGJaMVERCAQCgaCcYvjTlFJMVMLCwoiJicHOzg4Xl5KtjpqQqipWqmJbiWpxqYp7OfoN+tWEa1NHiTGUmJPUOk+Os5WVJSdPfEvffsOLHXel9tvMzJTly/xJSlRj72DHNC9fEhISn2tOcsRo1rQhPx7czf7vDxMZGf1YneCgOVTJMWb1ko3F1u/8Wnvu3w3lwd388V64YDZmZmbY2FjhPX0eL730Ars/X8/DuAQSE5Po0fOdEnMqiJ2Wls78gOWlKg+lv+9oszWINsp9QdnQaHFbunQpW7du5cKFC2zdupVVq1aVKZhUVbFSFdtKVItLVdzL0W99b02gTR0lxlBiTlLqPDnOJiYmBC38mJs3NVs+ldrvMW7DSUlOxdTMlOvX/9E4SZErJ33HqF7dnJCQIO7cuUfgghWP1RnjNhwTY5PCsr36v45v8Ef4L5nNB2PeLfx5s5aNcXC0B8C5liPOzo54TpvLtm27GT/uA0aNeBe/eUto3aYXrzSoV+qxKBq7NEi572izNYg2mn59UqHf+gHIzs7G19eXcePG4evrS0pKSpmCSVUVK1WxrUS1uFTFvRz91vfWBNrUUWIMJeYkpc6T47x40VyWLV9PfHzic8upLDFefrkO9x+E4e4xBxtrK7p0bvfcc9J3jOTkFC5fvk54eNRjdXr36o6ZmSnf7T9UWHaylxtpqWkkq5Np37k1VtY1CF7txxt9ujLOYySz50+jpr0tDx7kLyoNDYvA2dmRPODatRvs27uVyKiYEnN6VuzSIOW+o83WINpo+vVJhZ+oJCcns337dg4cOMD27dvJysoqUzCpqmKlKraVqBaXqriXo99SUeJYyBFDiTlpW8fCojp1XF/E02Mc7dq1ZPYs9+eakzYxIiOjUauTAYiJfYi5ebXnnpNcMapVM3uszqhRw6hfvy6enuPo1rMTDRrWA5WKlUHrWBa4hhM/nyEhPolZU/05cuA4G1ftIMh3BZFhUTg7578lVMvFifDwSLKysqj1gjND3hqNmakpFjUsNOZTNHafPm/QpMmrJfZBKtpsDVLelfvlEY2vJ//666/MmzePKVOmsG/fPnr06MEHH3xQ6saffD25ZYsmzJw5hdDQSExNq+LuMYfs7Oxi69vYWLFqZSDx8YnExMQSuGBliTGl1lFiDG1y8vP1ZuDA3oUa65IU93L0u4Atm1cwP2BZiWtUlDgWcsRQYk7a1HlynEsad6X229bWmrVrggkPj0KlUuHl7adxU1YljoW2Mc6ePsCvp37D3t4W7+nzuH79JgBdu7RnUM+erF6ykb6De9GjT1cyM7P47fRF9n7+3TPb+8DjfaysLLGzs2XS5Fm0aN6YLZuXE5+QxKOsR3TqMkDj/b+Arl3a07Vre0lrVKB09x2p900o+d8xuV9PbufUTWdtnY34RWdt6RKNExVfX188PT2ZPHkyX3zxRaFWv7QIj4pAIBAYBsKjUjrknqi0cdLdOpnfIo6XqtzNmzfZuHEj1atXx9bWFrVaTU5ODhkZGfj7+3Pq1Cl++OEHsrOzGTt2LM7Ozvj5+WFpaYmzszOjR4+WlJfGt37S0tLIzc0lKCiItLQ04uLEttYCgUAgEBgiarUatfrpRcgWFhZYWPz3qC4hIYGZM2dia2vL2LFjqVWrFr6+vmzevJlz586xa9cuQkJCUKvVBAcH06ZNG3r06EHv3r2ZMmUK77//PlWrVi11XhonKmPHjiUsLIxmzZpx9epVhg8fLqHLAoHgeaGSWF65y+gESkHqNyS1qttKjhGa/FBynYqOLtX3O3bsICTk6detp0yZwtSpUwv/v02bNgBs3LiRpk2bYmKS/2aWg4MDMTExABgbG2NtbU1iYiIPHz6kTp38N6oKfubgUPIi8gI0TlTq169f+OdGjRqVulGBQCAQCAT6R5e74IwcOZLBgwc/9fOi36YAZGZmEhQUxOuvv06dOnXYunUrAFFRUTRs2BATExOys7NRq9VYWlo+NoGJi4vDyspKUl7CTCsQCAQCgeCpRzzFERISwrVr10hJSaFKlSpYW1sTGBhIdnY2bm5uqFQqfHx8yMjIwNPTE3t7e3x9fTl9+jTt2rWjSpUqkvKSdVNCQzE4gn6Nq0rutxRLpKH0W6lm2nVrF9OyRRP+75sf8PCcW/h3BefmiBLOzWHDBnHo0C/5QjOVinVrF5Gakoa1jRUTJ82kx+udWbkykISERHJyc2nb7k1F9FtpMcAwDMzamMOfdQ4W2F5T4pKxrWnNTI95ZGU+W23R5bUO3L8byv27oQBMnDX2MZvtB/97mwkTRpKelsELLzjToVM/jW/lyHFfK8lmK/di2haOnXTW1sXIX3XWli7R6FG5du3aU5+yYAgGR9C/cVWp/ZZqiTSUfivRTDtl8miysx/xxx9XcXR0KKzzrHNz7Jj/sWL5fDZtXMbbb/cv/HmPN7piYWEOQJfO7YiNjcN7xjxOnDjD0KH9effdQXhN96NVm17Y29nSqFGD595vJcYwFAOzVONqcedgge11wdylqJOSqVP3Rd7s/wb+i2YTuNSHkWPfK2yjeasmODgV2GydnrLZHjt2ijf7vM/SZesID48s8dVhOe5r2ths9UleXp7OPkpF40Rlw4YN7Ny5k2PHjhV+yoIhGBxB/8ZVJfZbG0ukIfRbjhja5GRtbcXsjxcS+zCO6CKWz4Jz8+G/56aZmSlT3ceQlp5OTOxDevXsRv36ddiyeQUdOrRm0SJfZs6cioOjHffu5f9WGxYWgYuzI+rkFK5du8H4cSO4c+c+FtXNn3u/lRjDUAzMUo2rxZ2DBbbXnn1fQ6WC69f+Yer0caSmpqFWJ9OhSxusrC1ZEjKfnn26M9FjNHMCpmP3DJvtxUtXyMjIZEHgLE6cPFtiTnLc17Sx2QrKhsaJSlBQEM7OzkyZMqXwUxYMxeAoFUPotzaWSEPotxwxypqTvYNdsXVUKhWpKanMmRPEggUrOXnyHDdu3MZtzDROnz7PzJnzWbRoNQ/uh1OrVn57Li5OhIVHEhUVzdIlfkRFx3D/Qbji+q2UGFJRar/LYg4veg4W2F5ta9rg+1EQkH8eLl+4hiUBn3D86GkS4hOZMcWXwweOsW7VVhbMXUpE+NM226ZNG+Y//pn4kV5s5trc17Sx2eqTiqDQ17hG5cyZM+zfv5/OnTvz9ddf061btzKZaQ3F4FiAvoyrSu63FEukofRbyWbaZk0b8eOPR4mMiuHAwaOFJtGtRc5NT49xNGnyKpWrVOazz77mxx9/fqq9PGD1JwvJynqElVUNxk+YwfZtq3j9tc7ExyeQnpHBm33eJyam+NdHDWEstK0D5d/ArK05/Mlz8J2hAxg4sDd3/r4LwNoVW2jQsB49+7xGZmYm5079zleff/PMNkdPG/mYzbaOa23+b982vv/hCIBebOYg7b5Wks1W7jUqTRza66yty1FndNaWLimVmXbSpEns3r1bmGkFgnKC8KgInjcV1aMiJiq6p1Rm2uDgYGGmFQgEAoFAYeQqeBGsrtC4RqXATPviiy9y584dYaYVCAQCgUBB5OnwP6UizLQCgQGi3FuOoKKgzWOcupZOksrfSoyQHENQ/hBmWoFAIBAIyikV4dGPmKgIBAKBQFBOUfIjG12hcaKSk5NDREQEtWrVAiA8PBxnZ+3f5DEEvb22daTk5OLixP7vdnLx4hVycnIYN366znNSosZbiTkVUBG3TJBapyS1+PPISYkxpKrq5cipACnnudTyrq61WbZkHi1bNmXX53uZ/fEC4PH7XTWjKvhMCyy2jX5DenHy5zMkJapRqVSsX7f4sW0funfrwJqQIBKT1Dx4EM6gwaM05iT1nAXtj61AezQupp0zZw47duwgKChf2rNq1aoyBTMEvb02daTm1K1bB6KjYsnNzeXs2d/10g8laryVmBNU3C0TpNaRqhY3lH5LLS9VVS9HTiD9PJda3tnJgfiERP744yqdO7Ut/HnR+90fF64A8O6IwcxZ4M2ClXPpPeCNwrIdu7XDvHo1AFq3b/7Utg9Dhw5gxkfzaduuDy2aN9b5OQvaHVt9kpuXp7OPUtE4UbGyssLHx4euXbsWbuNcFgxBb69NHak5nT9/CbexXowd502vXt1xda2t85yUqPFWYk5QMbdM0KaOVLW4ofRbanmpqno5cgLp57nU8id/Pcf0Gf40atyAu/ceFP686P2u82vtqVvflRHj3iM9PZO4hwl0fq09L9WtTdAnfrRo25SP5nkw3mMUNe1tn9r2ISMjk4TEJA58v4tbt+7q/JwF7Y6tPqkIb/1onKgkJCRw9epVOnToQKVKlfj999L9dl8chqC3lyOv5s0bU7Vq/jbY8fEJGBuXvJRIiWpxQ8hJGwyl31LrSFWLG0q/pZaXqqqXIyc5KOj3sWOnyMn5r99F73dJCWqMjI1IS01neWAI65Zv5sKZS9y9dZ/Z7v5cPPcni+etYsOq7USERT217YMKMDExoUevd6hT50WSU1I15qSNDl+Jx9bQ0WimPXr0KDt37vz/9s49LKpy++NflIvc5Q6SWobhBQFJIY4i5LEUM5+sLKUQE6+IAiqKqQgyyk0I84IHTRR7xFNmHj2JeU75qx4lDC8ppR4RL4jDRRlAhEG5/P7wwBmHmX1jZtzi+vjwPOqz1rvWO2vvPYv97v19MW3atGdGQr8dMclZ883Ja/gwxMQswu3bUlRXy0QjsS1mKfln+ZgS67z5+rBJiz+NnMQYg69UvS5yUoTrcc7Xvn3eg1wH4vzvf+DixUv453fHYdyrV8f1Dg0t2Ja2EzPnB2HQ0IEwMDTEP776Dj//cErlmBHrwp/Y9uHddwKRmLgaNTW1uH+/Hv6vT2HMie8xC7B/trpWpn3Z1ktjY127e1ZjY2kSktAnCIIgREF30FHRdaMywHa4xsYquXtOY2NpEsalH5LQJwiCIAjiaUIS+gRBEATxjNLW1qqxH7HCuPTTVWjphyAIgtAWYlwq0vXST38bd42NdfPeBY2NpUkY76gQBEEQBEE8TXQuoS821VgxxhCjeqou5qErlWBAXEqzYqyFLmKIMSehPnyOJyFqqACQlLgKDQ2NWJeQzmprYmKM9LR41NbUwcHRHlFLYiGT1TD6CD2XuOYltBaZ21Lwqpc7vj30HSIi1wD4n5ptcdE1tLS08FKzzdyW/ISabeCE17FxYxxqa+pwtfg6Ppw2lzEnIcrC2kSLiyKigfMdlVu3bnX5AxGjaqwYY4hRPVUX89BFToD4lGbFWAtdxBBjTkJ8+B5PQtRQZ4d+BAN9A07jt9vX338AYxNjXLr0H9YmBRD2WfHJS8j44Qtnobn5Ec6fL4KTk2OHj1A12zF+r3VSs7Wzs8H0oPnw8Z2I1wNGseYkRFlYm7SiTWM/YoWxUcnOzsaCBQsgkUiwe/duSCTqu1YuiFE1VowxxKieKsRHjLUAxKc0K8Za6CKGGHMS4sP3eOKrhjph/OswMTHG4SPfcxofAF555WXcvHUbiyNWwcbaCmP8XmP14TtvvnkJqYW1tRVWfroBVXfvoaK8ssOnXc12VWQCLzVbRyf7Tmq2WTu+RHNzM27dOIOSkpusOQlRFia6BmOjUlFRgczMTFRWViI2NhY9e/bUVV4AxKkqqYsYYlRPFeIjxloIoTvMW4wxxJiTUB8+8FVDnTlzGlxdXRAZORcTJ46Du/sQVh+ptAJ1dfcBAJVVd2FmZsrqw3fefPPqai0cHO07fISq2d66WdZJzTZkxgeoqqqGk7M77OxsMFphHyJVCFEW1iZtbW0a+xErjG/9REdHIyQkBEOGDEFZWRnS0tKQkZHBeXB1b/2ISTVWjDHEqJ6qi3noUiUYEI/SrBhroYsYYsxJqA/A/XgSooYKAP5jfOHv78vpGRVbW2ts25qEsrJy6OnpYcnStWhtZX79VOi8uebVlVp4erjh2LEfIC2vxNG8HzrUbOur7qNGVstZzba45g42f77hCTXb+fNmYOmSBbh79x709PTg4zuRUSmYTVlY12/9OPVmb1y5Iq1h3+voacDYqJw4cQLHjx/HmDFjkJubCx8fHyxcuJDz4PR6MkEQBKEt6PXk56NRYVz6OXHiBKKjo7Fnzx7k5ORAJpPpKi+CIAiCIFh4HnZPZnw9mST0CYIgCEK8iPnZEk3BuPRz5coVNDY2wtPTE0VFRZDL5RgxYgTnwWnphyAIghALAyydePuU1Ep52et66cfO0lVjY1XVXtHYWJqE8Y6Kq+v/PgA3NzetJ0MQBEEQBKGIzpVpCYIgCILQDM/D0g/nRqW8vByOjuwCPUzwlVDu08cRa1ZHoa72Pvr2c8YnsyJZpaZJUl08MfhKhXeXeYtxywQhst9inLe2YwiVtxdbLYKDpyLA/y8AgMAJYzHuzamMr0ALmTffnITMu10q/+zZi2hpacHcectYc1Ilud9OdOxiyBvl2JyapXYMv7G+uHm9FLeuP67jhvUrYWJiAhsbKyxdFofgj9/H/PkhaGyQo18/Z/xl9CROr5dri9bnoFFhVabNzs7Grl27EBkZiezs7C4F4yuh7PrKywic8FfY2FrD0NCA0wWDJNXFE4OvVHh3mbcYt0wQIvstxnlrO4YQeXsx1mLv3q8ROjsKP/2UjzWxyaxfpELmzTcnIfNWlMr/9dczrPbqJPeBx3L/+gb/+918/Nt/RWzScsSnrkTw7A87/t/z1WFwdHIAADj3dYKzsxMio9YgO3s/5s0NxokTJxE4MQgb0zJRViZ9qk3K8wJjo1JTU4OysjK4ubnBysqqy8+p8JVQLq+oxOR3ZmD2nCW4dasMo0d5azwGQJLq2orBVyq8u8xbjFsmCJH9FuO8tR2D7zELiLMWAGBmZorJk9/EF7v2sdoKmTffnITMu10qf87cpRg//nUMGNCf0V6d5H673P8PeT912C5cEoqGBw24X3cfvn4jYWVtiaTNazFuoj/mRoRg5boo2DnY4tatxw/Hlt6+A2dnJ5w9dxFyeRPWS2Lw8y+/cpqHNnkelGkZG5WoqCh4e3ujsLAQdnZ2GDlyZJeC8ZVQnjd3Bsz/K/1cXl4Jc3MzjccQAkmLc/PhKxXeXeYtxi0ThMh+i3He2o7B95gVgi5qAQCfzJyG7Oz9nHISMm++OQmZt6JUfnW1DPr6zE8rqJPcb5f7/2TBRwh4czQGDR0I6OkhIzETaZKt+PnHfMiqaxGzKB7/PvoTsjbtQWLsZ5DeLoez8+M3hfq+0AdlZVJ4eAx9vPyzYLkoJPSfh00JGV9Pzs/Px5EjR+Ds7IyzZ88iICAAwcHBnAdXfj2Zr4Syu/sQSNbF4GrxdfTqZYRFiz/Vmgw0QJLqmo7BVyq8u8xbjFsmsMl+P415iLEWQuXtAXHVAgC+OfAF5s2Pxt271ay2QubNNych8/YaPgwxMYtw+7YU1dUyzvVWlty/dOkqAGBa4CT4jHoVm1Oz8NaU8Xhjoj+amh7i9Kmz+GbfYZVjBkcEwcqqN+ztbRG2MAYvD+iPbw9m45/f/RsAnrqEvqUZ+zIdV2rrr2lsLE3C2KjExsYiMjISYWFh2L9/PyQSCVavXs15cNJRIQiCIMRCd9RRsTAdoLGx6h6IczdoUqYlCIIgiGeU5/6tnzlz5uD27dt48cUXUVJSgo8++khXeREEQRAEQTAv/XQVWvohCIIgnmX47tB8ufI3LWWiGlOTFzU21oOGGxobS5OQMi1BEARBPKM8D0s/Om1UuoNypS5iiDEnXcQQY066igFoVx25naTEVWhoaMS6hHRWWyExtD2H7lBvISqwfH2ExOCjHKtYZx8fL4x/83Xo6/dEVtZenDyl+o4CX5VZVbHYjinvkcOxZMl8SKUVkEorkJK6lXV8ExNjbM9Mgf8YX5z+7TzmzlsGmaymI9/iomtoaWnB6iiJ2jEmvTsev/yYj1qOon8EPxifUWmnqqoKFRUVXQ7WHZQrdRFDjDnpIoYYc9JVDG2rIwOPlTkN9A04jS8khi7m0B3qLUQFlq+PkBhclWOV6xw2fyZCZ0dh/oLlWBmzWK0fX5VZVbHY+PDDd/DZZ39D1JJY9O3rzCoQBwALw2Zh8KCBaG5uRnHxdchkNZ3yPV948fH4M6Zg1fqlWJ+xBhMmj+sYY1TAazAzN+WUo6Z57gXf4uLi8M033yApKQmZmZnYvn17l4J1B+VKXcQQY066iCHGnHQVQ9vqyO3KnIePfM9pfCExtD0HIT5ijCFEBZavj5AYXJVjlevc3NwCAGhslMPExFitH1+VWVWx2MjY9DfMnv0RNqashY2NFRzs7Vh9+vd/ATl7v8b//ZQPq96WGOP32hP5ropMgN9YX7i4DsCMudPR2NiEe3dl8Bvri5dc+iPx87Xw8vHA8rgIzIuYySlPTdKmwT9ihbFRaWpqwrlz55CWloa4uDjU1NR0KVh3UK7URQwx5qSLGGLMSVcx+MI3RrsyZ2TkXEycOA7u7kM0HoMvYq2FGNVv+foIiSFEORZAh9iZsXEvNDbK1drxVZkVQv9+LyB14zYsWx4PALhxs5TVRyqtQF3dfQDAvXvVMPuvGrpivrWyOvTU74mGB41Il2xBZvpOFOafw/Xim1i5OB5nC35HStwm/G3Tbo3PiWB56+f9998HAKSkpEAmk2Hv3r3IyMjgPHhXlWnFqFypixhizEkXMcSYk65itKMtdeR2/Mf4wt/fl9MzKkJjaHMO3aHeQlRg+foIicFXOba9zp6ebnh70pswMTFGevp2FJ75XaU9X5VZVbHYjql+/ZyRnhaPe/dkuHGjFIlJn7OObWtrjW1bkzB40ECc/u08Ll36D747+m8Y9+qFmJhFqK+6jxpZLbal7cTM+UEYNHQgDAwN8Y+vvsPPP5zqNJ6u3/oxNGJfzuTKwybmz/dpwdionDp1Ctu3b8f06dORm5sLHx8fLFy4kPPg9HoyQRAE8Swj9teTDTT4PftIx6q6XGFc+jl27BgyMjKQk5ODnJwcyGQyXeVFEARBEIQIkUqlWLJkCdasWYPDh1XvkaRJOEnoJyYmkoQ+QRAEQYgMTT4CW1dXh7q6zm9YWVhYwMLCouPfX331FT755BMMGzYMoaGhmDx5sgaz6Axjo9Iuoe/p6YmioiLeEvq63pyJIAiCIJ4nNPk9u3nzZmzZ0lk/Jzw8HIsWLer49927d+Hg4ADg8YPb2oaxUXF1de34u5ubm9aTIQiCIAji6RASEoIpU6Z0+n/FuykA4OjoiMrKStjb26O1tVXreWl1rx+CIAiCILoXlZWVSE5OhpGREfz8/BAYGKjVeNSoEARBEAQhWjhJ6BMEQRAEQTwNqFEhCIIgCEK0UKNCEARBEIRooUaFIAiCIAjRQo0KQRAEQRCihRoVgiAIgiBEi+b32WZAKpUiNTUVpqamGDlyJGfZ3dLSUkRERODgwYOstlevXkVWVhbMzc1ha2uLsLAwRvvLly9jx44dMDY2RmBgIEaNGsUao7m5GTNnzsSKFSswbNgwVvvi4mLExMTAxcUFgwYNwsyZMxntS0tLsX37dpiYmMDe3h5z5sxhjbFv3z5cuHABcrkcN2/exLfffstoX15ejq1bt8LExAS9evVCVFQUa4wzZ84gJycHdnZ2GD16NAICAhjn0F6zpKQktLS0QC6XIz4+Hj16qO6PFX1OnjyJr7/+mnG37nb7AwcOID4+HsbGxqioqEBcXBwsLS1ZfdasWQNzc3MYGBhg6dKlrDkBwN///ndcuXIFsbGxrPahoaGws7MDAKxZswampqasPikpKWhra8O9e/cQGxsLMzMztfaJiYnIzs4GABQUFGDLli0YOnQoa4xNmzahqakJd+7cwdq1a2FlZaXWPjc3F59++imsrKzQu3dvhIWFdaqf8jlXV1fHWG9l+9mzZyM5ORkjR47EhAkTVOav6GNtbY2qqirGeivbS6VSxlqrum6w1VrZ58yZM4z1Vravr69nrbWij42NDUpLSwGor7dyjEePHjHWWtn+2rVrjLUGnrxmjh8/Hnl5eTAzM4OBgQGio6MZ7QMDA+Hh4YGVK1di7ty5aq+fij4BAQH417/+BSsrK8hkMkgkEhgYGKi1Hzt2LI4ePQpra2s4Ojpi1qxZrDHar/3p6emwtLREaGgoq316ejoGDhwIQ0NDrFu3TmUMQjPotFERsj9AXV0d9u/fr/Yir4xMJsOKFStga2vL6Qu+oaEBK1asgL6+PlJTUzk1Klu2bIGjoyOnfACgsLAQtra2aG1thYeHB6v9nj174OTkhLKyMs5COkFBQQgKCsKGDRsQERHBal9SUoKCggIMHDgQfn5+nGLk5eVh0aJFcHFxwcKFC9U2Koo1Ky0txcOHDxEbG4udO3eioKAAvr6+jD7nzp1DSUkJGhsb1eaiaF9fX4833ngDo0ePxq5du/Dnn3+yxnjw4AEmTZoEX19fhIeHo7m5Gfr6+mrtAeDcuXO4fv06p5waGhpQXl6OPn364IUXXlB7/Cr6XLhwARUVFbC0tMSAAQNUfnEp2ru6uiIpKQmFhYUYMGCA2iZFeR6HDx/GiBEj0NjY2ElxUtn+2rVrcHBwwPLly7Fv3z7k5+d3OkeUz7m+ffsy1lvZ/ssvv4Senp7az1WVT0hICGO9Fe2Dg4MRFhbGWGvl8dlqrSpGdXU1Y70V7WfPng1LS0vGWqvKa8eOHYz1VrYvKSlhrLVyTq+88gpjrYEnr5lTp05FUFAQQkNDER8fj9LSUvTt21etfWpqKn777Tf06tWL8bNV9ImMjMSyZcvg7u6OhIQESKVS9OvXjzHGjBkz4O7ujvnz56ttVJR96uvrUV9fr/aXHEX7iIgItLW1oUePHpx+WSW6hk6XfoTsD2BhYYHo6GiYmJhwsvf29oatrS2ysrLw1ltvsdp7eXnhwYMHCAsL4/SFfejQIXh6eqJ///6c8gGAESNGYMOGDZBIJNi8eTOr/fXr1zFq1CjEx8dj69atnONcvnwZPXv2xEsvvcRq6+DggOzsbGRkZCAvL4/T+CEhIfjiiy+QkpKicuOqdhRrVlVV1VHzdtllNp/hw4cjODiYMRdFewsLC4wePRqXLl3ClStX4O3tzepjbm4OX19fSCQStV+SivaVlZU4evQoPv74Y045tbW1ITk5GQkJCaitrcXvv//O6lNaWgpTU1PExsaivr4eFy5cYLRvZ+fOnYx36RR9mpubkZCQgOTkZLi5ueH06dOM9oMHD4aRkRHWrVuHK1euoLq6upO94jnn4eHBWm/lc3TWrFkYMmSI2vxV+bDVW9H+vffeY621ov3EiRNZa60qBlu9Fe0nTZrEWmtV8waY661sz1ZrZXu2WgNPXjPDw8OfqHdFRQWjvZ+fHyIjIzs1Gkw+06ZNg7u7O06ePIkePXqo9FWOMXToUCxevBh9+vThFMPZ2RnFxcUYP348J/vp06cjNTUVGzZsQH5+vsp5E5pDp42K4oVLW/sDNDU1IS4uDoMHD8Y777zDan/x4kXY29tj//79OHDgAKv9999/jx9//BEnTpzA7t27OeVUVFSE1tZWGBoadrplqQo7OzuYmZnB0NCQc4MGALm5uazLSu3s27cPDQ0NMDAwgJGRESef8vJyhIeHIzo6GsbGxpx8HB0dUVVV1eFvb2/PyY8vR44cQV5eHtavX8+pCa6pqcHly5exevVqeHh4oKCggNH+2LFjqKurw2effYbTp0/jzz//ZLSvqqpCeXk5AKB379549OgRa062trYdv4lbWVlxOkfOnz8PDw8PGBoastoCj5vZX375BQBgY2MDuVzOaC+Xy+Hq6orY2Fg4OTmpvPArnnPvvvsua735nqOqfNjqrWgfEBDAWmtF+/v373OqtaKPp6cna70V7Z2cnDjVWnnebPVWtHdxcWGttaL9hAkTWGsNPHnNPHjwYMc1vby8vKNpUWfP5Rqrymf37t24fPkyVq1axWqfm5uLsrIyfP7552hra8ONGzdYfc6ePQupVIrs7GwcP34cd+7cYY0hk8kAAObm5jrZ7+Z5RqdLP1OnTu3YH+C9997TSowtW7bgjz/+QH19PY4dO4b169cz2svlcqxatQrW1tbw9/dnHT8zMxPA410mmZ7RUKRfv35Yv349zMzM8MEHH7Dah4aGYtOmTbC0tMTbb7/NKQYA3L59W+WFQhVTpkxBWloa7O3t1T4XoIyDg0NH/aZOncrJp0+fPjA2NoZEIkFzc7PKtd+ucvXqVSQlJcHX1xcxMTEdt32ZMDIywo4dO2BtbY36+npMnz6d0X7GjBkAHn/Gu3btYr0D4OTkhM2bN6OwsBCtra149dVXWefh7e2NQ4cOISEhAXp6eqxzAB4vR/G59ezq6ors7GxIJBLI5XLW49HY2Bi//vor8vPzoaenBy8vr042iueckZERrK2tGevN9xxV9snKykJJSQljvRXtjx49iocPHzLWWnkOycnJrLVW9pHL5Yz1VrQ3NDREW1sba62VPysXFxfGeivHaGpqYqy18vgGBgaMtQaevGaOGzcO165dg0QigYWFRadlH2V7LtdYVT579uyBl5cXli1bhoiIiE5xFO19fHywcePGjmuhqpxUxQgJCUFBQQGKiopUNmnKMXJycnD8+HE4ODjAycmJ07wIYdBePwRBEARBiBZ6PZkgCIIgCNFCjQpBEARBEKKFGhWCIAiCIEQLNSoEQRAEQYgWalQIgiAIghAt1KgQBEEQBCFaqFEhCIIgCEK0/D9wA2/aDZ4KtQAAAABJRU5ErkJggg==\n",
      "text/plain": [
       "<Figure size 720x504 with 2 Axes>"
      ]
     },
     "metadata": {},
     "output_type": "display_data"
    }
   ],
   "source": [
    "cm = confusion_matrix(\n",
    "\ty_test.argmax(axis=1),\n",
    "\tpred.argmax(axis=1)\n",
    ")\n",
    "df_cm = pd.DataFrame(\n",
    "\tcm, range(36), range(36)\n",
    ")\n",
    "plt.figure(figsize = (10,7))\n",
    "sns.set_theme(font_scale=0.7)\n",
    "sns.heatmap(df_cm, annot=True)"
   ]
  },
  {
   "cell_type": "code",
   "execution_count": 202,
   "id": "c9f72266",
   "metadata": {},
   "outputs": [],
   "source": [
    "model.save('char&mnist_recog.h5')"
   ]
  },
  {
   "cell_type": "code",
   "execution_count": null,
   "id": "c11c0afd",
   "metadata": {},
   "outputs": [],
   "source": []
  }
 ],
 "metadata": {
  "kernelspec": {
   "display_name": "Python 3 (ipykernel)",
   "language": "python",
   "name": "python3"
  },
  "language_info": {
   "codemirror_mode": {
    "name": "ipython",
    "version": 3
   },
   "file_extension": ".py",
   "mimetype": "text/x-python",
   "name": "python",
   "nbconvert_exporter": "python",
   "pygments_lexer": "ipython3",
   "version": "3.10.4"
  }
 },
 "nbformat": 4,
 "nbformat_minor": 5
}
