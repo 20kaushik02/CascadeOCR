{
 "cells": [
  {
   "cell_type": "code",
   "execution_count": 46,
   "id": "494856a5",
   "metadata": {},
   "outputs": [],
   "source": [
    "import tensorflow as tf\n",
    "import numpy as np\n",
    "import pandas as pd\n",
    "from tensorflow import keras\n",
    "import matplotlib.pyplot as plt\n",
    "import seaborn as sns\n",
    "import random"
   ]
  },
  {
   "cell_type": "code",
   "execution_count": 47,
   "id": "38385a99",
   "metadata": {},
   "outputs": [],
   "source": [
    "from sklearn.preprocessing import MinMaxScaler\n",
    "from sklearn.model_selection import train_test_split\n",
    "from sklearn.utils import shuffle\n",
    "from sklearn.metrics import confusion_matrix"
   ]
  },
  {
   "cell_type": "code",
   "execution_count": 48,
   "id": "89b318ee",
   "metadata": {},
   "outputs": [],
   "source": [
    "model = keras.models.load_model('char&mnist_recog.h5')"
   ]
  },
  {
   "cell_type": "code",
   "execution_count": 49,
   "id": "eefdd366",
   "metadata": {},
   "outputs": [],
   "source": [
    "label_mapper = {\n",
    "\t0:'A', 1:'B', 2:'C', 3:'D', 4:'E', 5:'F', 6:'G', 7:'H', 8:'I', 9:'J', 10:'K', 11:'L', 12:'M', 13:'N', 14:'O', 15:'P', 16:'Q', 17:'R', 18:'S', 19:'T', 20:'U', 21:'V', 22:'W', 23:'X', 24:'Y', 25:'Z'\n",
    "    ,30:'0', 31:'1', 32:'2', 33:'3', 34:'4', 35:'5', 36:'6', 37:'7', 38:'8', 39:'9'}"
   ]
  },
  {
   "cell_type": "code",
   "execution_count": 50,
   "id": "1d42120b",
   "metadata": {},
   "outputs": [],
   "source": [
    "dataset = pd.read_csv(\"../../data/char&mnist.csv\").astype('float32')"
   ]
  },
  {
   "cell_type": "code",
   "execution_count": 51,
   "id": "c290655a",
   "metadata": {},
   "outputs": [],
   "source": [
    "X = dataset.drop('label',axis = 1)\n",
    "y = dataset['label']"
   ]
  },
  {
   "cell_type": "code",
   "execution_count": 52,
   "id": "7ad139e9",
   "metadata": {},
   "outputs": [],
   "source": [
    "# split data+labels\n",
    "X_train, X_test, y_train, y_test = train_test_split(X,y)\n",
    "\n",
    "# scale data\n",
    "standard_scaler = MinMaxScaler()\n",
    "X_train = standard_scaler.fit_transform(X_train)\n",
    "X_test = standard_scaler.transform(X_test)"
   ]
  },
  {
   "cell_type": "code",
   "execution_count": 53,
   "id": "ba06c7f2",
   "metadata": {},
   "outputs": [
    {
     "data": {
      "image/png": "[encoded data removed]",
      "text/plain": [
       "<Figure size 216x180 with 4 Axes>"
      ]
     },
     "metadata": {
      "needs_background": "light"
     },
     "output_type": "display_data"
    }
   ],
   "source": [
    "X_shuffle = shuffle(X)\n",
    "\n",
    "plt.figure(figsize = (3,2.5), frameon=False)\n",
    "plt.rcParams[\"axes.grid\"] = False\n",
    "row, col = 2, 2\n",
    "for i in range(4):  \n",
    "    plt.subplot(col, row, i+1)\n",
    "    plt.imshow(\n",
    "\t\tX_shuffle.iloc[i].values.reshape(28,28),\n",
    "\t\tinterpolation='nearest', cmap='Greys')\n",
    "plt.show()"
   ]
  },
  {
   "cell_type": "code",
   "execution_count": 54,
   "id": "c370ef1f",
   "metadata": {},
   "outputs": [],
   "source": [
    "X_test = X_test.reshape(X_test.shape[0], 28, 28, 1).astype('float32')"
   ]
  },
  {
   "cell_type": "code",
   "execution_count": 55,
   "id": "f214cb51",
   "metadata": {},
   "outputs": [
    {
     "name": "stdout",
     "output_type": "stream",
     "text": [
      "4317/4317 [==============================] - 14s 3ms/step\n"
     ]
    }
   ],
   "source": [
    "pred = model.predict(X_test)"
   ]
  },
  {
   "cell_type": "code",
   "execution_count": 56,
   "id": "7c310e0e",
   "metadata": {},
   "outputs": [],
   "source": [
    "random_list = []\n",
    "random_numbers = []\n",
    "for i in range(0,4):\n",
    "    n = random.randint(0,X_test.shape[0])\n",
    "    random_list.append(X_test[n].reshape(28,28))\n",
    "    random_numbers.append(n)"
   ]
  },
  {
   "cell_type": "code",
   "execution_count": 57,
   "id": "82f5bf09",
   "metadata": {},
   "outputs": [
    {
     "data": {
      "image/png": "[encoded data removed]",
      "text/plain": [
       "<Figure size 360x288 with 4 Axes>"
      ]
     },
     "metadata": {
      "needs_background": "light"
     },
     "output_type": "display_data"
    }
   ],
   "source": [
    "plt.figure(figsize = (5, 4), frameon=False)\n",
    "plt.rcParams[\"axes.grid\"] = False\n",
    "plt.axis('off')\n",
    "row, col = 2, 2\n",
    "for i in range(4):  \n",
    "    plt.subplot(col, row, i+1)\n",
    "    plt.imshow(\n",
    "\t\trandom_list[i].reshape(28,28),\n",
    "\t\tinterpolation='nearest', cmap='Greys')\n",
    "plt.show()"
   ]
  },
  {
   "cell_type": "markdown",
   "id": "ac1fe71d",
   "metadata": {},
   "source": [
    "# PREDICTIONS"
   ]
  },
  {
   "cell_type": "code",
   "execution_count": 58,
   "id": "e53d164e",
   "metadata": {},
   "outputs": [
    {
     "name": "stdout",
     "output_type": "stream",
     "text": [
      "X\n",
      "H\n",
      "D\n",
      "M\n"
     ]
    }
   ],
   "source": [
    "\n",
    "for i in range(0,4):\n",
    "    print(label_mapper[pred[random_numbers[i]].argmax()])"
   ]
  }
 ],
 "metadata": {
  "kernelspec": {
   "display_name": "Python 3 (ipykernel)",
   "language": "python",
   "name": "python3"
  },
  "language_info": {
   "codemirror_mode": {
    "name": "ipython",
    "version": 3
   },
   "file_extension": ".py",
   "mimetype": "text/x-python",
   "name": "python",
   "nbconvert_exporter": "python",
   "pygments_lexer": "ipython3",
   "version": "3.10.4"
  }
 },
 "nbformat": 4,
 "nbformat_minor": 5
}
